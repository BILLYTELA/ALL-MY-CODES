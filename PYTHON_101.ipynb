{
  "cells": [
    {
      "cell_type": "markdown",
      "metadata": {
        "id": "view-in-github",
        "colab_type": "text"
      },
      "source": [
        "<a href=\"https://colab.research.google.com/github/BILLYTELA/ALL-MY-CODES/blob/main/PYTHON_101.ipynb\" target=\"_parent\"><img src=\"https://colab.research.google.com/assets/colab-badge.svg\" alt=\"Open In Colab\"/></a>"
      ]
    },
    {
      "cell_type": "code",
      "source": [
        "#You can use %s to inject strings into your print statements. The modulo % is referred to as a \"string formatting operator\"."
      ],
      "metadata": {
        "id": "vaFXapX_28_K"
      },
      "execution_count": null,
      "outputs": []
    },
    {
      "cell_type": "code",
      "source": [
        "print(\"I'm going to inject %s here.\" %'something')"
      ],
      "metadata": {
        "colab": {
          "base_uri": "https://localhost:8080/"
        },
        "collapsed": true,
        "id": "C8w4uJo63CMO",
        "outputId": "45f1ac5b-cac4-4b74-b76d-8d3e2d3822cb"
      },
      "execution_count": null,
      "outputs": [
        {
          "output_type": "stream",
          "name": "stdout",
          "text": [
            "I'm going to inject something here.\n"
          ]
        }
      ]
    },
    {
      "cell_type": "code",
      "source": [
        "print('Hello World 1')\n",
        "print('Hello World 2')\n",
        "print('Use \\n to print a new line')\n",
        "print('\\n')\n",
        "print('See what I mean?')"
      ],
      "metadata": {
        "colab": {
          "base_uri": "https://localhost:8080/"
        },
        "id": "pqa1gNeL1Ugf",
        "outputId": "656e9908-ae1a-4284-ddf2-9c9ad0a1b04e"
      },
      "execution_count": null,
      "outputs": [
        {
          "output_type": "stream",
          "name": "stdout",
          "text": [
            "Hello World 1\n",
            "Hello World 2\n",
            "Use \n",
            " to print a new line\n",
            "\n",
            "\n",
            "See what I mean?\n"
          ]
        }
      ]
    },
    {
      "cell_type": "code",
      "source": [
        "#You can pass multiple items by placing them inside a tuple after the `%` operator.\n"
      ],
      "metadata": {
        "id": "LFlCJ-Ki4QyG"
      },
      "execution_count": null,
      "outputs": []
    },
    {
      "cell_type": "code",
      "execution_count": null,
      "metadata": {
        "id": "aQnno6yo2fay",
        "outputId": "7222c6a6-a1f6-4141-b5f4-c1bff5346e32"
      },
      "outputs": [
        {
          "name": "stdout",
          "output_type": "stream",
          "text": [
            "I'm going to inject some text here, and more text here.\n"
          ]
        }
      ],
      "source": [
        "print(\"I'm going to inject %s text here, and %s text here.\" %('some','more'))"
      ]
    },
    {
      "cell_type": "code",
      "source": [
        "print(\" I really need to %s this strings formatting.\"% \"know\")"
      ],
      "metadata": {
        "colab": {
          "base_uri": "https://localhost:8080/"
        },
        "id": "sBCR6lKHCO4x",
        "outputId": "df76e551-ad1e-46c3-b26c-ff6aea81b2be"
      },
      "execution_count": null,
      "outputs": [
        {
          "output_type": "stream",
          "name": "stdout",
          "text": [
            " I really need to know this strings formatting.\n"
          ]
        }
      ]
    },
    {
      "cell_type": "code",
      "source": [
        "print(\"I really need to %s this strings formatting.\" % (\"really know\"))"
      ],
      "metadata": {
        "colab": {
          "base_uri": "https://localhost:8080/"
        },
        "id": "l_6UkiDzCuez",
        "outputId": "7d398fd9-7cd6-421f-e541-fa3aef3b9366"
      },
      "execution_count": null,
      "outputs": [
        {
          "output_type": "stream",
          "name": "stdout",
          "text": [
            "I really need to really know this strings formatting.\n"
          ]
        }
      ]
    },
    {
      "cell_type": "code",
      "source": [
        "x,y= \"really\", \"know\"\n",
        "print(\"I really need to %s %s this strings formatting.\"%(x,y) )"
      ],
      "metadata": {
        "colab": {
          "base_uri": "https://localhost:8080/"
        },
        "id": "bCgk7I7fDWTW",
        "outputId": "e29d5184-3dd7-4269-f381-d4d8d1d9ba19"
      },
      "execution_count": null,
      "outputs": [
        {
          "output_type": "stream",
          "name": "stdout",
          "text": [
            "I really need to really know this strings formatting.\n"
          ]
        }
      ]
    },
    {
      "cell_type": "markdown",
      "source": [
        "You can also pass variable names:"
      ],
      "metadata": {
        "id": "KSh296Op4qRx"
      }
    },
    {
      "cell_type": "code",
      "source": [
        "x, y = 'some', 'more'\n",
        "print(\"I'm going to inject %s text here, and %s text here.\"%(x,y))"
      ],
      "metadata": {
        "colab": {
          "base_uri": "https://localhost:8080/"
        },
        "id": "gOn-xNdw4sGR",
        "outputId": "7ba8b4c0-4130-4b4e-b81d-15ad66628d94"
      },
      "execution_count": null,
      "outputs": [
        {
          "output_type": "stream",
          "name": "stdout",
          "text": [
            "I'm going to inject some text here, and more text here.\n"
          ]
        }
      ]
    },
    {
      "cell_type": "code",
      "source": [
        "#Using the %s %r and .str() .repr() functions\n",
        "#the %r and .repr() functions deliver all the punctuation marks too\n",
        "#\\t inserts tab into the function\n",
        "# the %s converts int and floats as they are into strings\n",
        "# the %d converts int and floats without rounding them off\n",
        "#the %5.2f function: 5 shows the minimum number the string should contain and 2f shows the no of numbers after the decimal point that should be shown\n",
        "#this can be applied using different combinations: %6.2f , %1.3f\n",
        "print(\"I really need to %s this strings formatting.\"% \"know\")\n",
        "print(\"I really need to %r this strings formatting.\"% \"know\")\n",
        "print(\"I really need to %s this strings formatting.\"% \"\\tknow\")\n",
        "print(\"I got %s in that exam.\"% 78.9)\n",
        "print( \"I got %d in that exam.\"% 78.9)\n",
        "print( \"He scored the following:%5.2f\"%(90.67777))\n",
        "print(\"First: %s, Then: %4.3f, Then: %r\" % (\"Niaje\", 0.001, \"kwenda\"))"
      ],
      "metadata": {
        "colab": {
          "base_uri": "https://localhost:8080/"
        },
        "id": "zswdDOgfENdW",
        "outputId": "61e8f896-7912-4ab8-cb86-5e008f998f0c"
      },
      "execution_count": null,
      "outputs": [
        {
          "output_type": "stream",
          "name": "stdout",
          "text": [
            "I really need to know this strings formatting.\n",
            "I really need to 'know' this strings formatting.\n",
            "I really need to \tknow this strings formatting.\n",
            "I got 78.9 in that exam.\n",
            "I got 78 in that exam.\n",
            "He scored the following:90.68\n",
            "First: Niaje, Then: 0.001, Then: 'kwenda'\n"
          ]
        }
      ]
    },
    {
      "cell_type": "code",
      "source": [
        "#using the .format() function\n",
        "print(\"I {0} {1} {2} late\". format(\"am\", \"coming\", \"home\"))"
      ],
      "metadata": {
        "colab": {
          "base_uri": "https://localhost:8080/"
        },
        "id": "7LxGlTUAFF6f",
        "outputId": "93398bbe-0853-4071-d5f8-cfd5ecacceb0"
      },
      "execution_count": null,
      "outputs": [
        {
          "output_type": "stream",
          "name": "stdout",
          "text": [
            "I am coming home late\n"
          ]
        }
      ]
    },
    {
      "cell_type": "code",
      "source": [
        "print(\"%s lost is %s lost.\" %(\"time\", \"time\"))\n",
        "print(\"{x} lost is {x} lost\".format(x=\"time\"))"
      ],
      "metadata": {
        "colab": {
          "base_uri": "https://localhost:8080/"
        },
        "id": "OKo3xe035MLH",
        "outputId": "1899b7d8-1a13-4cad-ac02-1bfd97824ff6"
      },
      "execution_count": null,
      "outputs": [
        {
          "output_type": "stream",
          "name": "stdout",
          "text": [
            "time lost is time lost.\n",
            "time lost is time lost\n"
          ]
        }
      ]
    },
    {
      "cell_type": "code",
      "execution_count": null,
      "metadata": {
        "colab": {
          "base_uri": "https://localhost:8080/"
        },
        "id": "LuDk_riobqmV",
        "outputId": "51b1d45e-799b-4679-b345-88bf58c9cfbb",
        "collapsed": true
      },
      "outputs": [
        {
          "name": "stdout",
          "output_type": "stream",
          "text": [
            "WHAT IS THE NUMBER OF RONGAI RESIDENTS90888\n",
            "WHAT IS THE CAPITAL OF RONGAI76554\n",
            "WHAT IS THE GROWTH RATE 58633\n",
            "PENDA MASOMO MZEE\n"
          ]
        }
      ],
      "source": [
        "rongai_residents=56000\n",
        "capitalCity=\"RONGAI\"\n",
        "growth_rate=67.5\n",
        "\n",
        "requested_residents=int(input(\"WHAT IS THE NUMBER OF RONGAI RESIDENTS\"))\n",
        "requested_capitalCity=str(input(\"WHAT IS THE CAPITAL OF RONGAI\"))\n",
        "requested_growth_rate=float(input(\"WHAT IS THE GROWTH RATE \"))\n",
        "\n",
        "if rongai_residents==requested_residents or capitalCity==requested_capitalCity or growth_rate==requested_growth_rate:\n",
        "\n",
        " print(\"KAZI SAFI MZEE\")\n",
        "else:\n",
        "  print(\"PENDA MASOMO MZEE\")"
      ]
    },
    {
      "cell_type": "code",
      "source": [
        "Mumbai_residents= 35000\n",
        "capitalCity= \"Krishna\"\n",
        "rate_of_inflation= 89.3\n",
        "\n",
        "requested_residents= int(input(\"ENTER THE NO OF RESIDENTS IN MUMBAI\"))\n",
        "requested_capitalCity= str(input(\"ENTER THE CAPITAL OF MUMBAI\"))\n",
        "Mumbai_residents= 35000\n",
        "capitalCity= \"Krishna\"\n",
        "rate_of_inflation= 89.3\n",
        "\n",
        "requested_residents= int(input(\"ENTER THE NO OF RESIDENTS IN MUMBAI \\n\" ))\n",
        "requested_capitalCity= str(input(\"ENTER THE CAPITAL OF MUMBAI\"))\n",
        "requested_rate_of_inflation= float(input(\"ENTER THE RATE OF INFLATION\"))\n",
        "\n",
        "if requested_residents==Mumbai_residents or requested_capitalCity==capitalCity or requested_rate_of_inflation==rate_of_inflation:\n",
        "\n",
        "  print(\"GOOD JOB\")\n",
        "  print(\"THANKS\")\n",
        "\n",
        "else:\n",
        "    print(\"WRONG ANSWER\")"
      ],
      "metadata": {
        "colab": {
          "base_uri": "https://localhost:8080/",
          "height": 373
        },
        "id": "Tfa56v8J6vI_",
        "outputId": "8a5aa1cf-893c-4ff4-92b8-cb4f354b48f7",
        "collapsed": true
      },
      "execution_count": null,
      "outputs": [
        {
          "output_type": "error",
          "ename": "KeyboardInterrupt",
          "evalue": "Interrupted by user",
          "traceback": [
            "\u001b[0;31m---------------------------------------------------------------------------\u001b[0m",
            "\u001b[0;31mKeyboardInterrupt\u001b[0m                         Traceback (most recent call last)",
            "\u001b[0;32m<ipython-input-16-84815272845c>\u001b[0m in \u001b[0;36m<cell line: 5>\u001b[0;34m()\u001b[0m\n\u001b[1;32m      3\u001b[0m \u001b[0mrate_of_inflation\u001b[0m\u001b[0;34m=\u001b[0m \u001b[0;36m89.3\u001b[0m\u001b[0;34m\u001b[0m\u001b[0;34m\u001b[0m\u001b[0m\n\u001b[1;32m      4\u001b[0m \u001b[0;34m\u001b[0m\u001b[0m\n\u001b[0;32m----> 5\u001b[0;31m \u001b[0mrequested_residents\u001b[0m\u001b[0;34m=\u001b[0m \u001b[0mint\u001b[0m\u001b[0;34m(\u001b[0m\u001b[0minput\u001b[0m\u001b[0;34m(\u001b[0m\u001b[0;34m\"ENTER THE NO OF RESIDENTS IN MUMBAI\"\u001b[0m\u001b[0;34m)\u001b[0m\u001b[0;34m)\u001b[0m\u001b[0;34m\u001b[0m\u001b[0;34m\u001b[0m\u001b[0m\n\u001b[0m\u001b[1;32m      6\u001b[0m \u001b[0mrequested_capitalCity\u001b[0m\u001b[0;34m=\u001b[0m \u001b[0mstr\u001b[0m\u001b[0;34m(\u001b[0m\u001b[0minput\u001b[0m\u001b[0;34m(\u001b[0m\u001b[0;34m\"ENTER THE CAPITAL OF MUMBAI\"\u001b[0m\u001b[0;34m)\u001b[0m\u001b[0;34m)\u001b[0m\u001b[0;34m\u001b[0m\u001b[0;34m\u001b[0m\u001b[0m\n\u001b[1;32m      7\u001b[0m \u001b[0mMumbai_residents\u001b[0m\u001b[0;34m=\u001b[0m \u001b[0;36m35000\u001b[0m\u001b[0;34m\u001b[0m\u001b[0;34m\u001b[0m\u001b[0m\n",
            "\u001b[0;32m/usr/local/lib/python3.10/dist-packages/ipykernel/kernelbase.py\u001b[0m in \u001b[0;36mraw_input\u001b[0;34m(self, prompt)\u001b[0m\n\u001b[1;32m    849\u001b[0m                 \u001b[0;34m\"raw_input was called, but this frontend does not support input requests.\"\u001b[0m\u001b[0;34m\u001b[0m\u001b[0;34m\u001b[0m\u001b[0m\n\u001b[1;32m    850\u001b[0m             )\n\u001b[0;32m--> 851\u001b[0;31m         return self._input_request(str(prompt),\n\u001b[0m\u001b[1;32m    852\u001b[0m             \u001b[0mself\u001b[0m\u001b[0;34m.\u001b[0m\u001b[0m_parent_ident\u001b[0m\u001b[0;34m,\u001b[0m\u001b[0;34m\u001b[0m\u001b[0;34m\u001b[0m\u001b[0m\n\u001b[1;32m    853\u001b[0m             \u001b[0mself\u001b[0m\u001b[0;34m.\u001b[0m\u001b[0m_parent_header\u001b[0m\u001b[0;34m,\u001b[0m\u001b[0;34m\u001b[0m\u001b[0;34m\u001b[0m\u001b[0m\n",
            "\u001b[0;32m/usr/local/lib/python3.10/dist-packages/ipykernel/kernelbase.py\u001b[0m in \u001b[0;36m_input_request\u001b[0;34m(self, prompt, ident, parent, password)\u001b[0m\n\u001b[1;32m    893\u001b[0m             \u001b[0;32mexcept\u001b[0m \u001b[0mKeyboardInterrupt\u001b[0m\u001b[0;34m:\u001b[0m\u001b[0;34m\u001b[0m\u001b[0;34m\u001b[0m\u001b[0m\n\u001b[1;32m    894\u001b[0m                 \u001b[0;31m# re-raise KeyboardInterrupt, to truncate traceback\u001b[0m\u001b[0;34m\u001b[0m\u001b[0;34m\u001b[0m\u001b[0m\n\u001b[0;32m--> 895\u001b[0;31m                 \u001b[0;32mraise\u001b[0m \u001b[0mKeyboardInterrupt\u001b[0m\u001b[0;34m(\u001b[0m\u001b[0;34m\"Interrupted by user\"\u001b[0m\u001b[0;34m)\u001b[0m \u001b[0;32mfrom\u001b[0m \u001b[0;32mNone\u001b[0m\u001b[0;34m\u001b[0m\u001b[0;34m\u001b[0m\u001b[0m\n\u001b[0m\u001b[1;32m    896\u001b[0m             \u001b[0;32mexcept\u001b[0m \u001b[0mException\u001b[0m \u001b[0;32mas\u001b[0m \u001b[0me\u001b[0m\u001b[0;34m:\u001b[0m\u001b[0;34m\u001b[0m\u001b[0;34m\u001b[0m\u001b[0m\n\u001b[1;32m    897\u001b[0m                 \u001b[0mself\u001b[0m\u001b[0;34m.\u001b[0m\u001b[0mlog\u001b[0m\u001b[0;34m.\u001b[0m\u001b[0mwarning\u001b[0m\u001b[0;34m(\u001b[0m\u001b[0;34m\"Invalid Message:\"\u001b[0m\u001b[0;34m,\u001b[0m \u001b[0mexc_info\u001b[0m\u001b[0;34m=\u001b[0m\u001b[0;32mTrue\u001b[0m\u001b[0;34m)\u001b[0m\u001b[0;34m\u001b[0m\u001b[0;34m\u001b[0m\u001b[0m\n",
            "\u001b[0;31mKeyboardInterrupt\u001b[0m: Interrupted by user"
          ]
        }
      ]
    },
    {
      "cell_type": "markdown",
      "source": [
        "# CHEDA BANK APP"
      ],
      "metadata": {
        "id": "serivUdBSPOF"
      }
    },
    {
      "cell_type": "code",
      "source": [
        "#inside transactions\n",
        "# Lets create a function for the options\n",
        "#OPTION 1\n",
        "\n",
        "def withdraw_cash():\n",
        "    amount= int(input(\"====UNATAKA PESA NGAPI BUANA??=====\"))\n",
        "    if amount<=available_balance:\n",
        "     print(\"====TOKA HAPA MBIO MBAYA=====\")\n",
        "     print(f\"Succesfully withdrawn ksh{amount}\")\n",
        "     new_balance = available_balance - amount\n",
        "     print(f\"Your new account balance is {new_balance}\")\n",
        "    else:\n",
        "     print(\"======ENDA UTAFUTE PESA KWANZA NDIO UKUJE HAPA FALA HII======\")\n",
        "\n",
        "withdraw_cash()\n",
        "\n",
        "#OPTION 2:\n",
        "\n",
        "def deposit_cash():\n",
        "    agent_no1 =0000\n",
        "    agent_no2 = 1111\n",
        "    agent_no3 = 2222\n",
        "    agent_no4 = 3333\n",
        "    agent_no5 = 4444\n",
        "\n",
        "    agent_no = int(input(\"====ENTER YOUR AGENT NO==\"))\n",
        "    if agent_no == agent_no1 or agent_no2 or agent_no3 or agent_no4 or agent_no5:\n",
        "      amount_to_deposit = int(input(\"HOW MUCH WOULD YOU LIKE TO DEPOSIT?\"))\n",
        "      new_balance= amount_to_deposit + available_balance\n",
        "      print(f\"Succesfully deposited ksh {amount_to_deposit} at Agent No:{agent_no}\")\n",
        "      print(f\"Your new account balance is {new_balance}\")\n",
        "    else:\n",
        "      print(\"Wrong Agent NO\")\n",
        "      print(\"====TRY AGAIN=====\")\n",
        "\n",
        "deposit_cash()\n",
        "\n",
        "#OPTION 3:\n",
        "\n",
        "def check_balance():\n",
        "    print(f\"Your account balance is {available_balance}\")\n",
        "\n",
        "check_balance()\n",
        "\n"
      ],
      "metadata": {
        "id": "zzHL0xQi9jx3",
        "colab": {
          "base_uri": "https://localhost:8080/"
        },
        "collapsed": true,
        "outputId": "078c2433-d6df-4de3-963d-3c47d836f1d8"
      },
      "execution_count": 10,
      "outputs": [
        {
          "output_type": "stream",
          "name": "stdout",
          "text": [
            "====UNATAKA PESA NGAPI BUANA??=====8888\n",
            "====TOKA HAPA MBIO MBAYA=====\n",
            "Succesfully withdrawn ksh8888\n",
            "Your new account balance is 58112\n",
            "====ENTER YOUR AGENT NO==0000\n",
            "HOW MUCH WOULD YOU LIKE TO DEPOSIT?88855\n",
            "Succesfully deposited ksh 88855 at Agent No:0\n",
            "Your new account balance is 155855\n",
            "Your account balance is 67000\n"
          ]
        }
      ]
    },
    {
      "cell_type": "code",
      "execution_count": 3,
      "metadata": {
        "colab": {
          "base_uri": "https://localhost:8080/",
          "height": 106
        },
        "id": "EDonphCPfRC8",
        "collapsed": true,
        "outputId": "7a0b5cf8-3136-497d-e614-04f68c2a7873"
      },
      "outputs": [
        {
          "output_type": "error",
          "ename": "SyntaxError",
          "evalue": "invalid syntax (<ipython-input-3-42bfd13e6f46>, line 89)",
          "traceback": [
            "\u001b[0;36m  File \u001b[0;32m\"<ipython-input-3-42bfd13e6f46>\"\u001b[0;36m, line \u001b[0;32m89\u001b[0m\n\u001b[0;31m    else:\u001b[0m\n\u001b[0m    ^\u001b[0m\n\u001b[0;31mSyntaxError\u001b[0m\u001b[0;31m:\u001b[0m invalid syntax\n"
          ]
        }
      ],
      "source": [
        "#INSIDE CHEDA BANK APP\n",
        "\n",
        "account_name = \"TELA\"\n",
        "stored_pin=5643\n",
        "available_balance=67000\n",
        "account_status = \"ACTIVE\"\n",
        "#inside transactions\n",
        "# Lets create a function for the options\n",
        "#OPTION 1\n",
        "\n",
        "\n",
        "\n",
        "\n",
        "print(\"=======NDIO KUDONJO KWA APP MZEE?=========\")\n",
        "\n",
        "\n",
        "if account_status == \"ACTIVE\":\n",
        "    requested_pin=int(input(\"======WEKA PASSWORD BUANA=====\"))\n",
        "    if requested_pin==stored_pin:\n",
        "        print(\"WELCOME TELA TO YOUR ACCOUNT\")\n",
        "        print(\"============================\")\n",
        "        print(\"Please select one of the options to continue\")\n",
        "        print(\"1.Withdraw Money\")\n",
        "        print(\"2.Deposit Cash\")\n",
        "        print(\"3.Check Balance\")\n",
        "        print(\"4. Send Money\")\n",
        "        print(\"5. Change pin\")\n",
        "\n",
        "        option=int(input(\"Enter your option\"))\n",
        "        if option == 1:\n",
        "              print(\"Proceeding to Withdraw Money\")\n",
        "              print(\"=============================\")\n",
        "        elif option == 2:\n",
        "              print(\"Proceeding to Deposit Cash\")\n",
        "              print(\"=============================\")\n",
        "        elif option == 3:\n",
        "              print(\"Proceeding to Check Balance\")\n",
        "              print(f\"Your balance is {available_balance}\")\n",
        "              print(\"=============================\")\n",
        "        elif option == 4:\n",
        "              print(\"Proceeding to Send Money\")\n",
        "              print(\"=============================\")\n",
        "        elif option == 5:\n",
        "              print(\"Proceeding to Change Pin\")\n",
        "              print(\"=============================\")\n",
        "        else:\n",
        "              print(\"Invalid option selected\")\n",
        "\n",
        "\n",
        "    else:\n",
        "        print(\"WRONG PIN\")\n",
        "\n",
        "else:\n",
        "  print(\"Your account is not active\")\n",
        "  print(\"Please contact your Bank Manager\")\n",
        "  print(\"Thank you\")\n",
        "\n",
        "\n",
        ""
      ]
    },
    {
      "cell_type": "markdown",
      "source": [
        "# SHORT HAND IF"
      ],
      "metadata": {
        "id": "c9cyjJ2xTqHh"
      }
    },
    {
      "cell_type": "code",
      "source": [
        "a=56\n",
        "b=45\n",
        "if a > b: print(\"a is greater than b\")"
      ],
      "metadata": {
        "collapsed": true,
        "colab": {
          "base_uri": "https://localhost:8080/"
        },
        "id": "8BdR3tNxTtKt",
        "outputId": "cf0b19d3-65ed-4dc8-ca12-a7a36f2a775a"
      },
      "execution_count": null,
      "outputs": [
        {
          "output_type": "stream",
          "name": "stdout",
          "text": [
            "a is greater than b\n"
          ]
        }
      ]
    },
    {
      "cell_type": "code",
      "source": [
        "a = 2\n",
        "b = 330\n",
        "key=()\n",
        "print(\"A\") if a > b else print (\"B\")"
      ],
      "metadata": {
        "colab": {
          "base_uri": "https://localhost:8080/"
        },
        "id": "JpSifnanT_8o",
        "outputId": "0a6f6584-0a6a-4411-f658-dc4e9587b65b"
      },
      "execution_count": null,
      "outputs": [
        {
          "output_type": "stream",
          "name": "stdout",
          "text": [
            "B\n"
          ]
        }
      ]
    },
    {
      "cell_type": "code",
      "source": [
        "i = 1\n",
        "while i < 6:\n",
        "  print(i)\n",
        "  i += 1"
      ],
      "metadata": {
        "colab": {
          "base_uri": "https://localhost:8080/"
        },
        "id": "Rd4VDxgjXqvV",
        "outputId": "8a71be73-613d-4d2b-e03f-9fed5754a08d"
      },
      "execution_count": null,
      "outputs": [
        {
          "output_type": "stream",
          "name": "stdout",
          "text": [
            "1\n",
            "2\n",
            "3\n",
            "4\n",
            "5\n"
          ]
        }
      ]
    },
    {
      "cell_type": "code",
      "source": [
        "t = 1\n",
        "while t < 8:\n",
        "  if t== 6:\n",
        "   break\n",
        "  print(t)\n",
        "  t += 1"
      ],
      "metadata": {
        "id": "h8gbvbDYgg87",
        "colab": {
          "base_uri": "https://localhost:8080/"
        },
        "outputId": "4e2c6919-9658-4441-9f3c-305828ab8a0e"
      },
      "execution_count": null,
      "outputs": [
        {
          "output_type": "stream",
          "name": "stdout",
          "text": [
            "1\n",
            "2\n",
            "3\n",
            "4\n",
            "5\n"
          ]
        }
      ]
    },
    {
      "cell_type": "code",
      "source": [
        "i = 1\n",
        "while i < 6:\n",
        "  print(i)\n",
        "  if i == 3:\n",
        "    break\n",
        "  i += 1"
      ],
      "metadata": {
        "colab": {
          "base_uri": "https://localhost:8080/"
        },
        "id": "EPl4GOlxYDe4",
        "outputId": "f8aa566a-3ea4-4b4d-c6c5-1a7bbafa6741"
      },
      "execution_count": null,
      "outputs": [
        {
          "output_type": "stream",
          "name": "stdout",
          "text": [
            "1\n",
            "2\n",
            "3\n"
          ]
        }
      ]
    },
    {
      "cell_type": "code",
      "source": [
        "i = 0\n",
        "while i < 6:\n",
        "  i += 1\n",
        "  if i == 3:\n",
        "    continue\n",
        "  print(i)"
      ],
      "metadata": {
        "colab": {
          "base_uri": "https://localhost:8080/"
        },
        "id": "eA4F44iVbUi4",
        "outputId": "ee880e3d-2449-4cb5-96e0-090ae991fa4b"
      },
      "execution_count": null,
      "outputs": [
        {
          "output_type": "stream",
          "name": "stdout",
          "text": [
            "1\n",
            "2\n",
            "4\n",
            "5\n",
            "6\n"
          ]
        }
      ]
    },
    {
      "cell_type": "code",
      "execution_count": null,
      "metadata": {
        "colab": {
          "base_uri": "https://localhost:8080/"
        },
        "collapsed": true,
        "id": "2STdMxMIlCSN",
        "outputId": "7eaa1b1e-b29e-4d8b-c47e-05c21f81b869"
      },
      "outputs": [
        {
          "name": "stdout",
          "output_type": "stream",
          "text": [
            "NAJUA HAUNA DOO LAKINI HII NI APP TU WEKA AMOUNT AMA 0 KUTOKA HAPA25000\n",
            "HIO PESA IN KSH NI 175000\n",
            "NAJUA HAUNA DOO LAKINI HII NI APP TU WEKA AMOUNT AMA 0 KUTOKA HAPA45\n",
            "HIO PESA IN KSH NI 315\n",
            "NAJUA HAUNA DOO LAKINI HII NI APP TU WEKA AMOUNT AMA 0 KUTOKA HAPA0\n"
          ]
        }
      ],
      "source": [
        "while True:\n",
        "  usd=int(input(\"NAJUA HAUNA DOO LAKINI HII NI APP TU WEKA AMOUNT AMA 0 KUTOKA HAPA\"))\n",
        "  if usd==0:\n",
        "     break\n",
        "  kes=usd*7\n",
        "  print(f\"HIO PESA IN KSH NI {kes}\")\n"
      ]
    },
    {
      "cell_type": "markdown",
      "source": [
        "# FUNCTIONS"
      ],
      "metadata": {
        "id": "Wm8FeFcLZux1"
      }
    },
    {
      "cell_type": "code",
      "source": [
        "#There are two types of functions:\n",
        "#a) In-built functions\n",
        "#b) User specified\n",
        "#How to create and call a function\n",
        "\n",
        "#1. def function_name\n",
        "#       body\n",
        "\n",
        "def add_numbers():\n",
        "    num1 =int(input(\"Enter the first number\"))\n",
        "    num2 = int(input(\"Enter the second number\"))\n",
        "    result = num1 + num2\n",
        "    print(\"The quotient is\", result)\n",
        "\n",
        "add_numbers()\n",
        "\n",
        "def subtract_numbers():\n",
        "\n",
        "\n"
      ],
      "metadata": {
        "colab": {
          "base_uri": "https://localhost:8080/",
          "height": 339
        },
        "id": "RPAkMB6o9qCV",
        "outputId": "1cee78e4-f260-4f37-8a5b-5205eb5837bf",
        "collapsed": true
      },
      "execution_count": null,
      "outputs": [
        {
          "output_type": "error",
          "ename": "KeyboardInterrupt",
          "evalue": "Interrupted by user",
          "traceback": [
            "\u001b[0;31m---------------------------------------------------------------------------\u001b[0m",
            "\u001b[0;31mKeyboardInterrupt\u001b[0m                         Traceback (most recent call last)",
            "\u001b[0;32m<ipython-input-4-fb123bb417f0>\u001b[0m in \u001b[0;36m<cell line: 15>\u001b[0;34m()\u001b[0m\n\u001b[1;32m     13\u001b[0m     \u001b[0mprint\u001b[0m\u001b[0;34m(\u001b[0m\u001b[0;34m\"The quotient is\"\u001b[0m\u001b[0;34m,\u001b[0m \u001b[0mresult\u001b[0m\u001b[0;34m)\u001b[0m\u001b[0;34m\u001b[0m\u001b[0;34m\u001b[0m\u001b[0m\n\u001b[1;32m     14\u001b[0m \u001b[0;34m\u001b[0m\u001b[0m\n\u001b[0;32m---> 15\u001b[0;31m \u001b[0madd_numbers\u001b[0m\u001b[0;34m(\u001b[0m\u001b[0;34m)\u001b[0m\u001b[0;34m\u001b[0m\u001b[0;34m\u001b[0m\u001b[0m\n\u001b[0m",
            "\u001b[0;32m<ipython-input-4-fb123bb417f0>\u001b[0m in \u001b[0;36madd_numbers\u001b[0;34m()\u001b[0m\n\u001b[1;32m      8\u001b[0m \u001b[0;34m\u001b[0m\u001b[0m\n\u001b[1;32m      9\u001b[0m \u001b[0;32mdef\u001b[0m \u001b[0madd_numbers\u001b[0m\u001b[0;34m(\u001b[0m\u001b[0;34m)\u001b[0m\u001b[0;34m:\u001b[0m\u001b[0;34m\u001b[0m\u001b[0;34m\u001b[0m\u001b[0m\n\u001b[0;32m---> 10\u001b[0;31m     \u001b[0mnum1\u001b[0m \u001b[0;34m=\u001b[0m\u001b[0mint\u001b[0m\u001b[0;34m(\u001b[0m\u001b[0minput\u001b[0m\u001b[0;34m(\u001b[0m\u001b[0;34m\"Enter the first number\"\u001b[0m\u001b[0;34m)\u001b[0m\u001b[0;34m)\u001b[0m\u001b[0;34m\u001b[0m\u001b[0;34m\u001b[0m\u001b[0m\n\u001b[0m\u001b[1;32m     11\u001b[0m     \u001b[0mnum2\u001b[0m \u001b[0;34m=\u001b[0m \u001b[0mint\u001b[0m\u001b[0;34m(\u001b[0m\u001b[0minput\u001b[0m\u001b[0;34m(\u001b[0m\u001b[0;34m\"Enter the second number\"\u001b[0m\u001b[0;34m)\u001b[0m\u001b[0;34m)\u001b[0m\u001b[0;34m\u001b[0m\u001b[0;34m\u001b[0m\u001b[0m\n\u001b[1;32m     12\u001b[0m     \u001b[0mresult\u001b[0m \u001b[0;34m=\u001b[0m \u001b[0mnum1\u001b[0m \u001b[0;34m+\u001b[0m \u001b[0mnum2\u001b[0m\u001b[0;34m\u001b[0m\u001b[0;34m\u001b[0m\u001b[0m\n",
            "\u001b[0;32m/usr/local/lib/python3.10/dist-packages/ipykernel/kernelbase.py\u001b[0m in \u001b[0;36mraw_input\u001b[0;34m(self, prompt)\u001b[0m\n\u001b[1;32m    849\u001b[0m                 \u001b[0;34m\"raw_input was called, but this frontend does not support input requests.\"\u001b[0m\u001b[0;34m\u001b[0m\u001b[0;34m\u001b[0m\u001b[0m\n\u001b[1;32m    850\u001b[0m             )\n\u001b[0;32m--> 851\u001b[0;31m         return self._input_request(str(prompt),\n\u001b[0m\u001b[1;32m    852\u001b[0m             \u001b[0mself\u001b[0m\u001b[0;34m.\u001b[0m\u001b[0m_parent_ident\u001b[0m\u001b[0;34m,\u001b[0m\u001b[0;34m\u001b[0m\u001b[0;34m\u001b[0m\u001b[0m\n\u001b[1;32m    853\u001b[0m             \u001b[0mself\u001b[0m\u001b[0;34m.\u001b[0m\u001b[0m_parent_header\u001b[0m\u001b[0;34m,\u001b[0m\u001b[0;34m\u001b[0m\u001b[0;34m\u001b[0m\u001b[0m\n",
            "\u001b[0;32m/usr/local/lib/python3.10/dist-packages/ipykernel/kernelbase.py\u001b[0m in \u001b[0;36m_input_request\u001b[0;34m(self, prompt, ident, parent, password)\u001b[0m\n\u001b[1;32m    893\u001b[0m             \u001b[0;32mexcept\u001b[0m \u001b[0mKeyboardInterrupt\u001b[0m\u001b[0;34m:\u001b[0m\u001b[0;34m\u001b[0m\u001b[0;34m\u001b[0m\u001b[0m\n\u001b[1;32m    894\u001b[0m                 \u001b[0;31m# re-raise KeyboardInterrupt, to truncate traceback\u001b[0m\u001b[0;34m\u001b[0m\u001b[0;34m\u001b[0m\u001b[0m\n\u001b[0;32m--> 895\u001b[0;31m                 \u001b[0;32mraise\u001b[0m \u001b[0mKeyboardInterrupt\u001b[0m\u001b[0;34m(\u001b[0m\u001b[0;34m\"Interrupted by user\"\u001b[0m\u001b[0;34m)\u001b[0m \u001b[0;32mfrom\u001b[0m \u001b[0;32mNone\u001b[0m\u001b[0;34m\u001b[0m\u001b[0;34m\u001b[0m\u001b[0m\n\u001b[0m\u001b[1;32m    896\u001b[0m             \u001b[0;32mexcept\u001b[0m \u001b[0mException\u001b[0m \u001b[0;32mas\u001b[0m \u001b[0me\u001b[0m\u001b[0;34m:\u001b[0m\u001b[0;34m\u001b[0m\u001b[0;34m\u001b[0m\u001b[0m\n\u001b[1;32m    897\u001b[0m                 \u001b[0mself\u001b[0m\u001b[0;34m.\u001b[0m\u001b[0mlog\u001b[0m\u001b[0;34m.\u001b[0m\u001b[0mwarning\u001b[0m\u001b[0;34m(\u001b[0m\u001b[0;34m\"Invalid Message:\"\u001b[0m\u001b[0;34m,\u001b[0m \u001b[0mexc_info\u001b[0m\u001b[0;34m=\u001b[0m\u001b[0;32mTrue\u001b[0m\u001b[0;34m)\u001b[0m\u001b[0;34m\u001b[0m\u001b[0;34m\u001b[0m\u001b[0m\n",
            "\u001b[0;31mKeyboardInterrupt\u001b[0m: Interrupted by user"
          ]
        }
      ]
    },
    {
      "cell_type": "code",
      "source": [
        "#There are twotypes of functions:\n",
        "#a) In-built functions\n",
        "#b) User specified\n",
        "#How to create and call a function\n",
        "\n",
        "#1. def function_name\n",
        "#       body\n",
        "\n",
        "def add_numbers():\n",
        "    num1 =int(input(\"Enter the first number\"))\n",
        "    num2 = int(input(\"Enter the second number\"))\n",
        "    result = num1 + num2\n",
        "    print(\"The quotient is\", result)\n",
        "\n",
        "add_numbers()\n",
        "\n",
        "def subtract_numbers():\n",
        "    num1 =int(input(\"Enter the first number\"))\n",
        "    num2 = int(input(\"Enter the second number\"))\n",
        "    result = num1 - num2\n",
        "    print(\"The quotient is\", result)\n",
        "\n",
        "subtract_numbers()\n",
        "\n",
        "def multiply_numbers():\n",
        "    num1 =int(input(\"Enter the first number\"))\n",
        "    num2 = int(input(\"Enter the second number\"))\n",
        "    result = num1 * num2\n",
        "    print(\"The quotient is\", result)\n",
        "\n",
        "multiply_numbers()\n",
        "\n",
        "def divide_numbers():\n",
        "    num1 =int(input(\"Enter the first number\"))\n",
        "    num2 = int(input(\"Enter the second number\"))\n",
        "    result = num1 / num2\n",
        "    print(\"The quotient is\", result)\n",
        "\n",
        "divide_numbers()\n",
        "\n",
        "def application():\n",
        "    print(\"1. Add numbers\")\n",
        "    print(\"2. Subtract numbers\")\n",
        "    print(\"3. Multiply numbers\")\n",
        "    print(\"4. Divide numbers\")\n",
        "    print(\"5. Exit\")\n",
        "    choice = int(input(\"Enter your choice: \"))\n",
        "\n",
        "    if choice == 1:\n",
        "        add_numbers()\n",
        "    elif choice == 2:\n",
        "        subtract_numbers()\n",
        "    elif choice == 3:\n",
        "        multiply_numbers()\n",
        "    elif choice == 4:\n",
        "        divide_numbers()\n",
        "    else:\n",
        "\n"
      ],
      "metadata": {
        "colab": {
          "base_uri": "https://localhost:8080/",
          "height": 339
        },
        "outputId": "1cee78e4-f260-4f37-8a5b-5205eb5837bf",
        "collapsed": true,
        "id": "43aIy8kaAcNq"
      },
      "execution_count": null,
      "outputs": [
        {
          "output_type": "error",
          "ename": "KeyboardInterrupt",
          "evalue": "Interrupted by user",
          "traceback": [
            "\u001b[0;31m---------------------------------------------------------------------------\u001b[0m",
            "\u001b[0;31mKeyboardInterrupt\u001b[0m                         Traceback (most recent call last)",
            "\u001b[0;32m<ipython-input-4-fb123bb417f0>\u001b[0m in \u001b[0;36m<cell line: 15>\u001b[0;34m()\u001b[0m\n\u001b[1;32m     13\u001b[0m     \u001b[0mprint\u001b[0m\u001b[0;34m(\u001b[0m\u001b[0;34m\"The quotient is\"\u001b[0m\u001b[0;34m,\u001b[0m \u001b[0mresult\u001b[0m\u001b[0;34m)\u001b[0m\u001b[0;34m\u001b[0m\u001b[0;34m\u001b[0m\u001b[0m\n\u001b[1;32m     14\u001b[0m \u001b[0;34m\u001b[0m\u001b[0m\n\u001b[0;32m---> 15\u001b[0;31m \u001b[0madd_numbers\u001b[0m\u001b[0;34m(\u001b[0m\u001b[0;34m)\u001b[0m\u001b[0;34m\u001b[0m\u001b[0;34m\u001b[0m\u001b[0m\n\u001b[0m",
            "\u001b[0;32m<ipython-input-4-fb123bb417f0>\u001b[0m in \u001b[0;36madd_numbers\u001b[0;34m()\u001b[0m\n\u001b[1;32m      8\u001b[0m \u001b[0;34m\u001b[0m\u001b[0m\n\u001b[1;32m      9\u001b[0m \u001b[0;32mdef\u001b[0m \u001b[0madd_numbers\u001b[0m\u001b[0;34m(\u001b[0m\u001b[0;34m)\u001b[0m\u001b[0;34m:\u001b[0m\u001b[0;34m\u001b[0m\u001b[0;34m\u001b[0m\u001b[0m\n\u001b[0;32m---> 10\u001b[0;31m     \u001b[0mnum1\u001b[0m \u001b[0;34m=\u001b[0m\u001b[0mint\u001b[0m\u001b[0;34m(\u001b[0m\u001b[0minput\u001b[0m\u001b[0;34m(\u001b[0m\u001b[0;34m\"Enter the first number\"\u001b[0m\u001b[0;34m)\u001b[0m\u001b[0;34m)\u001b[0m\u001b[0;34m\u001b[0m\u001b[0;34m\u001b[0m\u001b[0m\n\u001b[0m\u001b[1;32m     11\u001b[0m     \u001b[0mnum2\u001b[0m \u001b[0;34m=\u001b[0m \u001b[0mint\u001b[0m\u001b[0;34m(\u001b[0m\u001b[0minput\u001b[0m\u001b[0;34m(\u001b[0m\u001b[0;34m\"Enter the second number\"\u001b[0m\u001b[0;34m)\u001b[0m\u001b[0;34m)\u001b[0m\u001b[0;34m\u001b[0m\u001b[0;34m\u001b[0m\u001b[0m\n\u001b[1;32m     12\u001b[0m     \u001b[0mresult\u001b[0m \u001b[0;34m=\u001b[0m \u001b[0mnum1\u001b[0m \u001b[0;34m+\u001b[0m \u001b[0mnum2\u001b[0m\u001b[0;34m\u001b[0m\u001b[0;34m\u001b[0m\u001b[0m\n",
            "\u001b[0;32m/usr/local/lib/python3.10/dist-packages/ipykernel/kernelbase.py\u001b[0m in \u001b[0;36mraw_input\u001b[0;34m(self, prompt)\u001b[0m\n\u001b[1;32m    849\u001b[0m                 \u001b[0;34m\"raw_input was called, but this frontend does not support input requests.\"\u001b[0m\u001b[0;34m\u001b[0m\u001b[0;34m\u001b[0m\u001b[0m\n\u001b[1;32m    850\u001b[0m             )\n\u001b[0;32m--> 851\u001b[0;31m         return self._input_request(str(prompt),\n\u001b[0m\u001b[1;32m    852\u001b[0m             \u001b[0mself\u001b[0m\u001b[0;34m.\u001b[0m\u001b[0m_parent_ident\u001b[0m\u001b[0;34m,\u001b[0m\u001b[0;34m\u001b[0m\u001b[0;34m\u001b[0m\u001b[0m\n\u001b[1;32m    853\u001b[0m             \u001b[0mself\u001b[0m\u001b[0;34m.\u001b[0m\u001b[0m_parent_header\u001b[0m\u001b[0;34m,\u001b[0m\u001b[0;34m\u001b[0m\u001b[0;34m\u001b[0m\u001b[0m\n",
            "\u001b[0;32m/usr/local/lib/python3.10/dist-packages/ipykernel/kernelbase.py\u001b[0m in \u001b[0;36m_input_request\u001b[0;34m(self, prompt, ident, parent, password)\u001b[0m\n\u001b[1;32m    893\u001b[0m             \u001b[0;32mexcept\u001b[0m \u001b[0mKeyboardInterrupt\u001b[0m\u001b[0;34m:\u001b[0m\u001b[0;34m\u001b[0m\u001b[0;34m\u001b[0m\u001b[0m\n\u001b[1;32m    894\u001b[0m                 \u001b[0;31m# re-raise KeyboardInterrupt, to truncate traceback\u001b[0m\u001b[0;34m\u001b[0m\u001b[0;34m\u001b[0m\u001b[0m\n\u001b[0;32m--> 895\u001b[0;31m                 \u001b[0;32mraise\u001b[0m \u001b[0mKeyboardInterrupt\u001b[0m\u001b[0;34m(\u001b[0m\u001b[0;34m\"Interrupted by user\"\u001b[0m\u001b[0;34m)\u001b[0m \u001b[0;32mfrom\u001b[0m \u001b[0;32mNone\u001b[0m\u001b[0;34m\u001b[0m\u001b[0;34m\u001b[0m\u001b[0m\n\u001b[0m\u001b[1;32m    896\u001b[0m             \u001b[0;32mexcept\u001b[0m \u001b[0mException\u001b[0m \u001b[0;32mas\u001b[0m \u001b[0me\u001b[0m\u001b[0;34m:\u001b[0m\u001b[0;34m\u001b[0m\u001b[0;34m\u001b[0m\u001b[0m\n\u001b[1;32m    897\u001b[0m                 \u001b[0mself\u001b[0m\u001b[0;34m.\u001b[0m\u001b[0mlog\u001b[0m\u001b[0;34m.\u001b[0m\u001b[0mwarning\u001b[0m\u001b[0;34m(\u001b[0m\u001b[0;34m\"Invalid Message:\"\u001b[0m\u001b[0;34m,\u001b[0m \u001b[0mexc_info\u001b[0m\u001b[0;34m=\u001b[0m\u001b[0;32mTrue\u001b[0m\u001b[0;34m)\u001b[0m\u001b[0;34m\u001b[0m\u001b[0;34m\u001b[0m\u001b[0m\n",
            "\u001b[0;31mKeyboardInterrupt\u001b[0m: Interrupted by user"
          ]
        }
      ]
    },
    {
      "cell_type": "markdown",
      "source": [],
      "metadata": {
        "id": "vTQJ5ErxZxFn"
      }
    },
    {
      "cell_type": "code",
      "source": [
        "#Generally defining functions is like replacing the variable with x then defining it back\n",
        "def my_function(fname):\n",
        "  print(fname + \" Refsnes\")\n",
        "\n",
        "my_function(\"Emil\")\n",
        "my_function(\"Tobias\")\n",
        "my_function(\"Linus\")"
      ],
      "metadata": {
        "colab": {
          "base_uri": "https://localhost:8080/"
        },
        "id": "JpK_Jw6bZ0D0",
        "outputId": "2812e1f7-6e1f-4ea4-a953-3ffd308cf5b9"
      },
      "execution_count": null,
      "outputs": [
        {
          "output_type": "stream",
          "name": "stdout",
          "text": [
            "Emil Refsnes\n",
            "Tobias Refsnes\n",
            "Linus Refsnes\n"
          ]
        }
      ]
    },
    {
      "cell_type": "code",
      "source": [
        "#If you have 2 parameters you must also produce 2 arguments for the code to be complete\n",
        "def my_function(fname, lname):\n",
        "  print(fname + \" \" + lname)\n",
        "\n",
        "my_function(\"Emil\", \"Refsnes\")"
      ],
      "metadata": {
        "colab": {
          "base_uri": "https://localhost:8080/"
        },
        "id": "Ni25l31pbAE2",
        "outputId": "9222ddde-2def-4308-f346-a37cadfee1b5"
      },
      "execution_count": null,
      "outputs": [
        {
          "output_type": "stream",
          "name": "stdout",
          "text": [
            "Emil Refsnes\n"
          ]
        }
      ]
    },
    {
      "cell_type": "markdown",
      "source": [
        "# *ARGS IN FUNCTIONS"
      ],
      "metadata": {
        "id": "pzGBql9heMea"
      }
    },
    {
      "cell_type": "code",
      "source": [
        "#if the number of parameters is unknown the use the *args function and you can also define the index where the argument lies\n",
        "def my_function(*kids)\n",
        "  print(\"The youngest child is \" + kids[2])\n",
        "\n",
        "my_function(\"Emil\", \"Tobias\", \"Linus\")\n"
      ],
      "metadata": {
        "colab": {
          "base_uri": "https://localhost:8080/"
        },
        "id": "fqcrJzDNeeJi",
        "outputId": "7b283d1f-8dc2-4fe1-a5f0-a949124c9bde"
      },
      "execution_count": null,
      "outputs": [
        {
          "output_type": "stream",
          "name": "stdout",
          "text": [
            "The youngest child is Linus\n"
          ]
        }
      ]
    },
    {
      "cell_type": "code",
      "source": [
        "def my_function(*cars):\n",
        "  print(\"I own the following cars:\" + cars[3])\n",
        "my_function(\"Challenger\", \"Ford\", \"Wrangler\")\n"
      ],
      "metadata": {
        "id": "UjMVPZlLhqC-"
      },
      "execution_count": null,
      "outputs": []
    },
    {
      "cell_type": "code",
      "source": [
        "def my_function(child3, child2, child1):\n",
        "  print(\"The youngest child is \" + child3)\n",
        "\n",
        "my_function(child1 = \"Emil\", child2 = \"Tobias\", child3 = \"Linus\")"
      ],
      "metadata": {
        "colab": {
          "base_uri": "https://localhost:8080/"
        },
        "id": "Y_HOc7F8tJAe",
        "outputId": "e1014161-b1ed-43f4-ceba-170211119a07"
      },
      "execution_count": null,
      "outputs": [
        {
          "output_type": "stream",
          "name": "stdout",
          "text": [
            "The youngest child is Linus\n"
          ]
        }
      ]
    },
    {
      "cell_type": "code",
      "source": [
        "def my_function(country = \"Norway\"):\n",
        "  print(\"I am from \" + country)\n",
        "\n",
        "my_function(\"Sweden\")\n",
        "my_function(\"India\")\n",
        "my_function() #if you do not define an argument for the parameter it uses the default values\n",
        "my_function(\"Brazil\")"
      ],
      "metadata": {
        "colab": {
          "base_uri": "https://localhost:8080/"
        },
        "id": "xasZQZditugR",
        "outputId": "31090154-4366-4ea6-f705-1b4566d9000b"
      },
      "execution_count": null,
      "outputs": [
        {
          "output_type": "stream",
          "name": "stdout",
          "text": [
            "I am from Sweden\n",
            "I am from India\n",
            "I am from Norway\n",
            "I am from Brazil\n"
          ]
        }
      ]
    },
    {
      "cell_type": "code",
      "source": [
        "def my_function(package = \"guitar\"):\n",
        "  print(\"I just purchased \" + package)\n",
        "\n",
        "  my_function(\"Bed\")\n",
        "  my_function(\"Mouse\")\n",
        "  my_function(\"Laptop\")\n",
        "  my_function()\n"
      ],
      "metadata": {
        "id": "mXYvKqhSuAqE"
      },
      "execution_count": null,
      "outputs": []
    },
    {
      "cell_type": "code",
      "source": [
        "def my_function(*kids):\n",
        "  print(\"The youngest child is \" + kids[2])\n",
        "\n",
        "my_function(\"Emil\", \"Tobias\", \"Linus\")"
      ],
      "metadata": {
        "id": "3ctIoQ3ieJpk"
      },
      "execution_count": null,
      "outputs": []
    },
    {
      "cell_type": "code",
      "source": [
        "def my_function(food):\n",
        "  for x in food:\n",
        "    print(x)\n",
        "\n",
        "fruits = [\"apple\", \"banana\", \"cherry\"]\n",
        "\n",
        "my_function(fruits)"
      ],
      "metadata": {
        "colab": {
          "base_uri": "https://localhost:8080/"
        },
        "id": "CXczBIu-wEuj",
        "outputId": "78f5de46-3598-462f-9b5a-ccfa28b82552"
      },
      "execution_count": null,
      "outputs": [
        {
          "output_type": "stream",
          "name": "stdout",
          "text": [
            "apple\n",
            "banana\n",
            "cherry\n"
          ]
        }
      ]
    },
    {
      "cell_type": "code",
      "source": [
        "def my_function(cars):\n",
        "  for x in cars:\n",
        "    print(x)\n",
        "\n",
        "  models= [\"Challenger\", \"Aston Martin\", \"Porsche\"]\n",
        "\n",
        "\n",
        "  my_function(models)"
      ],
      "metadata": {
        "id": "MAlKdzZdwN_M"
      },
      "execution_count": null,
      "outputs": []
    },
    {
      "cell_type": "code",
      "source": [
        "def my_function(x):\n",
        "  return 5 * x\n",
        "\n",
        "print(my_function(3))\n",
        "print(my_function(5))\n",
        "print(my_function(9))"
      ],
      "metadata": {
        "colab": {
          "base_uri": "https://localhost:8080/"
        },
        "id": "HhLQtVffxI8M",
        "outputId": "50a46918-9593-4c6e-d330-42e0463a0f46"
      },
      "execution_count": null,
      "outputs": [
        {
          "output_type": "stream",
          "name": "stdout",
          "text": [
            "15\n",
            "25\n",
            "45\n"
          ]
        }
      ]
    },
    {
      "cell_type": "code",
      "source": [
        "#keyword or positional arguments\n",
        "def my_function(x, /):\n",
        "  print(x)\n",
        "\n",
        "my_function(3)"
      ],
      "metadata": {
        "colab": {
          "base_uri": "https://localhost:8080/"
        },
        "id": "7YNmaO78xiNJ",
        "outputId": "6a7f3dab-b202-4e00-bb24-ac4dbe76c8c9"
      },
      "execution_count": null,
      "outputs": [
        {
          "output_type": "stream",
          "name": "stdout",
          "text": [
            "3\n"
          ]
        }
      ]
    },
    {
      "cell_type": "code",
      "source": [
        "def my_function(x):\n",
        "  print(x)\n",
        "\n",
        "my_function(x = 3)"
      ],
      "metadata": {
        "colab": {
          "base_uri": "https://localhost:8080/"
        },
        "id": "KlKWXPa-xyp0",
        "outputId": "783b5b52-54f1-4fdc-810e-e4aa36ed16ce"
      },
      "execution_count": null,
      "outputs": [
        {
          "output_type": "stream",
          "name": "stdout",
          "text": [
            "3\n"
          ]
        }
      ]
    },
    {
      "cell_type": "code",
      "source": [
        "#keyword only arguments\n",
        "def my_function(*, x):\n",
        "  print(x)\n",
        "\n",
        "my_function(x = 3)"
      ],
      "metadata": {
        "id": "MmcxfY0gx8vC",
        "colab": {
          "base_uri": "https://localhost:8080/"
        },
        "outputId": "b703950a-b8e3-4d20-8a02-117c7dc556a5"
      },
      "execution_count": null,
      "outputs": [
        {
          "output_type": "stream",
          "name": "stdout",
          "text": [
            "3\n"
          ]
        }
      ]
    },
    {
      "cell_type": "markdown",
      "source": [
        "### Combine Positional-Only and Keyword-Only"
      ],
      "metadata": {
        "id": "flkCoSbSyNAq"
      }
    },
    {
      "cell_type": "code",
      "source": [
        "def my_function(p, u, /, *,y, t ):\n",
        "\n",
        " print(p+u+y+t)\n",
        " my_function(4,7,y=8,t=4)\n"
      ],
      "metadata": {
        "id": "ryAGHsC6yOoE"
      },
      "execution_count": null,
      "outputs": []
    },
    {
      "cell_type": "code",
      "source": [
        "def myfunction():\n",
        "  pass"
      ],
      "metadata": {
        "id": "Etdzh3uGxQr-"
      },
      "execution_count": null,
      "outputs": []
    },
    {
      "cell_type": "markdown",
      "source": [
        "# RECURSION IN PYTHON\n"
      ],
      "metadata": {
        "id": "2czeG0RPztsj"
      }
    },
    {
      "cell_type": "code",
      "source": [
        "#IN python recursion is used to prevent the code from running continously using the tri-recursion and the k function with (-1)\n",
        "# used in factorial\n",
        "def tri_recursion(k):\n",
        "  if(k > 0):\n",
        "    result = k + tri_recursion(k - 1)\n",
        "    print(result)\n",
        "  else:\n",
        "    result = 0\n",
        "  return result\n",
        "\n",
        "print(\"Recursion Example Results:\")\n",
        "\n",
        "tri_recursion(6)"
      ],
      "metadata": {
        "id": "qqFKgUY8zyHb",
        "colab": {
          "base_uri": "https://localhost:8080/"
        },
        "outputId": "fa9dbf56-7f99-427a-f118-1118cedbaa65"
      },
      "execution_count": null,
      "outputs": [
        {
          "output_type": "stream",
          "name": "stdout",
          "text": [
            "Recursion Example Results:\n",
            "1\n",
            "3\n",
            "6\n",
            "10\n",
            "15\n",
            "21\n"
          ]
        },
        {
          "output_type": "execute_result",
          "data": {
            "text/plain": [
              "21"
            ]
          },
          "metadata": {},
          "execution_count": 9
        }
      ]
    },
    {
      "cell_type": "code",
      "source": [
        "def tri_recursion(k):\n",
        "  if (k > 0):\n",
        "    result= k + tri_recursion(k-1)\n",
        "    print(result)\n",
        "  else:\n",
        "      result = 0\n",
        "      return result\n",
        "\n",
        "  print(\"Recursion results\")\n",
        "\n",
        "  tri_recursion(8)"
      ],
      "metadata": {
        "id": "zMVav5xzqGZ-"
      },
      "execution_count": null,
      "outputs": []
    },
    {
      "cell_type": "code",
      "source": [
        "def tri_recursion(k):\n",
        "  if k > 0:\n",
        "    result= k + tri_recursion(k -1)\n",
        "    print(result)\n",
        "  else:\n",
        "    result= 0\n",
        "  return result\n",
        "\n",
        "  print(\"My Recursion values are:\")\n",
        "\n",
        "  tri_recursion(9)\n"
      ],
      "metadata": {
        "id": "43TzGo4hyKJC"
      },
      "execution_count": null,
      "outputs": []
    },
    {
      "cell_type": "markdown",
      "source": [
        "# LAMBDA"
      ],
      "metadata": {
        "id": "UtnXSlGeszHA"
      }
    },
    {
      "cell_type": "markdown",
      "source": [
        "Basically lambda is a function that carries many arguments\n",
        "Expression:lambda\n"
      ],
      "metadata": {
        "id": "ZI3VFTxzs79T"
      }
    },
    {
      "cell_type": "code",
      "source": [
        "x = lambda a : a + 10\n",
        "print(x(5))"
      ],
      "metadata": {
        "colab": {
          "base_uri": "https://localhost:8080/"
        },
        "id": "YpUuzmH9s1Vk",
        "outputId": "9d9b3cbe-6dad-4a08-ef88-9f0a749d987b"
      },
      "execution_count": null,
      "outputs": [
        {
          "output_type": "stream",
          "name": "stdout",
          "text": [
            "15\n"
          ]
        }
      ]
    },
    {
      "cell_type": "code",
      "source": [
        "x = lambda a, b : a * b\n",
        "print(x(5, 6))"
      ],
      "metadata": {
        "colab": {
          "base_uri": "https://localhost:8080/"
        },
        "id": "jJDQcGjBtXMw",
        "outputId": "5f0e5dd9-b022-42cc-fca8-530b5bd53b99"
      },
      "execution_count": null,
      "outputs": [
        {
          "output_type": "stream",
          "name": "stdout",
          "text": [
            "30\n"
          ]
        }
      ]
    },
    {
      "cell_type": "code",
      "source": [
        "y= lambda r, j: r + j\n",
        "print(y(4,7))"
      ],
      "metadata": {
        "colab": {
          "base_uri": "https://localhost:8080/"
        },
        "id": "snF92Zi49tBy",
        "outputId": "25e9a4e6-02d8-4752-922f-54b6db6447df"
      },
      "execution_count": null,
      "outputs": [
        {
          "output_type": "stream",
          "name": "stdout",
          "text": [
            "11\n"
          ]
        }
      ]
    },
    {
      "cell_type": "code",
      "source": [
        "def myfunc(t):\n",
        "   return lambda b: b* t\n",
        "\n",
        "\n",
        "print(myfunc(8))\n",
        "\n"
      ],
      "metadata": {
        "id": "tokcyT7luUGB",
        "colab": {
          "base_uri": "https://localhost:8080/"
        },
        "outputId": "892a6d2d-71d7-47c7-d648-c714f5dcaf97"
      },
      "execution_count": null,
      "outputs": [
        {
          "output_type": "stream",
          "name": "stdout",
          "text": [
            "<function myfunc.<locals>.<lambda> at 0x7ef94f633910>\n"
          ]
        }
      ]
    },
    {
      "cell_type": "code",
      "source": [
        "def myfunc(t):\n",
        "   return lambda b: b * t\n",
        "\n",
        "my_tripler = myfunc(3)\n",
        "\n",
        "print(my_tripler(2))"
      ],
      "metadata": {
        "id": "wZzzGWYnvSLq",
        "colab": {
          "base_uri": "https://localhost:8080/"
        },
        "outputId": "cf4849be-49ad-4c77-bab9-4846333f3067"
      },
      "execution_count": null,
      "outputs": [
        {
          "output_type": "stream",
          "name": "stdout",
          "text": [
            "6\n"
          ]
        }
      ]
    },
    {
      "cell_type": "code",
      "source": [
        "def myfunc(n):\n",
        "  return lambda a : a * n\n",
        "\n",
        "mydoubler = myfunc(2)\n",
        "\n",
        "print(mydoubler(11))\n"
      ],
      "metadata": {
        "colab": {
          "base_uri": "https://localhost:8080/"
        },
        "id": "vaDWxh5MvpNJ",
        "outputId": "13ef19bd-260d-44b1-fe3c-bfd14fbdca8d"
      },
      "execution_count": null,
      "outputs": [
        {
          "output_type": "stream",
          "name": "stdout",
          "text": [
            "22\n"
          ]
        }
      ]
    },
    {
      "cell_type": "code",
      "source": [
        "p= lambda u,y,t : u + y + t\n",
        "print(0+7+8)"
      ],
      "metadata": {
        "id": "H7BRorj_uwDV",
        "colab": {
          "base_uri": "https://localhost:8080/"
        },
        "outputId": "21acd707-e089-48a0-82ec-b84fb590f467"
      },
      "execution_count": null,
      "outputs": [
        {
          "output_type": "stream",
          "name": "stdout",
          "text": [
            "15\n"
          ]
        }
      ]
    },
    {
      "cell_type": "code",
      "source": [
        "def myfunc(n):\n",
        "  return lambda a : a * n\n",
        "\n",
        "mytripler = myfunc(3)\n",
        "\n",
        "print(mytripler(11))"
      ],
      "metadata": {
        "colab": {
          "base_uri": "https://localhost:8080/"
        },
        "id": "ZDW7OtqnwFuQ",
        "outputId": "8498bb1f-0a0d-4201-e0df-7e7eba1133aa"
      },
      "execution_count": null,
      "outputs": [
        {
          "output_type": "stream",
          "name": "stdout",
          "text": [
            "33\n"
          ]
        }
      ]
    },
    {
      "cell_type": "code",
      "source": [
        "def myfunc(r):\n",
        "  return lambda b: b * r\n",
        "\n",
        "myDoubler= myfunc(2)\n",
        "my_tripler=myfunc(3)\n",
        "\n",
        "print(myDoubler(4))\n",
        "print(my_tripler(6))"
      ],
      "metadata": {
        "id": "wpnFNWT_wNj-",
        "colab": {
          "base_uri": "https://localhost:8080/"
        },
        "outputId": "24b38210-a8c4-4425-f282-397db023a3c6"
      },
      "execution_count": null,
      "outputs": [
        {
          "output_type": "stream",
          "name": "stdout",
          "text": [
            "8\n",
            "18\n"
          ]
        }
      ]
    },
    {
      "cell_type": "code",
      "source": [
        "def my_func(l):\n",
        "   return lambda t: t*l\n",
        "\n",
        "my_tripler= my_func(4)\n",
        "\n",
        "print(my_tripler(5))\n"
      ],
      "metadata": {
        "colab": {
          "base_uri": "https://localhost:8080/"
        },
        "id": "DDkGgWri7K7Q",
        "outputId": "22180de7-515d-46f4-e048-ed3a990ec697"
      },
      "execution_count": null,
      "outputs": [
        {
          "output_type": "stream",
          "name": "stdout",
          "text": [
            "20\n"
          ]
        }
      ]
    },
    {
      "cell_type": "code",
      "source": [
        "def myfunc(n):\n",
        "  return lambda a : a * n\n",
        "\n",
        "mydoubler = myfunc(2)\n",
        "mytripler = myfunc(3)\n",
        "\n",
        "print(mydoubler(11))\n",
        "print(mytripler(11))"
      ],
      "metadata": {
        "colab": {
          "base_uri": "https://localhost:8080/"
        },
        "id": "eB1ggwnywzez",
        "outputId": "075f0727-ac64-4450-c1e2-9e0b07202b01"
      },
      "execution_count": null,
      "outputs": [
        {
          "output_type": "stream",
          "name": "stdout",
          "text": [
            "22\n",
            "33\n"
          ]
        }
      ]
    },
    {
      "cell_type": "markdown",
      "source": [
        "# ARRAYS\n"
      ],
      "metadata": {
        "id": "7Wqw9t4RxV-p"
      }
    },
    {
      "cell_type": "code",
      "source": [
        "#Used to store multiple values in one variable\n",
        "#For example:\n",
        "\n",
        "colors= { \"Red\", \"Yellow\", \"Maroon\"}\n",
        "if \"Maroon\" in colors:\n",
        "\n",
        "  print(\"Maroon is in colors\")\n",
        "\n",
        "\n",
        "\n",
        "\n"
      ],
      "metadata": {
        "colab": {
          "base_uri": "https://localhost:8080/"
        },
        "id": "ERtbQ4sUxYhC",
        "outputId": "c8fe8fa4-4046-40c4-a215-b7ec6da9bbca"
      },
      "execution_count": null,
      "outputs": [
        {
          "output_type": "stream",
          "name": "stdout",
          "text": [
            "Maroon is in colors\n"
          ]
        }
      ]
    },
    {
      "cell_type": "code",
      "source": [
        "colors= { \"Red\", \"Yellow\", \"Maroon\"}\n",
        "for y in colors:\n",
        "  print(y)"
      ],
      "metadata": {
        "colab": {
          "base_uri": "https://localhost:8080/"
        },
        "id": "VLljlmE3yjr3",
        "outputId": "441da865-6876-4f36-ea3a-238d4a4c7772"
      },
      "execution_count": null,
      "outputs": [
        {
          "output_type": "stream",
          "name": "stdout",
          "text": [
            "Yellow\n",
            "Maroon\n",
            "Red\n"
          ]
        }
      ]
    },
    {
      "cell_type": "code",
      "source": [
        "colors= { \"Red\", \"Yellow\", \"Maroon\"}\n",
        "colors= list(colors)\n",
        "colors.append(\"Brown\")\n",
        "print(colors)"
      ],
      "metadata": {
        "colab": {
          "base_uri": "https://localhost:8080/"
        },
        "id": "rd5VmsSpyw-9",
        "outputId": "134bd68a-2772-432a-8dcc-e8fdf8721209"
      },
      "execution_count": null,
      "outputs": [
        {
          "output_type": "stream",
          "name": "stdout",
          "text": [
            "['Yellow', 'Maroon', 'Red', 'Brown']\n"
          ]
        }
      ]
    },
    {
      "cell_type": "code",
      "source": [
        "# YOU can use the same functions to remove add sort values in an array namely:\n",
        "#pop for specific indexes\n",
        "# remove for the values\n",
        "#append to add\n",
        "# sort to sort\n",
        "# extend to add anothe array to one array\n",
        "# clear to clear the values\n",
        "# copy to copy an array\n",
        "# reverse to reverse the order"
      ],
      "metadata": {
        "id": "3kKS4lGbzP_Z"
      },
      "execution_count": null,
      "outputs": []
    },
    {
      "cell_type": "code",
      "source": [
        "colors={\"Red\", \"Yellow\", \"Maroon\"}\n",
        "colors=list(colors)\n",
        "colors.pop()\n",
        "print(colors)\n"
      ],
      "metadata": {
        "colab": {
          "base_uri": "https://localhost:8080/"
        },
        "id": "C1jXIuFf1cfo",
        "outputId": "8aa5cbdd-9edc-4887-bc5f-3a3a87fc3503"
      },
      "execution_count": null,
      "outputs": [
        {
          "output_type": "stream",
          "name": "stdout",
          "text": [
            "['Yellow', 'Maroon']\n"
          ]
        }
      ]
    },
    {
      "cell_type": "code",
      "source": [
        "colors={\"Red\", \"Yellow\", \"Maroon\"}\n",
        "colors=list(colors)\n",
        "colors.remove(\"Yellow\")\n",
        "print(colors)"
      ],
      "metadata": {
        "colab": {
          "base_uri": "https://localhost:8080/"
        },
        "id": "EAksN4rQ13gY",
        "outputId": "c0f2ef87-76c8-4903-ceb2-b738ec3817c4"
      },
      "execution_count": null,
      "outputs": [
        {
          "output_type": "stream",
          "name": "stdout",
          "text": [
            "['Maroon', 'Red']\n"
          ]
        }
      ]
    },
    {
      "cell_type": "code",
      "source": [
        "colors={\"Red\", \"Yellow\", \"Maroon\"}\n",
        "colors=list(colors)\n",
        "colors.sort(reverse=True)\n",
        "print(colors)"
      ],
      "metadata": {
        "colab": {
          "base_uri": "https://localhost:8080/"
        },
        "id": "y-Bh9qU319kn",
        "outputId": "d6d2cc4a-5cf8-4cd2-de74-501a9a4faacf"
      },
      "execution_count": null,
      "outputs": [
        {
          "output_type": "stream",
          "name": "stdout",
          "text": [
            "['Yellow', 'Red', 'Maroon']\n"
          ]
        }
      ]
    },
    {
      "cell_type": "code",
      "source": [
        "colors1= {\"Red\", \"Yellow\", \"Maroon\"}\n",
        "colors2= {\"Blue\", \"Indigo\", \"Black\"}\n",
        "colors1=list(colors1)\n",
        "colors2=list(colors2)\n",
        "colors1.extend(colors2)\n",
        "print(colors1)"
      ],
      "metadata": {
        "colab": {
          "base_uri": "https://localhost:8080/"
        },
        "id": "f2M2TZhX2PbK",
        "outputId": "e0e180f8-ee89-4b03-f319-bcf682a578be"
      },
      "execution_count": null,
      "outputs": [
        {
          "output_type": "stream",
          "name": "stdout",
          "text": [
            "['Yellow', 'Maroon', 'Red', 'Indigo', 'Blue', 'Black']\n"
          ]
        }
      ]
    },
    {
      "cell_type": "markdown",
      "source": [
        "# CLASS OR OBJECTS"
      ],
      "metadata": {
        "id": "I6G4rFJJ4BlZ"
      }
    },
    {
      "cell_type": "code",
      "source": [
        "#A Class is like an object constructor, or a \"blueprint\" for creating objects.\n",
        "# We use the class function to create one\n",
        "\n",
        "class Myclass:\n",
        " x= \"Tanzania\"\n",
        "\n",
        "\n"
      ],
      "metadata": {
        "id": "XosyEFMc39U3"
      },
      "execution_count": null,
      "outputs": []
    },
    {
      "cell_type": "code",
      "source": [
        "#We can use the Myclass function to create objects\n",
        "\n",
        "country1= Myclass()\n",
        "print(country1.x)"
      ],
      "metadata": {
        "colab": {
          "base_uri": "https://localhost:8080/"
        },
        "id": "syuDrtxk5TXh",
        "outputId": "3a7de5af-de31-4687-80da-38c327c4b980"
      },
      "execution_count": null,
      "outputs": [
        {
          "output_type": "stream",
          "name": "stdout",
          "text": [
            "Tanzania\n"
          ]
        }
      ]
    },
    {
      "cell_type": "code",
      "source": [
        "class my_class:\n",
        "  l= \"Kajiado\"\n",
        "\n",
        "county1= my_class()\n",
        "print(county1.l)"
      ],
      "metadata": {
        "colab": {
          "base_uri": "https://localhost:8080/"
        },
        "id": "vU1b-aIO8f0J",
        "outputId": "c8f9709b-5204-4538-dc75-05b08b8039d6"
      },
      "execution_count": null,
      "outputs": [
        {
          "output_type": "stream",
          "name": "stdout",
          "text": [
            "Kajiado\n"
          ]
        }
      ]
    },
    {
      "cell_type": "code",
      "source": [
        "class my_class:\n",
        "  y = 89\n",
        "\n",
        "e1= my_class()\n",
        "print(e1.y)"
      ],
      "metadata": {
        "colab": {
          "base_uri": "https://localhost:8080/"
        },
        "id": "5ssMpmX1AQSh",
        "outputId": "e914df70-2a69-4927-a6f1-71a77d201c61"
      },
      "execution_count": null,
      "outputs": [
        {
          "output_type": "stream",
          "name": "stdout",
          "text": [
            "89\n"
          ]
        }
      ]
    },
    {
      "cell_type": "markdown",
      "source": [
        "# THE _INIT_FUNCTION"
      ],
      "metadata": {
        "id": "gi_3ongG6Aei"
      }
    },
    {
      "cell_type": "code",
      "source": [
        "#The __init__() Function\n",
        "#The examples above are classes and objects in their simplest form, and are not really useful in real life applications.\n",
        "#To understand the meaning of classes we have to understand the built-in __init__() function.\n",
        "#All classes have a function called __init__(), which is always executed when the class is being initiated."
      ],
      "metadata": {
        "id": "3AcBEy4I6Ezl"
      },
      "execution_count": null,
      "outputs": []
    },
    {
      "cell_type": "code",
      "source": [
        "#Use the _init_() function to create values for a class named County including the village and district\n",
        "\n",
        "class county:\n",
        "  def __init__(county, village, district):\n",
        "\n",
        "   county.village= village\n",
        "   county.district=district\n",
        "\n",
        "c1= county(\"Likuyani\", \"Seregeya\")\n",
        "\n",
        "print(c1.village)\n",
        "print(c1.district)"
      ],
      "metadata": {
        "colab": {
          "base_uri": "https://localhost:8080/"
        },
        "id": "gzERd69g6k6-",
        "outputId": "316cc81f-17b5-4dc1-d9a7-f196908f7fcd"
      },
      "execution_count": null,
      "outputs": [
        {
          "output_type": "stream",
          "name": "stdout",
          "text": [
            "Likuyani\n",
            "Seregeya\n"
          ]
        }
      ]
    },
    {
      "cell_type": "code",
      "source": [
        "class pair:\n",
        " def __init__(pair,country,price):\n",
        "\n",
        "  pair.country= country\n",
        "  pair.price= price\n",
        "\n",
        "p1=pair(\"XAU\", 2650)\n",
        "\n",
        "print(p1.country)\n",
        "print(p1.price)"
      ],
      "metadata": {
        "colab": {
          "base_uri": "https://localhost:8080/"
        },
        "id": "xSk8JtRn813S",
        "outputId": "719e766e-080a-4453-ec12-dcaee0c1cd33"
      },
      "execution_count": null,
      "outputs": [
        {
          "output_type": "stream",
          "name": "stdout",
          "text": [
            "XAU\n",
            "2650\n"
          ]
        }
      ]
    },
    {
      "cell_type": "markdown",
      "source": [
        "# THE __str__ FUNCTION"
      ],
      "metadata": {
        "id": "IJaHlfqo-ku1"
      }
    },
    {
      "cell_type": "code",
      "source": [
        "#The __str__() function controls what should be returned when the class object is represented as a string.\n",
        "\n",
        "#If the __str__() function is not set, the string representation of the object is returned:\n",
        "\n",
        "#without the __str__ function:\n",
        "\n",
        "class person:\n",
        "  def __init__ (self, name, age):\n",
        "\n",
        "   self.name= name\n",
        "   self.age= age\n",
        "\n",
        "p1=person( \"George\", 23)\n",
        "\n",
        "print(p1.name)\n",
        "print(p1.age)\n"
      ],
      "metadata": {
        "colab": {
          "base_uri": "https://localhost:8080/"
        },
        "id": "dIKOPomR-dCP",
        "outputId": "e9d0134c-8b97-4b56-9986-b68e3112fb9b"
      },
      "execution_count": null,
      "outputs": [
        {
          "output_type": "stream",
          "name": "stdout",
          "text": [
            "George\n",
            "23\n"
          ]
        }
      ]
    },
    {
      "cell_type": "code",
      "source": [
        "#code with the __str__ function:\n",
        "\n",
        "class person:\n",
        "  def __init__(self,name,age):\n",
        "\n",
        "    self.name=name\n",
        "    self.age=age\n",
        "\n",
        "  def __str__(self):\n",
        "    return f\"{self.name}({self.age})\"\n",
        "\n",
        "p1= person(\"George\", 89)\n",
        "print(p1)\n",
        "\n",
        "\n",
        "\n"
      ],
      "metadata": {
        "id": "BoLoeSyL_7R7",
        "colab": {
          "base_uri": "https://localhost:8080/"
        },
        "outputId": "a14d8ef0-6ff7-40cb-b31f-2b332a446fbf"
      },
      "execution_count": null,
      "outputs": [
        {
          "output_type": "stream",
          "name": "stdout",
          "text": [
            "George(89)\n"
          ]
        }
      ]
    },
    {
      "cell_type": "code",
      "source": [
        "class car:\n",
        "  def __init__(type, model, year):\n",
        "   type.model=model\n",
        "   type.year=year\n",
        "\n",
        "  def __str__(type):\n",
        "    return f\"{type.model}({type.year})\"\n",
        "\n",
        "c1= car(\"LAMBO\", 2024)\n",
        "print(c1)"
      ],
      "metadata": {
        "colab": {
          "base_uri": "https://localhost:8080/"
        },
        "id": "7yUen7SVCgF9",
        "outputId": "6516b61b-3f2e-41a1-9d41-4bcc67fe0aa3"
      },
      "execution_count": null,
      "outputs": [
        {
          "output_type": "stream",
          "name": "stdout",
          "text": [
            "LAMBO(2024)\n"
          ]
        }
      ]
    },
    {
      "cell_type": "markdown",
      "source": [
        "# Python Inheritance"
      ],
      "metadata": {
        "id": "FbByjlOLD_3A"
      }
    },
    {
      "cell_type": "code",
      "source": [
        "# Parent class is the class being inherited from, also called base class.\n",
        "\n",
        "#Child class is the class that inherits from another class, also called derived class.\n",
        "\n",
        "class Person:\n",
        "  def __init__(self, fname, lname):\n",
        "     self.fname= fname\n",
        "     self.lname= lname\n",
        "\n",
        "  def __str__(self):\n",
        "     return f\"My name is {self.fname} and i am({self.lname})\"\n",
        "\n",
        "p1=Person(\"George\", 68)\n",
        "print (p1)"
      ],
      "metadata": {
        "colab": {
          "base_uri": "https://localhost:8080/"
        },
        "id": "qh9x7fY_EJz4",
        "outputId": "d56767b2-4041-42fc-f819-9b74ef1c9f91"
      },
      "execution_count": null,
      "outputs": [
        {
          "output_type": "stream",
          "name": "stdout",
          "text": [
            "My name is George and i am(68)\n"
          ]
        }
      ]
    },
    {
      "cell_type": "markdown",
      "source": [
        "# Create a Parent Class"
      ],
      "metadata": {
        "id": "5OaGmEtCGSxf"
      }
    },
    {
      "cell_type": "code",
      "source": [],
      "metadata": {
        "id": "xBO0xpmk-z4-"
      },
      "execution_count": null,
      "outputs": []
    },
    {
      "cell_type": "code",
      "source": [
        "#Using the printname:\n",
        "class Person:\n",
        "  def __init__(self, fname, lname):\n",
        "    self.fname = fname\n",
        "    self.lname = lname\n",
        "\n",
        "  def printname(self):\n",
        "    print(self.fname, self.lname)\n",
        "\n",
        "#Use the Person class to create an object, and then execute the printname method:\n",
        "\n",
        "x = Person(\"John\", \"Doe\")\n",
        "x.printname()"
      ],
      "metadata": {
        "colab": {
          "base_uri": "https://localhost:8080/"
        },
        "id": "bEItsaKFF_l_",
        "outputId": "99a43298-d193-4eaa-f462-8feb818dec91"
      },
      "execution_count": null,
      "outputs": [
        {
          "output_type": "stream",
          "name": "stdout",
          "text": [
            "John Doe\n"
          ]
        }
      ]
    },
    {
      "cell_type": "code",
      "source": [
        "class Country:\n",
        "  def __init__(self,name,latitude):\n",
        "    self.name=name\n",
        "    self.latitude=latitude\n",
        "\n",
        "  def printname(self):\n",
        "      print(self.name, self.latitude)\n",
        "\n",
        "x=Country(\"Djibouti\", 56.098)\n",
        "x.printname()"
      ],
      "metadata": {
        "colab": {
          "base_uri": "https://localhost:8080/"
        },
        "id": "nz6rr2gV-YOb",
        "outputId": "8bd05d13-b362-4c51-b43b-bed4b06800b0"
      },
      "execution_count": null,
      "outputs": [
        {
          "output_type": "stream",
          "name": "stdout",
          "text": [
            "Djibouti 56.098\n"
          ]
        }
      ]
    },
    {
      "cell_type": "code",
      "source": [
        "class Electronics:\n",
        "  def __init__(self, name, country_of_origin):\n",
        "   self.name=name\n",
        "   self.country_of_origin=country_of_origin\n",
        "\n",
        "  def printname(self):\n",
        "    print(self.name, self.country_of_origin)\n",
        "\n",
        "x=Electronics(\"Lenovo\", \"China\")\n",
        "x.printname()"
      ],
      "metadata": {
        "colab": {
          "base_uri": "https://localhost:8080/"
        },
        "id": "0B-iX3dkAdqJ",
        "outputId": "7bac2e6e-9100-4078-bf0a-cb0b9ef82c10"
      },
      "execution_count": null,
      "outputs": [
        {
          "output_type": "stream",
          "name": "stdout",
          "text": [
            "Lenovo China\n"
          ]
        }
      ]
    },
    {
      "cell_type": "markdown",
      "source": [
        "# Create A Child Class"
      ],
      "metadata": {
        "id": "0qfoo6U3GdVP"
      }
    },
    {
      "cell_type": "code",
      "source": [
        "#To create a class that inherits the functionality from another class, send the parent class as a parameter when creating the child class:\n",
        "\n",
        "class Student(Person):"
      ],
      "metadata": {
        "id": "cDfH2RR7Gi_1"
      },
      "execution_count": null,
      "outputs": []
    },
    {
      "cell_type": "code",
      "source": [
        "x = Student(\"Mike\", \"Olsen\")\n",
        "x.printname()"
      ],
      "metadata": {
        "collapsed": true,
        "colab": {
          "base_uri": "https://localhost:8080/",
          "height": 159
        },
        "id": "0woOP-8dGt3e",
        "outputId": "2a8a29b0-250b-4a20-b590-a7fd08ff8cfa"
      },
      "execution_count": null,
      "outputs": [
        {
          "output_type": "error",
          "ename": "NameError",
          "evalue": "name 'Student' is not defined",
          "traceback": [
            "\u001b[0;31m---------------------------------------------------------------------------\u001b[0m",
            "\u001b[0;31mNameError\u001b[0m                                 Traceback (most recent call last)",
            "\u001b[0;32m<ipython-input-40-438af19fc7ac>\u001b[0m in \u001b[0;36m<cell line: 1>\u001b[0;34m()\u001b[0m\n\u001b[0;32m----> 1\u001b[0;31m \u001b[0mx\u001b[0m \u001b[0;34m=\u001b[0m \u001b[0mStudent\u001b[0m\u001b[0;34m(\u001b[0m\u001b[0;34m\"Mike\"\u001b[0m\u001b[0;34m,\u001b[0m \u001b[0;34m\"Olsen\"\u001b[0m\u001b[0;34m)\u001b[0m\u001b[0;34m\u001b[0m\u001b[0;34m\u001b[0m\u001b[0m\n\u001b[0m\u001b[1;32m      2\u001b[0m \u001b[0mx\u001b[0m\u001b[0;34m.\u001b[0m\u001b[0mprintname\u001b[0m\u001b[0;34m(\u001b[0m\u001b[0;34m)\u001b[0m\u001b[0;34m\u001b[0m\u001b[0;34m\u001b[0m\u001b[0m\n",
            "\u001b[0;31mNameError\u001b[0m: name 'Student' is not defined"
          ]
        }
      ]
    },
    {
      "cell_type": "code",
      "source": [
        "#To keep the inheritance of the parent's __init__() function, add a call to the parent's __init__() function:\n",
        "class Student(Person):\n",
        "  def __init__(self, fname, lname):\n",
        "    Person.__init__(self, fname, lname)\n",
        "\n",
        "           #Or Use the super() function:\n",
        "\n",
        "class Student(Person):\n",
        "  def __init__(self, fname, lname):\n",
        "    super().__init__(fname, lname)\n"
      ],
      "metadata": {
        "id": "CIEYkTs5G7nP"
      },
      "execution_count": null,
      "outputs": []
    },
    {
      "cell_type": "markdown",
      "source": [
        "# Add Properties"
      ],
      "metadata": {
        "id": "fWiETzLOH9h9"
      }
    },
    {
      "cell_type": "code",
      "source": [
        "class Student(Person):\n",
        "  def __init__(self, fname, lname):\n",
        "    super().__init__(fname, lname)\n",
        "    self.graduationyear = 2019\n",
        "\n",
        "x = Student(\"Mike\", \"Olsen\", 2019)\n",
        "print(x)"
      ],
      "metadata": {
        "colab": {
          "base_uri": "https://localhost:8080/",
          "height": 193
        },
        "collapsed": true,
        "id": "2dX9aircH_Tb",
        "outputId": "cf492219-13d8-4933-e531-fd46e8799057"
      },
      "execution_count": null,
      "outputs": [
        {
          "output_type": "error",
          "ename": "TypeError",
          "evalue": "Student.__init__() takes 3 positional arguments but 4 were given",
          "traceback": [
            "\u001b[0;31m---------------------------------------------------------------------------\u001b[0m",
            "\u001b[0;31mTypeError\u001b[0m                                 Traceback (most recent call last)",
            "\u001b[0;32m<ipython-input-26-84adba6f2c92>\u001b[0m in \u001b[0;36m<cell line: 6>\u001b[0;34m()\u001b[0m\n\u001b[1;32m      4\u001b[0m     \u001b[0mself\u001b[0m\u001b[0;34m.\u001b[0m\u001b[0mgraduationyear\u001b[0m \u001b[0;34m=\u001b[0m \u001b[0myear\u001b[0m\u001b[0;34m\u001b[0m\u001b[0;34m\u001b[0m\u001b[0m\n\u001b[1;32m      5\u001b[0m \u001b[0;34m\u001b[0m\u001b[0m\n\u001b[0;32m----> 6\u001b[0;31m \u001b[0mx\u001b[0m \u001b[0;34m=\u001b[0m \u001b[0mStudent\u001b[0m\u001b[0;34m(\u001b[0m\u001b[0;34m\"Mike\"\u001b[0m\u001b[0;34m,\u001b[0m \u001b[0;34m\"Olsen\"\u001b[0m\u001b[0;34m,\u001b[0m \u001b[0;36m2019\u001b[0m\u001b[0;34m)\u001b[0m\u001b[0;34m\u001b[0m\u001b[0;34m\u001b[0m\u001b[0m\n\u001b[0m\u001b[1;32m      7\u001b[0m \u001b[0mprint\u001b[0m\u001b[0;34m(\u001b[0m\u001b[0mx\u001b[0m\u001b[0;34m)\u001b[0m\u001b[0;34m\u001b[0m\u001b[0;34m\u001b[0m\u001b[0m\n",
            "\u001b[0;31mTypeError\u001b[0m: Student.__init__() takes 3 positional arguments but 4 were given"
          ]
        }
      ]
    },
    {
      "cell_type": "code",
      "source": [
        "class Student(Person):\n",
        "  def __init__(self, fname, lname, year):\n",
        "    super().__init__(fname, lname)\n",
        "    self.graduationyear = year\n",
        "\n",
        "x = Student(\"Mike\", \"Olsen\", 2019)\n"
      ],
      "metadata": {
        "id": "QNRCK_b2IXgR"
      },
      "execution_count": null,
      "outputs": []
    },
    {
      "cell_type": "code",
      "source": [
        "#Add a method called welcome to the Student class:\n",
        "\n",
        "class Student(Person):\n",
        "  def __init__(self, fname, lname, year):\n",
        "    super().__init__(fname, lname)\n",
        "    self.graduationyear = year\n",
        "\n",
        "  def welcome(self):\n",
        "\n",
        "   print(\"Welcome\", self.firstname, self.lastname, \"to the class of\", self.graduationyear)"
      ],
      "metadata": {
        "id": "oHdhZUivIw8R"
      },
      "execution_count": null,
      "outputs": []
    },
    {
      "cell_type": "markdown",
      "source": [
        "# ITERATORS"
      ],
      "metadata": {
        "id": "71H-zcckDFjR"
      }
    },
    {
      "cell_type": "code",
      "source": [
        "#Lists, tuples, dictionaries, and sets are all iterable objects\n",
        "#All these objects have a iter() method which is used to get an iterator:\n",
        "#We use the itr function to create an iterator and next to print the code\n",
        "\n",
        "mytuple = (\"apple\", \"banana\", \"cherry\")\n",
        "myit = iter(mytuple)\n",
        "\n",
        "print(next(myit))\n",
        "print(next(myit))\n",
        "print(next(myit))"
      ],
      "metadata": {
        "colab": {
          "base_uri": "https://localhost:8080/"
        },
        "id": "iqJOXzKuDDJn",
        "outputId": "000b9c33-23a5-4379-c4df-be32828ec64b"
      },
      "execution_count": null,
      "outputs": [
        {
          "output_type": "stream",
          "name": "stdout",
          "text": [
            "apple\n",
            "banana\n",
            "cherry\n"
          ]
        }
      ]
    },
    {
      "cell_type": "code",
      "source": [
        "mylist=[\"mango\", \"pawpaw\", \"banana\"]\n",
        "myit= iter(mylist)\n",
        "\n",
        "print(next(myit))\n",
        "print(next(myit))\n",
        "print(next(myit))"
      ],
      "metadata": {
        "colab": {
          "base_uri": "https://localhost:8080/"
        },
        "id": "2R4tuK37DeSy",
        "outputId": "e51cbfbe-cf8f-4dcf-81b0-d1ff46fa41bd"
      },
      "execution_count": null,
      "outputs": [
        {
          "output_type": "stream",
          "name": "stdout",
          "text": [
            "mango\n",
            "pawpaw\n",
            "banana\n"
          ]
        }
      ]
    },
    {
      "cell_type": "code",
      "source": [
        "myset= {\"mango\", \"orange\", \"banana\"}\n",
        "myit=iter(myset)\n",
        "\n",
        "print(next(myit))\n",
        "print(next(myit))\n",
        "print(next(myit))\n"
      ],
      "metadata": {
        "colab": {
          "base_uri": "https://localhost:8080/"
        },
        "id": "VWE1TpDTEIXP",
        "outputId": "baa72f20-0be6-456a-95f2-07fec70d76c6"
      },
      "execution_count": null,
      "outputs": [
        {
          "output_type": "stream",
          "name": "stdout",
          "text": [
            "banana\n",
            "mango\n",
            "orange\n"
          ]
        }
      ]
    },
    {
      "cell_type": "code",
      "source": [
        "mydict={\n",
        "          \"brand\": \"Ford\",\n",
        "  \"model\": \"Mustang\",\n",
        "  \"year\": 1964\n",
        "         }\n",
        "myit=iter(mydict)\n",
        "\n",
        "print(next(myit))\n",
        "print(next(myit))\n",
        "print(next(myit))\n"
      ],
      "metadata": {
        "collapsed": true,
        "colab": {
          "base_uri": "https://localhost:8080/"
        },
        "id": "MmfttVrJEjOZ",
        "outputId": "af9f90fc-cf04-493f-b189-7986c1c9684b"
      },
      "execution_count": null,
      "outputs": [
        {
          "output_type": "stream",
          "name": "stdout",
          "text": [
            "brand\n",
            "model\n",
            "year\n"
          ]
        }
      ]
    },
    {
      "cell_type": "code",
      "source": [
        "mystr = \"banana\"\n",
        "myit = iter(mystr)\n",
        "\n",
        "print(next(myit))\n",
        "print(next(myit))\n",
        "print(next(myit))\n",
        "print(next(myit))\n",
        "print(next(myit))\n",
        "print(next(myit))"
      ],
      "metadata": {
        "colab": {
          "base_uri": "https://localhost:8080/"
        },
        "id": "f0kxiVZvGDuq",
        "outputId": "625a3b29-e886-4255-939b-2662c23f9aec"
      },
      "execution_count": null,
      "outputs": [
        {
          "output_type": "stream",
          "name": "stdout",
          "text": [
            "b\n",
            "a\n",
            "n\n",
            "a\n",
            "n\n",
            "a\n"
          ]
        }
      ]
    },
    {
      "cell_type": "markdown",
      "source": [
        "# Create an Iterator"
      ],
      "metadata": {
        "id": "QbL1fOvYGrrw"
      }
    },
    {
      "cell_type": "code",
      "source": [
        "#We specifically use the __itr__ function and __next__ functions just as the class and objects\n",
        "#We first create a class before doing this\n",
        "#For Example:\n",
        "#Create an iterator that returns numbers, starting with 1, and each sequence will increase by one (returning 1,2,3,4,5 etc.):\n",
        "\n",
        "\n",
        " #First we create an iterator :\n",
        "\n",
        "class MyNumbers:\n",
        "  def __iter__(self):\n",
        "    self.a = 1\n",
        "    return self\n",
        "\n",
        "  def __next__(self):\n",
        "    x = self.a\n",
        "    self.a += 1\n",
        "    return x\n",
        "\n",
        "#Then we loop through it to get the numbers by defining both the class and iterator:\n",
        "\n",
        "myclass=MyNumbers()\n",
        "myit=iter(myclass)\n",
        "\n",
        "print(next(myit))\n",
        "print(next(myit))\n",
        "print(next(myit))\n",
        "print(next(myit))\n",
        "print(next(myit))\n",
        "\n",
        "\n",
        "\n",
        "\n"
      ],
      "metadata": {
        "colab": {
          "base_uri": "https://localhost:8080/"
        },
        "id": "muwGCF0-Gt0T",
        "outputId": "42c514b4-8d12-41e9-929b-b01a49a0a23c"
      },
      "execution_count": null,
      "outputs": [
        {
          "output_type": "stream",
          "name": "stdout",
          "text": [
            "1\n",
            "2\n",
            "3\n",
            "4\n",
            "5\n"
          ]
        }
      ]
    },
    {
      "cell_type": "code",
      "source": [
        "#Stop after 20 iterations:\n",
        "\n",
        "class MyNumbers:\n",
        "  def __iter__(self):\n",
        "    self.b = 1\n",
        "    return self\n",
        "\n",
        "  def __next__(self):\n",
        "    if self.b <= 20:\n",
        "     x=self.b\n",
        "     self.b += 1\n",
        "     return x\n",
        "    else:\n",
        "      raise StopIteration\n",
        "\n",
        "myclass= MyNumbers()\n",
        "myiter=iter(myclass)\n",
        "\n",
        "\n",
        "for x in myiter:\n",
        " print(x)\n"
      ],
      "metadata": {
        "colab": {
          "base_uri": "https://localhost:8080/"
        },
        "collapsed": true,
        "id": "n2YeHHA1JJst",
        "outputId": "12893d97-9ef1-470b-a1e0-8f14aaa46cdb"
      },
      "execution_count": null,
      "outputs": [
        {
          "output_type": "stream",
          "name": "stdout",
          "text": [
            "1\n",
            "2\n",
            "3\n",
            "4\n",
            "5\n",
            "6\n",
            "7\n",
            "8\n",
            "9\n",
            "10\n",
            "11\n",
            "12\n",
            "13\n",
            "14\n",
            "15\n",
            "16\n",
            "17\n",
            "18\n",
            "19\n",
            "20\n",
            "1\n",
            "2\n",
            "3\n",
            "4\n",
            "5\n",
            "6\n",
            "7\n",
            "8\n",
            "9\n",
            "10\n",
            "11\n",
            "12\n",
            "13\n",
            "14\n",
            "15\n",
            "16\n",
            "17\n",
            "18\n",
            "19\n",
            "20\n"
          ]
        }
      ]
    },
    {
      "cell_type": "code",
      "source": [
        "class MyNumbers:\n",
        "  def __iter__(self):\n",
        "    self.a = 1\n",
        "    return self\n",
        "\n",
        "  def __next__(self):\n",
        "    if self.a <= 20:\n",
        "      x = self.a\n",
        "      self.a += 1\n",
        "      return x\n",
        "    else:\n",
        "      raise StopIteration\n",
        "\n",
        "myclass = MyNumbers()\n",
        "myiter = iter(myclass)\n",
        "\n",
        "for x in myiter:\n",
        "  print(x)"
      ],
      "metadata": {
        "colab": {
          "base_uri": "https://localhost:8080/"
        },
        "collapsed": true,
        "id": "TmlDmQKfLful",
        "outputId": "d7aad50e-f695-4753-8627-9ec8c4bf3bc5"
      },
      "execution_count": null,
      "outputs": [
        {
          "output_type": "stream",
          "name": "stdout",
          "text": [
            "1\n",
            "2\n",
            "3\n",
            "4\n",
            "5\n",
            "6\n",
            "7\n",
            "8\n",
            "9\n",
            "10\n",
            "11\n",
            "12\n",
            "13\n",
            "14\n",
            "15\n",
            "16\n",
            "17\n",
            "18\n",
            "19\n",
            "20\n"
          ]
        }
      ]
    },
    {
      "cell_type": "markdown",
      "source": [
        "# PYTHON POLYMORPISM"
      ],
      "metadata": {
        "id": "r7xJE2eeyjgM"
      }
    },
    {
      "cell_type": "code",
      "source": [
        "#Mostly used in cases where we have multiple classes with the same parameters; eg a car, plane and boat with the parameter move or rather function.\n",
        "\n",
        "class Car:\n",
        "  def __init__(self, brand, model):\n",
        "    self.brand= brand\n",
        "    self.model= model\n",
        "\n",
        "  def move(self):\n",
        "    print(\"DRIVE!!\")\n",
        "\n",
        "class Plane:\n",
        "  def __init__(self, brand, model):\n",
        "    self.brand=brand\n",
        "    self.model=model\n",
        "\n",
        "  def move(self):\n",
        "    print(\"FLY MF!!\")\n",
        "\n",
        "class BOAT:\n",
        "  def __init__(self, brand, model):\n",
        "     self.brand=brand\n",
        "     self.model=model\n",
        "  def move(self):\n",
        "    print(\"SOW\")\n",
        "\n",
        "c1=Car(\"LAMBORGINI\", \"AVENTADOR\")\n",
        "p1=Plane(\"BOEING\", \"768\")\n",
        "b1=BOAT(\"Ibiza\", \"Touring 20\")\n",
        "\n",
        "for x in (c1, p1, b1):\n",
        "   x.move()\n"
      ],
      "metadata": {
        "id": "-VY3GcUYyh15",
        "colab": {
          "base_uri": "https://localhost:8080/"
        },
        "outputId": "4a58550b-d5a2-4527-a612-20198c0cbb30"
      },
      "execution_count": null,
      "outputs": [
        {
          "output_type": "stream",
          "name": "stdout",
          "text": [
            "DRIVE!!\n",
            "FLY MF!!\n",
            "SOW\n"
          ]
        }
      ]
    },
    {
      "cell_type": "code",
      "source": [
        "class Vehicle:\n",
        "  def __init__(self, brand, model):\n",
        "    self.brand = brand\n",
        "    self.model = model\n",
        "\n",
        "  def move(self):\n",
        "   print(\"MOVE\")\n",
        "\n",
        "class car(Vehicle):\n",
        "    pass\n",
        "\n"
      ],
      "metadata": {
        "id": "7Du6lgSXIDiN"
      },
      "execution_count": null,
      "outputs": []
    },
    {
      "cell_type": "markdown",
      "source": [
        "# PYTHON SCOPE"
      ],
      "metadata": {
        "id": "xtO6cCe2bK6O"
      }
    },
    {
      "cell_type": "code",
      "source": [
        "#It is possible to have a variable outside a function where the function will print the local scope meaning the variable inside the function but the code will print the global variable meaning the variable outside the function:\n",
        "#Example:\n",
        "\n",
        "t = 900\n",
        "def my_func():\n",
        "    t = 600\n",
        "    print(t)\n",
        "my_func()\n",
        "print(t)"
      ],
      "metadata": {
        "colab": {
          "base_uri": "https://localhost:8080/"
        },
        "id": "sCoNkRwObQeq",
        "outputId": "efe57951-ce14-4b3d-8efc-7a00e30dac93"
      },
      "execution_count": 10,
      "outputs": [
        {
          "output_type": "stream",
          "name": "stdout",
          "text": [
            "600\n",
            "900\n"
          ]
        }
      ]
    },
    {
      "cell_type": "code",
      "source": [
        "#Using the global keyword to create a global variable\n",
        "\n",
        "def my_func():\n",
        "  global y\n",
        "  y=700\n",
        "\n",
        "my_func()\n",
        "print(y)"
      ],
      "metadata": {
        "colab": {
          "base_uri": "https://localhost:8080/"
        },
        "id": "tc3oF_bQczTv",
        "outputId": "191cff48-8bfa-41ca-a42f-c2e18c7e3bd6"
      },
      "execution_count": 13,
      "outputs": [
        {
          "output_type": "stream",
          "name": "stdout",
          "text": [
            "700\n"
          ]
        }
      ]
    },
    {
      "cell_type": "code",
      "source": [
        "#Use it if you would also like to change a global variable\n",
        "y=900\n",
        "def my_func():\n",
        "   global y\n",
        "   y = 000\n",
        "\n",
        "my_func()\n",
        "print(y)"
      ],
      "metadata": {
        "colab": {
          "base_uri": "https://localhost:8080/"
        },
        "id": "gK7ztrDJdQXC",
        "outputId": "96c047f6-8c14-4f3a-da2c-1ad032b7b4f0"
      },
      "execution_count": 14,
      "outputs": [
        {
          "output_type": "stream",
          "name": "stdout",
          "text": [
            "0\n"
          ]
        }
      ]
    },
    {
      "cell_type": "code",
      "source": [
        "#Accesing the local variable inside a function\n",
        "def myfunc():\n",
        "  x = 300\n",
        "  def myinnerfunc():\n",
        "    print(x)\n",
        "  myinnerfunc()\n",
        "\n",
        "myfunc()"
      ],
      "metadata": {
        "colab": {
          "base_uri": "https://localhost:8080/"
        },
        "id": "1MCOzHa4dzkO",
        "outputId": "1fac742b-c6e9-4416-cbe7-e9b067cfc24b"
      },
      "execution_count": 15,
      "outputs": [
        {
          "output_type": "stream",
          "name": "stdout",
          "text": [
            "300\n"
          ]
        }
      ]
    },
    {
      "cell_type": "code",
      "source": [
        "#USING THE NONLOCAL KEYWORD. It replaces the local variable with the new variable.\n",
        "def myfunc1():\n",
        "  x = \"Jane\"\n",
        "  def myfunc2():\n",
        "    nonlocal x\n",
        "    x = \"hello\"\n",
        "  myfunc2()\n",
        "  return x\n",
        "\n",
        "print(myfunc1())"
      ],
      "metadata": {
        "colab": {
          "base_uri": "https://localhost:8080/"
        },
        "id": "TmuX5hOeeAAl",
        "outputId": "47d1e9a9-b28a-41c6-a2c4-8cee60c4ab4b"
      },
      "execution_count": 16,
      "outputs": [
        {
          "output_type": "stream",
          "name": "stdout",
          "text": [
            "hello\n"
          ]
        }
      ]
    },
    {
      "cell_type": "markdown",
      "source": [
        "FILES"
      ],
      "metadata": {
        "id": "vhPuCC_aeS-5"
      }
    },
    {
      "cell_type": "code",
      "source": [
        "#FOR WINDOWS\n",
        "myfile=open(\"C:\\\\Users\\\\YourUserName\\\\Home\\\\Folder\\\\myfile.txt\")\n",
        "\n",
        "my_file= open(\"file.txt\")\n",
        "my_file = open(\"file.txt\", \"w+\")\n",
        "my_file.write(\"Hii ni line mpya\")\n",
        "\n",
        "#if you would like to read the file again use the seek function\n",
        "\n",
        "my_file.seek()\n",
        "my_file.read\\\n",
        "\n",
        "#Afteryou are done with a file make sure you close it\n",
        "\n",
        "my_file.close()"
      ],
      "metadata": {
        "id": "5mVAIyb7eYBR"
      },
      "execution_count": null,
      "outputs": []
    },
    {
      "cell_type": "markdown",
      "source": [
        "THE FOR FUNCTION"
      ],
      "metadata": {
        "id": "FyFY03dyxXrd"
      }
    },
    {
      "cell_type": "code",
      "source": [
        "fruits = [\"apple\", \"banana\", \"cherry\"]\n",
        "for x in fruits:\n",
        "  if x == \"banana\":\n",
        "    continue\n",
        "  print(x)"
      ],
      "metadata": {
        "colab": {
          "base_uri": "https://localhost:8080/"
        },
        "id": "BsEawau0cPFX",
        "outputId": "a98a08ef-5f3b-440d-81e3-d324cdea2a96"
      },
      "execution_count": null,
      "outputs": [
        {
          "output_type": "stream",
          "name": "stdout",
          "text": [
            "apple\n",
            "cherry\n"
          ]
        }
      ]
    },
    {
      "cell_type": "code",
      "execution_count": null,
      "metadata": {
        "colab": {
          "base_uri": "https://localhost:8080/"
        },
        "id": "mI3ApDbnmn0T",
        "outputId": "b30338c9-beba-48e9-963e-23b6bf76aacb",
        "collapsed": true
      },
      "outputs": [
        {
          "name": "stdout",
          "output_type": "stream",
          "text": [
            "0\n",
            "1\n",
            "2\n",
            "3\n",
            "4\n",
            "5\n",
            "6\n"
          ]
        }
      ],
      "source": [
        "for numbers in range(7):\n",
        " print(numbers)"
      ]
    },
    {
      "cell_type": "code",
      "source": [
        "for x in range(2, 30, 3):\n",
        "  print(x)"
      ],
      "metadata": {
        "collapsed": true,
        "colab": {
          "base_uri": "https://localhost:8080/"
        },
        "id": "x7qZgRsmc12v",
        "outputId": "d124c9ec-0274-4003-fbe9-389ba920ca90"
      },
      "execution_count": null,
      "outputs": [
        {
          "output_type": "stream",
          "name": "stdout",
          "text": [
            "2\n",
            "5\n",
            "8\n",
            "11\n",
            "14\n",
            "17\n",
            "20\n",
            "23\n",
            "26\n",
            "29\n"
          ]
        }
      ]
    },
    {
      "cell_type": "code",
      "source": [
        "for x in range(6):\n",
        "  if x == 3: break\n",
        "  print(x)\n",
        "else:\n",
        "  print(\"Finally finished!\")"
      ],
      "metadata": {
        "colab": {
          "base_uri": "https://localhost:8080/"
        },
        "id": "wvGgXGr3dLuS",
        "outputId": "b0e6eee8-9a63-4dd6-9d8c-38892fbec623"
      },
      "execution_count": null,
      "outputs": [
        {
          "output_type": "stream",
          "name": "stdout",
          "text": [
            "0\n",
            "1\n",
            "2\n"
          ]
        }
      ]
    },
    {
      "cell_type": "code",
      "source": [
        "adj=\"Yellow\", \"Ripe\", \"Yummy\"\n",
        "fruits=\"mango\", \"berry\", \"banana\"\n",
        "\n",
        "for x in adj:\n",
        " for y in fruits:\n",
        "  print(x, y)"
      ],
      "metadata": {
        "colab": {
          "base_uri": "https://localhost:8080/"
        },
        "collapsed": true,
        "id": "T3Kv8xy-deCY",
        "outputId": "b22ca08e-2435-45e6-c621-9c67d666518e"
      },
      "execution_count": null,
      "outputs": [
        {
          "output_type": "stream",
          "name": "stdout",
          "text": [
            "Yellow mango\n",
            "Yellow berry\n",
            "Yellow banana\n",
            "Ripe mango\n",
            "Ripe berry\n",
            "Ripe banana\n",
            "Yummy mango\n",
            "Yummy berry\n",
            "Yummy banana\n"
          ]
        }
      ]
    },
    {
      "cell_type": "code",
      "execution_count": null,
      "metadata": {
        "colab": {
          "base_uri": "https://localhost:8080/"
        },
        "id": "W4JWCk0LtOZm",
        "outputId": "2e115b8c-cb13-4cfb-f27f-cf8c54ef8cd0",
        "collapsed": true
      },
      "outputs": [
        {
          "output_type": "stream",
          "name": "stdout",
          "text": [
            "USHAFIKA SAA UNAANGALIA SCREEN NDIO?\n",
            "SI UNAJUA USSD AMA ? WEKA7890\n",
            "LETS GO\n",
            "MZEE NIKUEKEE NGAPI SASA?90\n",
            "WAZI WAZI ENDA UTAFUTE PESA SASA\n",
            "It was a success G in ksh 90\n"
          ]
        }
      ],
      "source": [
        "#USSD FOR TELA LIMITED\n",
        "airtime_balance=9000\n",
        "ussd_code=7890\n",
        "\n",
        "print(\"USHAFIKA SAA UNAANGALIA SCREEN NDIO?\")\n",
        "requested_code=int(input(\"SI UNAJUA USSD AMA ? WEKA\"))\n",
        "\n",
        "if requested_code==ussd_code:\n",
        "  print(\"LETS GO\")\n",
        "  airtime_required= int(input(\"MZEE NIKUEKEE NGAPI SASA?\"))\n",
        "  if airtime_required<=airtime_balance:\n",
        "    print(\"WAZI WAZI ENDA UTAFUTE PESA SASA\")\n",
        "    print(f\"It was a success G in ksh {airtime_required}\")\n",
        "  else:\n",
        "    print(\"WE ULISKIA WAPI BUANA\")\n",
        "    print(\"round two mzee \")\n",
        "else:\n",
        "  print(\"SINA TIME YAKO MZEE\")"
      ]
    },
    {
      "cell_type": "code",
      "execution_count": null,
      "metadata": {
        "id": "etv_96udxGM1",
        "colab": {
          "base_uri": "https://localhost:8080/"
        },
        "outputId": "9cbfe8c5-66c1-4aee-e1f4-cd15067bc3f3",
        "collapsed": true
      },
      "outputs": [
        {
          "output_type": "stream",
          "name": "stdout",
          "text": [
            "Karibu\n",
            "1=check balance\n",
            "2=withdraw amount\n",
            "3=take a loan\n",
            "4=talk to customer care\n",
            "5=MORE\n",
            "ENTER A NUMBER TO PROCCED 6\n",
            "UNAWASTE TIME HAPA WHY??????\n",
            "Karibu\n",
            "1=check balance\n",
            "2=withdraw amount\n",
            "3=take a loan\n",
            "4=talk to customer care\n",
            "5=MORE\n"
          ]
        }
      ],
      "source": [
        "# I HAVE A USSD CODE OF DIGITS #367 WITH NO AS FOLLOWS:\n",
        "# 1.CHECK BALANCE#2.WITHDRAW AMOUNT #3.TAKE A LOAN\n",
        "# 4. TALK TO CUSTOMER CARE #5.MORE\n",
        "#WRITE A CODE FOR THE USSD\n",
        "\n",
        "ussd=367\n",
        "balance=50000\n",
        "loan_limit=8000\n",
        "\n",
        "print(\"Karibu\")\n",
        "\n",
        "#inside the ussd\n",
        "check_balance=1\n",
        "withdraw_amount=2\n",
        "take_a_loan=3\n",
        "talk_to_customer_care=4\n",
        "more=5\n",
        "\n",
        "print(\"1=check balance\")\n",
        "print(\"2=withdraw amount\")\n",
        "print(\"3=take a loan\")\n",
        "print(\"4=talk to customer care\")\n",
        "print(\"5=MORE\")\n",
        "\n",
        "requested_digit=int(input(\"ENTER A NUMBER TO PROCCED \"))\n",
        "if requested_digit==1:\n",
        " print(f\"YOUR BALANCE IS ksh {balance} \")\n",
        "\n",
        "elif requested_digit==2:\n",
        "  amountToWithdraw=int(input('HOW MUCH DO YOU WANT TO WITHDRAW?'))\n",
        "  if amountToWithdraw>=balance:\n",
        "    print(f\"SUCCESFULLY WITHDRAWN IN KSH{amountToWithdraw}\")\n",
        "  else:\n",
        "    print(\"=====INSUFFICIENT BALANCE====\")\n",
        "elif requested_digit==3:\n",
        "  loan_enquiry=int( input(\"HOW MUCH DO YOU REQUIRE?\"))\n",
        "  if loan_enquiry>=loan_limit:\n",
        "    print(\"=======YOUR REQUEST EXCEEDS YOUR LIMIT========\")\n",
        "    print(\"=======RUDI GROUND UTAFUTE PESA==========\")\n",
        "  else:\n",
        "    print(\"=======REQUEST SUCCESFUL=====\")\n",
        "    print(f\"CHUKUA PESA YAKO IN KSH{loan_enquiry}\")\n",
        "elif requested_digit==4:\n",
        "    print(\"====WELCOME TO CUSTOMER CARE===\")\n",
        "    print(\"\"\"KINDLY WAIT AS WE CONNECT YOU TO AN OPERATOR,\"\"\")\n",
        "elif requested_digit==5:\n",
        "    print(\"YOUVE REACHED THE END OF THIS CODE HUONI ATA MIMI NIMECHOKA\")\n",
        "elif requested_digit!=1 and 2 and 3 and 4 and 5:\n",
        "    print(\"INVALID INPUT\")\n",
        "else:\n",
        "  print(\"UNAWASTE TIME HAPA WHY??????\")\n",
        "\n",
        "\n"
      ]
    },
    {
      "cell_type": "code",
      "source": [
        "p=\"GO AWAY\"\n",
        "print(p[1:4])"
      ],
      "metadata": {
        "colab": {
          "base_uri": "https://localhost:8080/"
        },
        "id": "tPkXF4Jj5KGK",
        "outputId": "c5d989cc-f9b3-42ef-af8e-aaf33587f248"
      },
      "execution_count": null,
      "outputs": [
        {
          "output_type": "stream",
          "name": "stdout",
          "text": [
            "O A\n"
          ]
        }
      ]
    },
    {
      "cell_type": "code",
      "source": [
        "p=\"GO AWAY\"\n",
        "print(p[:5])"
      ],
      "metadata": {
        "colab": {
          "base_uri": "https://localhost:8080/"
        },
        "id": "ClsHJYTk51Is",
        "outputId": "166e8afa-a19b-4bfc-f630-c657a3ddfcb0"
      },
      "execution_count": null,
      "outputs": [
        {
          "output_type": "stream",
          "name": "stdout",
          "text": [
            "GO AW\n"
          ]
        }
      ]
    },
    {
      "cell_type": "code",
      "source": [
        "p=\"GO AWAY\"\n",
        "print(p[1:])"
      ],
      "metadata": {
        "colab": {
          "base_uri": "https://localhost:8080/"
        },
        "id": "IXKLfl1i6aL_",
        "outputId": "003c239b-e2a5-4c7a-87ac-468c1f2e15bd"
      },
      "execution_count": null,
      "outputs": [
        {
          "output_type": "stream",
          "name": "stdout",
          "text": [
            "O AWAY\n"
          ]
        }
      ]
    },
    {
      "cell_type": "code",
      "source": [
        "b=\"token\"\n",
        "print(b.upper())"
      ],
      "metadata": {
        "colab": {
          "base_uri": "https://localhost:8080/"
        },
        "id": "xxLxEcQoq3n7",
        "outputId": "5431a478-52d0-49c8-9300-1b977f348426"
      },
      "execution_count": null,
      "outputs": [
        {
          "output_type": "stream",
          "name": "stdout",
          "text": [
            "TOKEN\n"
          ]
        }
      ]
    },
    {
      "cell_type": "code",
      "source": [
        "m=\"ROAD\"\n",
        "print(m.lower())"
      ],
      "metadata": {
        "colab": {
          "base_uri": "https://localhost:8080/"
        },
        "id": "g46KtY1SrhSj",
        "outputId": "e4b4cd10-15ce-4f50-b9ff-f6f1b20cd743"
      },
      "execution_count": null,
      "outputs": [
        {
          "output_type": "stream",
          "name": "stdout",
          "text": [
            "road\n"
          ]
        }
      ]
    },
    {
      "cell_type": "code",
      "source": [
        "y=\"river\"\n",
        "print(y.replace(\"TALK\",\"AWAY\"))"
      ],
      "metadata": {
        "colab": {
          "base_uri": "https://localhost:8080/"
        },
        "id": "1iynbLCyt5n6",
        "outputId": "12106b56-6484-4ac9-eeab-856a284fc2ec"
      },
      "execution_count": null,
      "outputs": [
        {
          "output_type": "stream",
          "name": "stdout",
          "text": [
            "river\n"
          ]
        }
      ]
    },
    {
      "cell_type": "markdown",
      "source": [
        "#LISTS"
      ],
      "metadata": {
        "id": "gwzUz7nJ1cg2"
      }
    },
    {
      "cell_type": "code",
      "source": [
        "\n",
        "list=(\"Ten\", \"Zero\", \"Thirty\")\n",
        "print(list[2])"
      ],
      "metadata": {
        "colab": {
          "base_uri": "https://localhost:8080/"
        },
        "id": "Af6TDR7gBRms",
        "outputId": "32dece77-a7ca-4753-ee5d-c33bd92e6ba0"
      },
      "execution_count": null,
      "outputs": [
        {
          "output_type": "stream",
          "name": "stdout",
          "text": [
            "Thirty\n"
          ]
        }
      ]
    },
    {
      "cell_type": "code",
      "source": [
        "list=(\"Ten\", \"Twenty\", \"Thirty\")\n",
        "print(list[1])\n"
      ],
      "metadata": {
        "colab": {
          "base_uri": "https://localhost:8080/"
        },
        "id": "ctFBk3fxPGc6",
        "outputId": "82878706-f3a4-4194-de84-f9354e8cb24a"
      },
      "execution_count": null,
      "outputs": [
        {
          "output_type": "stream",
          "name": "stdout",
          "text": [
            "Twenty\n"
          ]
        }
      ]
    },
    {
      "cell_type": "code",
      "source": [
        "list=(\"Ten\", \"Zero\", \"Thirty\")\n",
        "print(list[-2])"
      ],
      "metadata": {
        "colab": {
          "base_uri": "https://localhost:8080/"
        },
        "id": "eFEAVjhuCAp6",
        "outputId": "50c91894-9997-4c72-e3e7-508cfdc8c832"
      },
      "execution_count": null,
      "outputs": [
        {
          "output_type": "stream",
          "name": "stdout",
          "text": [
            "Zero\n"
          ]
        }
      ]
    },
    {
      "cell_type": "code",
      "source": [
        "list=(\"Ten\", \"Zero\", \"Thirty\")\n",
        "print(list[0:2])"
      ],
      "metadata": {
        "colab": {
          "base_uri": "https://localhost:8080/"
        },
        "id": "0jRK78foCLVq",
        "outputId": "540c0a3d-c406-4773-92f1-2b39d3297db0"
      },
      "execution_count": null,
      "outputs": [
        {
          "output_type": "stream",
          "name": "stdout",
          "text": [
            "('Ten', 'Zero')\n"
          ]
        }
      ]
    },
    {
      "cell_type": "code",
      "source": [
        "list=[\"Ten\", \"Zero\", \"Thirty\"]\n",
        "list[2]= \"Fifty\"\n",
        "print(list)"
      ],
      "metadata": {
        "colab": {
          "base_uri": "https://localhost:8080/"
        },
        "id": "tdzrbPVGCy5q",
        "outputId": "8595c455-7ac4-477c-d366-629cb8666b7e"
      },
      "execution_count": null,
      "outputs": [
        {
          "output_type": "stream",
          "name": "stdout",
          "text": [
            "['Ten', 'Zero', 'Fifty']\n"
          ]
        }
      ]
    },
    {
      "cell_type": "code",
      "source": [
        "#Insert an item inside a set\n",
        "list=[\"Ten\", \"Zero\", \"Thirty\"]\n",
        "list.insert(1,\"Seventy\")\n",
        "print(list)"
      ],
      "metadata": {
        "colab": {
          "base_uri": "https://localhost:8080/"
        },
        "id": "-tB8RTtMDiDu",
        "outputId": "408c4489-f038-49ef-f9eb-139e94691692"
      },
      "execution_count": null,
      "outputs": [
        {
          "output_type": "stream",
          "name": "stdout",
          "text": [
            "['Ten', 'Seventy', 'Zero', 'Thirty']\n"
          ]
        }
      ]
    },
    {
      "cell_type": "code",
      "source": [
        "#Mwisho wa Set\n",
        "list=[\"Ten\", \"Zero\", \"Thirty\"]\n",
        "list.append(\"Unicorn\")\n",
        "print(list)"
      ],
      "metadata": {
        "colab": {
          "base_uri": "https://localhost:8080/"
        },
        "id": "GWv4hFG7EByp",
        "outputId": "b85d48cb-73ab-4f03-ca33-833708561e3e"
      },
      "execution_count": null,
      "outputs": [
        {
          "output_type": "stream",
          "name": "stdout",
          "text": [
            "['Ten', 'Zero', 'Thirty', 'Unicorn']\n"
          ]
        }
      ]
    },
    {
      "cell_type": "code",
      "source": [
        "list=[\"Ten\", \"Zero\", \"Thirty\"]\n",
        "tropical= [\"mango\", \"pineapple\", \"papaya\"]\n",
        "list.extend(tropical)\n",
        "print(list)"
      ],
      "metadata": {
        "colab": {
          "base_uri": "https://localhost:8080/"
        },
        "id": "qCTVLypWEqTx",
        "outputId": "4f8ed719-afa4-4084-ad76-b8a0ac7fb680"
      },
      "execution_count": null,
      "outputs": [
        {
          "output_type": "stream",
          "name": "stdout",
          "text": [
            "['Ten', 'Zero', 'Thirty', 'mango', 'pineapple', 'papaya']\n"
          ]
        }
      ]
    },
    {
      "cell_type": "code",
      "source": [
        "list=[\"Ten\", \"Zero\", \"Thirty\"]\n",
        "list.remove(\"Thirty\")\n",
        "print(list)"
      ],
      "metadata": {
        "colab": {
          "base_uri": "https://localhost:8080/"
        },
        "id": "RIfg2oUcF4CD",
        "outputId": "1ee0f88d-7d10-45f7-f610-8df67060bf40"
      },
      "execution_count": null,
      "outputs": [
        {
          "output_type": "stream",
          "name": "stdout",
          "text": [
            "['Ten', 'Zero']\n"
          ]
        }
      ]
    },
    {
      "cell_type": "code",
      "source": [
        "list=[\"Ten\", \"Zero\", \"Thirty\"]\n",
        "list.pop(0)\n",
        "print(list)"
      ],
      "metadata": {
        "colab": {
          "base_uri": "https://localhost:8080/"
        },
        "id": "2VoToIEsGZe8",
        "outputId": "3f43b631-fc14-4e9e-a637-cb13010cf5ea"
      },
      "execution_count": null,
      "outputs": [
        {
          "output_type": "stream",
          "name": "stdout",
          "text": [
            "['Zero', 'Thirty']\n"
          ]
        }
      ]
    },
    {
      "cell_type": "code",
      "source": [
        "list=[\"Ten\", \"Zero\", \"Thirty\"]\n",
        "list.pop()\n",
        "print(list)"
      ],
      "metadata": {
        "colab": {
          "base_uri": "https://localhost:8080/"
        },
        "id": "riKvQ_neGs5t",
        "outputId": "dcf27a89-3ec7-4067-c829-41201030a482"
      },
      "execution_count": null,
      "outputs": [
        {
          "output_type": "stream",
          "name": "stdout",
          "text": [
            "['Ten', 'Zero']\n"
          ]
        }
      ]
    },
    {
      "cell_type": "code",
      "source": [
        "list=[\"Ten\", \"Zero\", \"Thirty\"]\n",
        "del list[1]\n",
        "print(list)"
      ],
      "metadata": {
        "id": "gBPTJduuG8na",
        "colab": {
          "base_uri": "https://localhost:8080/"
        },
        "outputId": "fab476bb-7488-4bbc-8182-008093024cf6"
      },
      "execution_count": null,
      "outputs": [
        {
          "output_type": "stream",
          "name": "stdout",
          "text": [
            "['Ten', 'Thirty']\n"
          ]
        }
      ]
    },
    {
      "cell_type": "code",
      "source": [
        "thislist = [\"apple\", \"banana\", \"cherry\"]\n",
        "for x in thislist:\n",
        "  print(x)"
      ],
      "metadata": {
        "id": "Kd-G4_U9I_Yz",
        "outputId": "39d2dad7-7831-4d46-d000-2102205d13e4",
        "colab": {
          "base_uri": "https://localhost:8080/"
        }
      },
      "execution_count": null,
      "outputs": [
        {
          "output_type": "stream",
          "name": "stdout",
          "text": [
            "apple\n",
            "banana\n",
            "cherry\n"
          ]
        }
      ]
    },
    {
      "cell_type": "code",
      "source": [
        "fruits = [\"apple\", \"banana\", \"cherry\", \"kiwi\", \"mango\"]\n",
        "newlist = []\n",
        "\n",
        "for x in fruits:\n",
        "  if \"a\" in x:\n",
        "    newlist.append(x)\n",
        "\n",
        "print(newlist)"
      ],
      "metadata": {
        "colab": {
          "base_uri": "https://localhost:8080/"
        },
        "id": "82JD-jmwLw45",
        "outputId": "bb56a28d-ae8b-4213-b9c2-7b3a177bfd1b"
      },
      "execution_count": null,
      "outputs": [
        {
          "output_type": "stream",
          "name": "stdout",
          "text": [
            "['apple', 'banana', 'mango']\n"
          ]
        }
      ]
    },
    {
      "cell_type": "code",
      "source": [
        "#newlist = [expression for item in iterable if condition == True]\n",
        "newlist = [x for x in fruits if \"a\" in x]\n",
        "newlist=[x for x in fruits if x!= \"apple\"]\n"
      ],
      "metadata": {
        "id": "A0BgVuMwNXb5"
      },
      "execution_count": null,
      "outputs": []
    },
    {
      "cell_type": "code",
      "source": [
        "newlist = [x for x in range(10)]\n",
        "newlist = [x for x in range(10) if x> 5]\n",
        "newlist = [x.upper() for x in fruits]\n",
        "newlist = ['hello' for x in fruits]\n",
        "\n",
        "#Return \"orange\" instead of \"banana\":\n",
        "newlist = [x if x != \"banana\" else \"orange\" for x in fruits]\n"
      ],
      "metadata": {
        "id": "01O4tGoxOQK3"
      },
      "execution_count": null,
      "outputs": []
    },
    {
      "cell_type": "code",
      "source": [
        "fruits = [\"apple\", \"banana\", \"cherry\"]\n",
        "newlist = [x for x in fruits]\n",
        "print(newlist)"
      ],
      "metadata": {
        "id": "7vPLBZV8QEfx",
        "colab": {
          "base_uri": "https://localhost:8080/"
        },
        "outputId": "4c538fc8-c10c-4df2-c006-3859a340d743"
      },
      "execution_count": null,
      "outputs": [
        {
          "output_type": "stream",
          "name": "stdout",
          "text": [
            "['apple', 'banana', 'cherry']\n"
          ]
        }
      ]
    },
    {
      "cell_type": "code",
      "source": [
        "thislist = [\"orange\", \"mango\", \"kiwi\", \"pineapple\", \"banana\"]\n",
        "thislist.sort()\n",
        "print(thislist)"
      ],
      "metadata": {
        "colab": {
          "base_uri": "https://localhost:8080/"
        },
        "id": "agAOxTll4cCc",
        "outputId": "999dc189-990f-4d52-9a3c-709e77213c2f"
      },
      "execution_count": null,
      "outputs": [
        {
          "output_type": "stream",
          "name": "stdout",
          "text": [
            "['banana', 'kiwi', 'mango', 'orange', 'pineapple']\n"
          ]
        }
      ]
    },
    {
      "cell_type": "code",
      "source": [
        "#sort lists in descending order using reverse=True\n",
        "thislist = [\"orange\", \"mango\", \"kiwi\", \"pineapple\", \"banana\"]\n",
        "thislist.sort(reverse = True)\n",
        "print(thislist)"
      ],
      "metadata": {
        "colab": {
          "base_uri": "https://localhost:8080/"
        },
        "id": "FSMf2Lsa43Pi",
        "outputId": "734e67cf-e5df-4c62-cf73-14c89dcc4ecb"
      },
      "execution_count": null,
      "outputs": [
        {
          "output_type": "stream",
          "name": "stdout",
          "text": [
            "['pineapple', 'orange', 'mango', 'kiwi', 'banana']\n"
          ]
        }
      ]
    },
    {
      "cell_type": "code",
      "source": [
        "thislist = [100, 50, 65, 82, 23]\n",
        "thislist.sort(reverse = True)\n",
        "print(thislist)"
      ],
      "metadata": {
        "colab": {
          "base_uri": "https://localhost:8080/"
        },
        "id": "XkK4zs5M5S4Z",
        "outputId": "223105d2-d336-46b9-8618-33e5b2d68632"
      },
      "execution_count": null,
      "outputs": [
        {
          "output_type": "stream",
          "name": "stdout",
          "text": [
            "[100, 82, 65, 50, 23]\n"
          ]
        }
      ]
    },
    {
      "cell_type": "code",
      "source": [
        "def myfunc(n):\n",
        "  return abs(n - 50)\n",
        "\n",
        "thislist = [100, 50, 65, 82, 23]\n",
        "thislist.sort(key = myfunc)\n",
        "print(thislist)"
      ],
      "metadata": {
        "colab": {
          "base_uri": "https://localhost:8080/"
        },
        "id": "ZqClLCwM77ml",
        "outputId": "d98c43d6-af9a-443c-99f8-990e4dfa41f0"
      },
      "execution_count": null,
      "outputs": [
        {
          "output_type": "stream",
          "name": "stdout",
          "text": [
            "[50, 65, 23, 82, 100]\n"
          ]
        }
      ]
    },
    {
      "cell_type": "code",
      "source": [
        "#Case sensitive sorting\n",
        "thislist = [\"banana\", \"Orange\", \"Kiwi\", \"cherry\"]\n",
        "thislist.sort(key =str.lower)\n",
        "print(thislist)"
      ],
      "metadata": {
        "colab": {
          "base_uri": "https://localhost:8080/"
        },
        "id": "TdoexINx8t-_",
        "outputId": "8c4fbcb7-3b3e-4b43-840b-d42d96671fb2"
      },
      "execution_count": null,
      "outputs": [
        {
          "output_type": "stream",
          "name": "stdout",
          "text": [
            "['banana', 'cherry', 'Kiwi', 'Orange']\n"
          ]
        }
      ]
    },
    {
      "cell_type": "code",
      "source": [
        "thislist = [\"banana\", \"Orange\", \"Kiwi\", \"cherry\"]\n",
        "thislist.reverse()\n",
        "print(thislist)"
      ],
      "metadata": {
        "colab": {
          "base_uri": "https://localhost:8080/"
        },
        "id": "e9dPQIgK9evA",
        "outputId": "7d8c7226-d1e2-41d6-8f78-6f2a842a382f"
      },
      "execution_count": null,
      "outputs": [
        {
          "output_type": "stream",
          "name": "stdout",
          "text": [
            "['cherry', 'Kiwi', 'Orange', 'banana']\n"
          ]
        }
      ]
    },
    {
      "cell_type": "code",
      "source": [
        "thislist= [\"Ginger\", \"Lemon\", \"Kitunguu\", \"Nyanya\"]\n",
        "thislist.sort(key=str.lower)\n",
        "print(thislist)"
      ],
      "metadata": {
        "colab": {
          "base_uri": "https://localhost:8080/"
        },
        "id": "JZg-D5hshI6v",
        "outputId": "9195c808-ad01-450a-9e09-b08fd6d03084"
      },
      "execution_count": null,
      "outputs": [
        {
          "output_type": "stream",
          "name": "stdout",
          "text": [
            "['Ginger', 'Kitunguu', 'Lemon', 'Nyanya']\n"
          ]
        }
      ]
    },
    {
      "cell_type": "code",
      "source": [
        "thislist= [\"Ginger\", \"Lemon\", \"Kitunguu\", \"Nyanya\"]\n",
        "thislist.copy()\n",
        "print(thislist)"
      ],
      "metadata": {
        "colab": {
          "base_uri": "https://localhost:8080/"
        },
        "id": "lZjlaR4viLyW",
        "outputId": "94544a41-6d25-4118-c4fc-a58b0f24964e"
      },
      "execution_count": null,
      "outputs": [
        {
          "output_type": "stream",
          "name": "stdout",
          "text": [
            "['Ginger', 'Lemon', 'Kitunguu', 'Nyanya']\n"
          ]
        }
      ]
    },
    {
      "cell_type": "code",
      "source": [
        "thislist = [\"apple\", \"banana\", \"cherry\"]\n",
        "thislist.copy()\n",
        "print(thislist)"
      ],
      "metadata": {
        "colab": {
          "base_uri": "https://localhost:8080/"
        },
        "id": "yIJRDwZA976B",
        "outputId": "25795d40-c948-4025-e994-36a4779f39d2"
      },
      "execution_count": null,
      "outputs": [
        {
          "output_type": "stream",
          "name": "stdout",
          "text": [
            "['apple', 'banana', 'cherry']\n"
          ]
        }
      ]
    },
    {
      "cell_type": "code",
      "source": [
        "thislist = [\"apple\", \"banana\", \"cherry\"]\n",
        "mylist = list(thislist)\n",
        "print(mylist)"
      ],
      "metadata": {
        "colab": {
          "base_uri": "https://localhost:8080/"
        },
        "id": "ESs0780y-N9t",
        "outputId": "30c00a9a-1b60-43e8-fb74-1bb36e7a4abc"
      },
      "execution_count": null,
      "outputs": [
        {
          "output_type": "stream",
          "name": "stdout",
          "text": [
            "['apple', 'banana', 'cherry']\n"
          ]
        }
      ]
    },
    {
      "cell_type": "code",
      "source": [
        "items=(\"Tamborine\",\"Cement\",\"Metal Doors\")\n",
        "quotation=list(items)\n",
        "print(quotation)"
      ],
      "metadata": {
        "colab": {
          "base_uri": "https://localhost:8080/"
        },
        "id": "wxLFLzA4id3K",
        "outputId": "ab714bee-d03b-4d8d-dd28-4bfe6a02b141"
      },
      "execution_count": null,
      "outputs": [
        {
          "output_type": "stream",
          "name": "stdout",
          "text": [
            "['Tamborine', 'Cement', 'Metal Doors']\n"
          ]
        }
      ]
    },
    {
      "cell_type": "code",
      "source": [
        "items=[\"Tamborine\",\"Cement\",\"Metal Doors\"]\n",
        "list =[\"Water\"]\n",
        "\n",
        "for x in list:\n",
        " items.append(list)\n",
        "print(items)\n"
      ],
      "metadata": {
        "colab": {
          "base_uri": "https://localhost:8080/"
        },
        "id": "QTJ_lcJBlDKh",
        "outputId": "58930fa4-a842-4106-d964-cf352de4520b"
      },
      "execution_count": null,
      "outputs": [
        {
          "output_type": "stream",
          "name": "stdout",
          "text": [
            "['Tamborine', 'Cement', 'Metal Doors', ['Water']]\n"
          ]
        }
      ]
    },
    {
      "cell_type": "markdown",
      "source": [
        "#TUPLES"
      ],
      "metadata": {
        "id": "_igsmM7P1VlC"
      }
    },
    {
      "cell_type": "code",
      "source": [
        "\n",
        "\n",
        "x = (\"apple\", \"banana\", \"cherry\")\n",
        "y = list(x)\n",
        "y[1] = \"kiwi\"\n",
        "x = tuple(y)\n",
        "\n",
        "print(x)\n"
      ],
      "metadata": {
        "id": "Z6O9MtKlRZAj",
        "colab": {
          "base_uri": "https://localhost:8080/"
        },
        "outputId": "fc62b65d-1bb4-4d21-9774-07747ca6fc9a"
      },
      "execution_count": null,
      "outputs": [
        {
          "output_type": "stream",
          "name": "stdout",
          "text": [
            "('apple', 'kiwi', 'cherry')\n"
          ]
        }
      ]
    },
    {
      "cell_type": "code",
      "source": [
        "thistuple = (\"apple\", \"banana\", \"cherry\")\n",
        "y = (\"orange\",)\n",
        "thistuple += y\n",
        "\n",
        "print(thistuple)"
      ],
      "metadata": {
        "colab": {
          "base_uri": "https://localhost:8080/"
        },
        "id": "FI1jFdMJhKMu",
        "outputId": "7bdfb9a1-5073-4c7d-a7f4-00dd2de3f733"
      },
      "execution_count": null,
      "outputs": [
        {
          "output_type": "stream",
          "name": "stdout",
          "text": [
            "('apple', 'banana', 'cherry', 'orange')\n"
          ]
        }
      ]
    },
    {
      "cell_type": "code",
      "source": [
        "#Loop\n",
        "thistuple = (\"apple\", \"banana\", \"cherry\")\n",
        "for x in thistuple:\n",
        "  print(x)"
      ],
      "metadata": {
        "colab": {
          "base_uri": "https://localhost:8080/"
        },
        "id": "g8ggbMtFi3ea",
        "outputId": "022b949c-c384-4db7-cc75-bd479ec93d97"
      },
      "execution_count": null,
      "outputs": [
        {
          "output_type": "stream",
          "name": "stdout",
          "text": [
            "apple\n",
            "banana\n",
            "cherry\n"
          ]
        }
      ]
    },
    {
      "cell_type": "code",
      "source": [
        "mytuple = ('apple', 'banana', 'cherry')\n",
        "i = 0\n",
        "while i < len(mytuple):\n",
        "  print(mytuple[i])\n",
        "  i = i + 1"
      ],
      "metadata": {
        "colab": {
          "base_uri": "https://localhost:8080/"
        },
        "id": "sg0gmmeJzV7G",
        "outputId": "476d9649-7290-497e-e5e7-2a57eb05e597"
      },
      "execution_count": null,
      "outputs": [
        {
          "output_type": "stream",
          "name": "stdout",
          "text": [
            "apple\n",
            "banana\n",
            "cherry\n"
          ]
        }
      ]
    },
    {
      "cell_type": "code",
      "source": [
        "thistuple = (\"apple\", \"banana\", \"cherry\")\n",
        "for i in range(len(thistuple)):\n",
        "  print(thistuple[i])"
      ],
      "metadata": {
        "colab": {
          "base_uri": "https://localhost:8080/"
        },
        "id": "ovP7msb7z3WR",
        "outputId": "2d9bda8a-f516-4031-feec-af920fbae96e"
      },
      "execution_count": null,
      "outputs": [
        {
          "output_type": "stream",
          "name": "stdout",
          "text": [
            "apple\n",
            "banana\n",
            "cherry\n"
          ]
        }
      ]
    },
    {
      "cell_type": "markdown",
      "source": [
        "#SETS"
      ],
      "metadata": {
        "id": "nAnQraKw1PDs"
      }
    },
    {
      "cell_type": "code",
      "source": [
        "thisset = {\"apple\", \"banana\", \"cherry\", True, 1, 2}\n",
        "\n",
        "print(thisset)"
      ],
      "metadata": {
        "colab": {
          "base_uri": "https://localhost:8080/"
        },
        "id": "PryDqOg71HT9",
        "outputId": "e82ba0f4-4e52-45b6-b754-e374306a8fa1"
      },
      "execution_count": null,
      "outputs": [
        {
          "output_type": "stream",
          "name": "stdout",
          "text": [
            "{True, 2, 'apple', 'cherry', 'banana'}\n"
          ]
        }
      ]
    },
    {
      "cell_type": "code",
      "source": [
        "thisset= {\"apple\", \"banana\", \"cherry\", False, 0}\n",
        "print(thisset)\n",
        "\n"
      ],
      "metadata": {
        "colab": {
          "base_uri": "https://localhost:8080/"
        },
        "id": "gkpCHpDV1vXB",
        "outputId": "f3d4e409-8e17-4631-fb0c-73da53f7e8f9"
      },
      "execution_count": null,
      "outputs": [
        {
          "output_type": "stream",
          "name": "stdout",
          "text": [
            "{False, 'apple', 'banana', 'cherry'}\n"
          ]
        }
      ]
    },
    {
      "cell_type": "code",
      "source": [
        "thisset= {\"apple\", \"banana\", \"cherry\", False, 0}\n",
        "print( \"banana\" not in thisset)"
      ],
      "metadata": {
        "colab": {
          "base_uri": "https://localhost:8080/"
        },
        "id": "CywzSpPz_HHm",
        "outputId": "92f1b655-ac0f-4921-b481-3279fa621a48"
      },
      "execution_count": null,
      "outputs": [
        {
          "output_type": "stream",
          "name": "stdout",
          "text": [
            "False\n"
          ]
        }
      ]
    },
    {
      "cell_type": "code",
      "source": [
        "thisset= {\"apple\", \"banana\", \"cherry\", False, 0}\n",
        "thisset.add(\"guava\")\n",
        "print(thisset)\n"
      ],
      "metadata": {
        "colab": {
          "base_uri": "https://localhost:8080/"
        },
        "id": "VVLYNtUPAMWp",
        "outputId": "cd9b75d2-83dc-4592-ec0f-58cf7356bb04"
      },
      "execution_count": null,
      "outputs": [
        {
          "output_type": "stream",
          "name": "stdout",
          "text": [
            "{False, 'banana', 'cherry', 'guava', 'apple'}\n"
          ]
        }
      ]
    },
    {
      "cell_type": "code",
      "source": [
        "thisset= {\"apple\", \"banana\", \"cherry\", False, 0}\n",
        "thislist=[\"Guava\"]\n",
        "thisset.update(thislist)\n",
        "print(thisset)"
      ],
      "metadata": {
        "colab": {
          "base_uri": "https://localhost:8080/"
        },
        "id": "zZDyLpasAnyJ",
        "outputId": "b2334dac-befd-435e-8331-4759c6e06a11"
      },
      "execution_count": null,
      "outputs": [
        {
          "output_type": "stream",
          "name": "stdout",
          "text": [
            "{False, 'banana', 'cherry', 'apple', 'Guava'}\n"
          ]
        }
      ]
    },
    {
      "cell_type": "code",
      "source": [
        "thisset = {\"apple\", \"banana\", \"cherry\"}\n",
        "\n",
        "thisset.clear()\n",
        "\n",
        "print(thisset)"
      ],
      "metadata": {
        "id": "gAAuH4fEBZ83",
        "outputId": "7e7ce576-2982-42a2-c1f9-2e0b5bfd0c78",
        "colab": {
          "base_uri": "https://localhost:8080/"
        }
      },
      "execution_count": null,
      "outputs": [
        {
          "output_type": "stream",
          "name": "stdout",
          "text": [
            "set()\n"
          ]
        }
      ]
    },
    {
      "cell_type": "code",
      "source": [
        "thisset = {\"apple\", \"banana\", \"cherry\"}\n",
        "\n",
        "x = thisset.pop()\n",
        "\n",
        "print(x)\n",
        "\n",
        "print(thisset)"
      ],
      "metadata": {
        "id": "tPwPHd_NBfV3",
        "colab": {
          "base_uri": "https://localhost:8080/"
        },
        "outputId": "29a6e77e-31fd-4304-b111-512f710ca9b8"
      },
      "execution_count": null,
      "outputs": [
        {
          "output_type": "stream",
          "name": "stdout",
          "text": [
            "cherry\n",
            "{'apple', 'banana'}\n"
          ]
        }
      ]
    },
    {
      "cell_type": "code",
      "source": [
        "set1 = {\"apple\", \"banana\", \"cherry\"}\n",
        "set2 = {\"google\", \"microsoft\", \"apple\"}\n",
        "\n",
        "set1.symmetric_difference_update(set2)\n",
        "\n",
        "print(set3)"
      ],
      "metadata": {
        "colab": {
          "base_uri": "https://localhost:8080/"
        },
        "id": "f1EpB0rqSkZ2",
        "outputId": "64f15027-8c65-4a25-d226-4f3cb4a4d7fa"
      },
      "execution_count": null,
      "outputs": [
        {
          "output_type": "stream",
          "name": "stdout",
          "text": [
            "{'microsoft', 'cherry', 'google', 'banana'}\n"
          ]
        }
      ]
    },
    {
      "cell_type": "code",
      "source": [
        "set1 = {\"apple\", \"banana\", \"cherry\"}\n",
        "set2 = {\"google\", \"microsoft\", \"apple\"}\n",
        "\n",
        "set1.intersection_update(set2)\n",
        "\n",
        "print(set1)"
      ],
      "metadata": {
        "colab": {
          "base_uri": "https://localhost:8080/"
        },
        "id": "SBhB6qwYlITN",
        "outputId": "357d44d5-7713-475e-8df3-6981de042b2c"
      },
      "execution_count": null,
      "outputs": [
        {
          "output_type": "stream",
          "name": "stdout",
          "text": [
            "{'apple'}\n"
          ]
        }
      ]
    },
    {
      "cell_type": "code",
      "source": [
        "set1 = {\"apple\", 1,  \"banana\", 0, \"cherry\"}\n",
        "set2 = {False, \"google\", 1, \"apple\", 2, True}\n",
        "\n",
        "set3 = set1.intersection(set2)\n",
        "\n",
        "print(set3)"
      ],
      "metadata": {
        "id": "wEpGaIVWmIIE",
        "outputId": "e3339fa3-7d57-4cc2-c298-b3a9015d3152",
        "colab": {
          "base_uri": "https://localhost:8080/"
        }
      },
      "execution_count": null,
      "outputs": [
        {
          "output_type": "stream",
          "name": "stdout",
          "text": [
            "{False, 1, 'apple'}\n"
          ]
        }
      ]
    },
    {
      "cell_type": "code",
      "source": [
        "#The union()  and update() methods joins all items from both sets.\n",
        "\n",
        "#The intersection() method keeps ONLY the duplicates.\n",
        "\n",
        "#The difference() method keeps the items from the first set that are not in the other set(s).\n",
        "\n",
        "#The symmetric_difference() method keeps all items EXCEPT the duplicates.\n",
        "\n",
        "\n",
        "# You can also use the - but only for set to set\n",
        "set1 = {\"apple\", \"banana\", \"cherry\"}\n",
        "set2 = {\"google\", \"microsoft\", \"apple\"}\n",
        "\n",
        "set3 = set1.difference(set2)\n",
        "print(set3)"
      ],
      "metadata": {
        "colab": {
          "base_uri": "https://localhost:8080/"
        },
        "id": "apoRvRVhSxyT",
        "outputId": "f9db2bf9-ce94-470b-84dd-3fa93618b13f"
      },
      "execution_count": null,
      "outputs": [
        {
          "output_type": "stream",
          "name": "stdout",
          "text": [
            "{'banana', 'cherry'}\n"
          ]
        }
      ]
    },
    {
      "cell_type": "markdown",
      "source": [
        "**DICTIONARY**\n",
        "\n",
        "---\n",
        "\n",
        "\n"
      ],
      "metadata": {
        "id": "x_amJ5AwkFDZ"
      }
    },
    {
      "cell_type": "code",
      "source": [
        "thisdict = {\n",
        "  \"brand\": \"Ford\",\n",
        "  \"model\": \"Mustang\",\n",
        "  \"year\": 1964\n",
        "}\n",
        "print(thisdict[\"brand\"])"
      ],
      "metadata": {
        "colab": {
          "base_uri": "https://localhost:8080/"
        },
        "id": "vLhEs98okRD-",
        "outputId": "1925aa60-d3af-4904-ab16-14ff6aaf95b3"
      },
      "execution_count": null,
      "outputs": [
        {
          "output_type": "stream",
          "name": "stdout",
          "text": [
            "Ford\n"
          ]
        }
      ]
    },
    {
      "cell_type": "code",
      "source": [
        "thisdictionary= {\n",
        "\n",
        "}"
      ],
      "metadata": {
        "id": "cllJLV_1kW0r"
      },
      "execution_count": null,
      "outputs": []
    },
    {
      "cell_type": "code",
      "source": [
        "thisdict = {\n",
        "  \"brand\": \"Ford\",\n",
        "  \"model\": \"Mustang\",\n",
        "  \"year\": 1964\n",
        "}\n",
        "thisdict[\"year\"] = 2018\n",
        "print(thisdict)"
      ],
      "metadata": {
        "colab": {
          "base_uri": "https://localhost:8080/"
        },
        "id": "uqdNUA9S23WY",
        "outputId": "f1c649de-15aa-4976-9a4e-98d6b7047500"
      },
      "execution_count": null,
      "outputs": [
        {
          "output_type": "stream",
          "name": "stdout",
          "text": [
            "{'brand': 'Ford', 'model': 'Mustang', 'year': 2018}\n"
          ]
        }
      ]
    },
    {
      "cell_type": "code",
      "source": [
        "thisdict = {\n",
        "  \"brand\": \"Ford\",\n",
        "  \"model\": \"Mustang\",\n",
        "  \"year\": 1964\n",
        "}\n",
        "thisdict[\"model\"]= \"LAMBORGHINI\"\n",
        "print(thisdict)\n"
      ],
      "metadata": {
        "colab": {
          "base_uri": "https://localhost:8080/"
        },
        "id": "JSR0RaiGeHZ7",
        "outputId": "39fadfd5-a03e-44a4-d49c-6f3e793fca4f"
      },
      "execution_count": null,
      "outputs": [
        {
          "output_type": "stream",
          "name": "stdout",
          "text": [
            "{'brand': 'Ford', 'model': 'LAMBORGHINI', 'year': 1964}\n"
          ]
        }
      ]
    },
    {
      "cell_type": "code",
      "source": [
        "thisdict = {\n",
        "  \"brand\": \"Ford\",\n",
        "  \"model\": \"Mustang\",\n",
        "  \"year\": 1964\n",
        "}\n",
        "thisdict.update({\"year\":2020})\n",
        "print(thisdict)\n",
        "\n",
        "\n"
      ],
      "metadata": {
        "colab": {
          "base_uri": "https://localhost:8080/"
        },
        "id": "vrcz0i-63g5L",
        "outputId": "9d22ce20-9363-43e6-c4d8-d2b40f7c6460"
      },
      "execution_count": null,
      "outputs": [
        {
          "output_type": "stream",
          "name": "stdout",
          "text": [
            "{'brand': 'Ford', 'model': 'Mustang', 'year': 2020}\n"
          ]
        }
      ]
    },
    {
      "cell_type": "code",
      "source": [
        "thisdict = {\n",
        "  \"brand\": \"Ford\",\n",
        "  \"model\": \"Mustang\",\n",
        "  \"year\": 1964\n",
        "}\n",
        "thisdict.update({\"model\": \"Aventador\"})\n",
        "print(thisdict)\n"
      ],
      "metadata": {
        "colab": {
          "base_uri": "https://localhost:8080/"
        },
        "id": "YcZ4IJGbehd9",
        "outputId": "aa0c403d-1157-43e2-deb2-d6ae38977c9b"
      },
      "execution_count": null,
      "outputs": [
        {
          "output_type": "stream",
          "name": "stdout",
          "text": [
            "{'brand': 'Ford', 'model': 'Aventador', 'year': 1964}\n"
          ]
        }
      ]
    },
    {
      "cell_type": "code",
      "source": [
        "car = {\n",
        "\"brand\": \"Ford\",\n",
        "\"model\": \"Mustang\",\n",
        "\"year\": 1964\n",
        "}\n",
        "\n",
        "x = car.keys()\n",
        "\n",
        "print(x) #before the change\n",
        "\n",
        "car[\"color\"] = \"white\"\n",
        "\n",
        "print(x) #after the change"
      ],
      "metadata": {
        "colab": {
          "base_uri": "https://localhost:8080/"
        },
        "id": "75MnhOGQk1q6",
        "outputId": "d1a68efe-d3a1-4416-b65c-4fd7749981e1"
      },
      "execution_count": null,
      "outputs": [
        {
          "output_type": "stream",
          "name": "stdout",
          "text": [
            "dict_keys(['brand', 'model', 'year'])\n",
            "dict_keys(['brand', 'model', 'year', 'color'])\n"
          ]
        }
      ]
    },
    {
      "cell_type": "code",
      "source": [
        "car={\n",
        "    \"brand\": \"Mitsubishi\",\n",
        "    \"year\": 2028,\n",
        "    \"model\": \"Tuareg\",\n",
        "}\n",
        "\n",
        "x=car.keys()\n",
        "print(x)\n",
        "\n",
        "car [\"color\"]= \"maroon\"\n",
        "\n",
        "print(x)"
      ],
      "metadata": {
        "colab": {
          "base_uri": "https://localhost:8080/"
        },
        "id": "dpnYD12elF4u",
        "outputId": "130d031b-e145-4ca4-9efe-650b2f4c8142"
      },
      "execution_count": null,
      "outputs": [
        {
          "output_type": "stream",
          "name": "stdout",
          "text": [
            "dict_keys(['brand', 'year', 'model'])\n",
            "dict_keys(['brand', 'year', 'model', 'color'])\n"
          ]
        }
      ]
    },
    {
      "cell_type": "code",
      "source": [
        "car={\n",
        "    \"brand\": \"Mitsubishi\",\n",
        "    \"year\": 2028,\n",
        "    \"model\": \"Tuareg\",\n",
        "}\n",
        "x=car.values()\n",
        "print(x)\n",
        "\n",
        "car[\"model\"]= \"Ferrari\"\n",
        "\n",
        "print(x)"
      ],
      "metadata": {
        "colab": {
          "base_uri": "https://localhost:8080/"
        },
        "id": "3u5GjMD8mJ-S",
        "outputId": "6a92973f-f252-4bc5-d7a8-549ab2821d7b"
      },
      "execution_count": null,
      "outputs": [
        {
          "output_type": "stream",
          "name": "stdout",
          "text": [
            "dict_values(['Mitsubishi', 2028, 'Tuareg'])\n",
            "dict_values(['Mitsubishi', 2028, 'Ferrari'])\n"
          ]
        }
      ]
    },
    {
      "cell_type": "code",
      "source": [
        "car={\n",
        "    \"brand\": \"Mitsubishi\",\n",
        "    \"year\": 2028,\n",
        "    \"model\": \"Tuareg\",\n",
        "}\n",
        "\n",
        "x=car.items()\n",
        "print(x)"
      ],
      "metadata": {
        "colab": {
          "base_uri": "https://localhost:8080/"
        },
        "id": "EukjAfuqm9JH",
        "outputId": "0a807eb6-f426-45e4-8c7b-132918206240"
      },
      "execution_count": null,
      "outputs": [
        {
          "output_type": "stream",
          "name": "stdout",
          "text": [
            "dict_items([('brand', 'Mitsubishi'), ('year', 2028), ('model', 'Tuareg')])\n"
          ]
        }
      ]
    },
    {
      "cell_type": "code",
      "source": [
        "car = {\n",
        "\"brand\": \"Ford\",\n",
        "\"model\": \"Mustang\",\n",
        "\"year\": 1964\n",
        "}\n",
        "\n",
        "x = car.items()\n",
        "\n",
        "print(x) #before the change\n",
        "\n",
        "car[\"color\"] = \"red\"\n",
        "\n",
        "print(x) #after the change"
      ],
      "metadata": {
        "colab": {
          "base_uri": "https://localhost:8080/"
        },
        "id": "wnLxDSz8nUnZ",
        "outputId": "f97ddf4d-83c9-4eae-fb50-688c7ceeb588"
      },
      "execution_count": null,
      "outputs": [
        {
          "output_type": "stream",
          "name": "stdout",
          "text": [
            "dict_items([('brand', 'Ford'), ('model', 'Mustang'), ('year', 1964)])\n",
            "dict_items([('brand', 'Ford'), ('model', 'Mustang'), ('year', 1964), ('color', 'red')])\n"
          ]
        }
      ]
    },
    {
      "cell_type": "code",
      "source": [
        "thisdict = {\n",
        "  \"brand\": \"Ford\",\n",
        "  \"model\": \"Mustang\",\n",
        "  \"year\": 1964\n",
        "}\n",
        "if \"model\" in thisdict:\n",
        "  print(\"Yes, 'model' is one of the keys in the thisdict dictionary\")\n"
      ],
      "metadata": {
        "colab": {
          "base_uri": "https://localhost:8080/"
        },
        "id": "GJsoEYZUnepH",
        "outputId": "8633b22c-aded-4b3b-deef-f94162ef5b80"
      },
      "execution_count": null,
      "outputs": [
        {
          "output_type": "stream",
          "name": "stdout",
          "text": [
            "Yes, 'model' is one of the keys in the thisdict dictionary\n"
          ]
        }
      ]
    },
    {
      "cell_type": "code",
      "source": [
        "thisdict = {\n",
        "  \"brand\": \"Ford\",\n",
        "  \"model\": \"Mustang\",\n",
        "  \"year\": 1964\n",
        "}\n",
        "x = thisdict.keys()\n",
        "print(x)"
      ],
      "metadata": {
        "colab": {
          "base_uri": "https://localhost:8080/"
        },
        "id": "2BZeqTMNkdn4",
        "outputId": "afb93cdd-5fe9-4e32-cefb-c0cfcce99107"
      },
      "execution_count": null,
      "outputs": [
        {
          "output_type": "stream",
          "name": "stdout",
          "text": [
            "dict_keys(['brand', 'model', 'year'])\n"
          ]
        }
      ]
    },
    {
      "cell_type": "markdown",
      "source": [
        "#ADD VALUES AND KEYS TO A DICTIONARY"
      ],
      "metadata": {
        "id": "SdQRPJcErip-"
      }
    },
    {
      "cell_type": "code",
      "source": [
        "thisdict = {\n",
        "  \"brand\": \"Ford\",\n",
        "  \"model\": \"Mustang\",\n",
        "  \"year\": 1964\n",
        "}\n",
        "thisdict[\"color\"] = \"red\"\n",
        "print(thisdict)"
      ],
      "metadata": {
        "colab": {
          "base_uri": "https://localhost:8080/"
        },
        "id": "h3PXlG8NrT4P",
        "outputId": "e2a5b16b-9965-459d-c82e-7cb004e7afc7"
      },
      "execution_count": null,
      "outputs": [
        {
          "output_type": "stream",
          "name": "stdout",
          "text": [
            "{'brand': 'Ford', 'model': 'Mustang', 'year': 1964, 'color': 'red'}\n"
          ]
        }
      ]
    },
    {
      "cell_type": "code",
      "source": [
        "thisdict = {\n",
        "  \"brand\": \"Ford\",\n",
        "  \"model\": \"Mustang\",\n",
        "  \"year\": 1964\n",
        "}\n",
        "thisdict.update({\"color\": \"red\"})"
      ],
      "metadata": {
        "id": "EA3M9j2ArffD"
      },
      "execution_count": null,
      "outputs": []
    },
    {
      "cell_type": "markdown",
      "source": [
        "#LOOP"
      ],
      "metadata": {
        "id": "14e50VqPtT3Y"
      }
    },
    {
      "cell_type": "code",
      "source": [
        "thisdict = {\n",
        "  \"brand\": \"Ford\",\n",
        "  \"model\": \"Mustang\",\n",
        "  \"year\": 1964\n",
        "}\n",
        "\n",
        "for x in thisdict.values():\n",
        "  print(x)"
      ],
      "metadata": {
        "colab": {
          "base_uri": "https://localhost:8080/"
        },
        "id": "ar5shkNTtSea",
        "outputId": "39f5ffff-3783-4311-d18a-49d15d6f5fd7"
      },
      "execution_count": null,
      "outputs": [
        {
          "output_type": "stream",
          "name": "stdout",
          "text": [
            "Ford\n",
            "Mustang\n",
            "1964\n"
          ]
        }
      ]
    },
    {
      "cell_type": "code",
      "source": [
        "thisdict = {\n",
        "  \"brand\": \"Ford\",\n",
        "  \"model\": \"Mustang\",\n",
        "  \"year\": 1964\n",
        "}\n",
        "\n",
        "for x in thisdict.items():\n",
        " print(x)"
      ],
      "metadata": {
        "colab": {
          "base_uri": "https://localhost:8080/"
        },
        "id": "Ueybae7it5Yu",
        "outputId": "69cf77b0-1d4a-4857-e9ac-e3bcb4c7c588"
      },
      "execution_count": null,
      "outputs": [
        {
          "output_type": "stream",
          "name": "stdout",
          "text": [
            "('brand', 'Ford')\n",
            "('model', 'Mustang')\n",
            "('year', 1964)\n"
          ]
        }
      ]
    },
    {
      "cell_type": "code",
      "source": [
        "thisdict = {\n",
        "  \"brand\": \"Ford\",\n",
        "  \"model\": \"Mustang\",\n",
        "  \"year\": 1964\n",
        "}\n",
        "\n",
        "for x in thisdict.keys():\n",
        "  print(x)"
      ],
      "metadata": {
        "colab": {
          "base_uri": "https://localhost:8080/"
        },
        "id": "FkftWKaytrVs",
        "outputId": "89e72df7-4a38-4362-a8db-bb578404b64f"
      },
      "execution_count": null,
      "outputs": [
        {
          "output_type": "stream",
          "name": "stdout",
          "text": [
            "brand\n",
            "model\n",
            "year\n"
          ]
        }
      ]
    },
    {
      "cell_type": "markdown",
      "source": [
        "# COPY"
      ],
      "metadata": {
        "id": "7ttyYfLJuw9B"
      }
    },
    {
      "cell_type": "code",
      "source": [
        "#YOU CAN USE THE copy() FUNCTION OR THE dict() FUNCTION TO COPY ONE A DICTIONARY\n",
        "thisdict = {\n",
        "  \"brand\": \"Ford\",\n",
        "  \"model\": \"Mustang\",\n",
        "  \"year\": 1964\n",
        "}\n",
        "mydict = dict(thisdict)\n",
        "print(mydict)"
      ],
      "metadata": {
        "colab": {
          "base_uri": "https://localhost:8080/"
        },
        "id": "nLJDwA-_uwaH",
        "outputId": "7d4eb154-d8df-46b3-9661-8707773bf079"
      },
      "execution_count": null,
      "outputs": [
        {
          "output_type": "stream",
          "name": "stdout",
          "text": [
            "{'brand': 'Ford', 'model': 'Mustang', 'year': 1964}\n"
          ]
        }
      ]
    },
    {
      "cell_type": "markdown",
      "source": [
        "# NESTED DICTIONARIES"
      ],
      "metadata": {
        "id": "6fE9MSYxv_p_"
      }
    },
    {
      "cell_type": "code",
      "source": [
        "child1 = {\n",
        "  \"name\" : \"Emil\",\n",
        "  \"year\" : 2004\n",
        "}\n",
        "child2 = {\n",
        "  \"name\" : \"Tobias\",\n",
        "  \"year\" : 2007\n",
        "}\n",
        "child3 = {\n",
        "  \"name\" : \"Linus\",\n",
        "  \"year\" : 2011\n",
        "}\n",
        "\n",
        "myfamily = {\n",
        "  \"child1\" : child1,\n",
        "  \"child2\" : child2,\n",
        "  \"child3\" : child3\n",
        "}\n",
        "\n",
        "print(myfamily)"
      ],
      "metadata": {
        "colab": {
          "base_uri": "https://localhost:8080/"
        },
        "id": "yhd4YSW5wDVL",
        "outputId": "82b852a2-614c-43e0-a57a-020cf1f8ce53"
      },
      "execution_count": null,
      "outputs": [
        {
          "output_type": "stream",
          "name": "stdout",
          "text": [
            "{'child1': {'name': 'Emil', 'year': 2004}, 'child2': {'name': 'Tobias', 'year': 2007}, 'child3': {'name': 'Linus', 'year': 2011}}\n"
          ]
        }
      ]
    },
    {
      "cell_type": "markdown",
      "source": [
        "# GENERATIVE AI"
      ],
      "metadata": {
        "id": "KRE6_mospUhw"
      }
    },
    {
      "cell_type": "code",
      "source": [
        "#Deep lEARNING\n",
        "#generative pretrained transformer (gpt)\n",
        "\n",
        "#Building a large language model\n",
        "\n",
        "#1.Prompt Engineering\n",
        "#2.Tokenization\n",
        "#3.Text Generation\n",
        "#4.Decode\n",
        "\n",
        "\n",
        "#BUILDING AN LLM\n",
        "#1. Creating a prompt for the user(prompt Enginnering)\n",
        "\n",
        "prompt=str(input(\"Ask me anything\"))"
      ],
      "metadata": {
        "colab": {
          "base_uri": "https://localhost:8080/"
        },
        "collapsed": true,
        "id": "4czqiwvppX_A",
        "outputId": "cb0d86ad-0a95-481b-e7c3-d7a1828f36f4"
      },
      "execution_count": 6,
      "outputs": [
        {
          "name": "stdout",
          "output_type": "stream",
          "text": [
            "Ask me anythingWhat are BEC Scams?\n"
          ]
        }
      ]
    },
    {
      "cell_type": "code",
      "source": [
        "#2. Loading the Generative Pre-Trained model from the Hagging Face AI Community using Transformers library depending on the context eg. Text-speech, sentimental-analysis,code completion, text-summarization and text-generation.\n",
        "\n",
        "from transformers import GPT2Tokenizer, GPT2LMHeadModel\n",
        "from warnings import filterwarnings\n",
        "filterwarnings(\"ignore\")\n",
        "\n",
        "#Load the imported pre-trained model (GPT2) and tokenizer(GPT2)\n",
        "\n",
        "tokenizer= GPT2Tokenizer.from_pretrained(\"gpt2\")\n",
        "model=GPT2LMHeadModel.from_pretrained(\"gpt2\")\n",
        "\n"
      ],
      "metadata": {
        "colab": {
          "base_uri": "https://localhost:8080/",
          "height": 241,
          "referenced_widgets": [
            "aaacdfe546d0442384459a67966f0676",
            "543f50921e874f348b08e03b411cae42",
            "44d7ad81678b43bfae31a48b119557f4",
            "6ab3dfc76c604da8805e74f9a1dc33ed",
            "61200d59e0ae4718a17ebdf7361ad4ea",
            "afdf8080b5a741259f05f41911b02b1f",
            "9c0cf47deff245508931c3b9ff526a8f",
            "d4fcfbfa49974f429dbf82e238c424a1",
            "4b53c5696f4d488081cdc24b71fcff7d",
            "ceca104fd835403b8f7d75c6de903973",
            "854c676705a747a1a4da857454d73cb6",
            "25760bdf50d3422ca9a1e75da337ef42",
            "c91d7100dd9b4c1397c51618d1bbfce7",
            "7f64991c980f49d3b8a595617781954b",
            "7468fa0edc40460eb682c1e2ce9ed10d",
            "c9ff47c24c3046c0825680bf66622ccb",
            "725996aec8e541cdbcb824f1b93fcccf",
            "c6751c174389404c9bd791631660a177",
            "95aa41ee283d44b3a194b60fddae5045",
            "bb2588c619974fb09b92051d7bfcac64",
            "779f909004df4bef841bb66da8ab5ce6",
            "7c731d7928234dd2b159d601032bf501",
            "f495801783614304a7436a4880bffc3c",
            "b1c5d76a69b34c7fb420ecf415aa205b",
            "14e34580b24440dcbd9ca734d52aedf7",
            "f0c7878f23da418da408ec184e781d7b",
            "5afc80ab229b45c9bb0ccc58cb32355a",
            "d50602bc5d9d4ddfa813c8957eee64a2",
            "6a8ba14cfa6c439388bdac9e9c1c86f2",
            "962c6cf6586345f6a2864e587a5e0261",
            "daf7e1277eca44b2b68f19216bf7b2df",
            "0d8c387dc6984a4f80cb401d177bbb80",
            "13ca99f372bd434381b7e4136ec1c78d",
            "f18fc5e09b914d718eb7d44a2fc29c18",
            "57988dc8b32e42c085b5601d6b20e754",
            "4f3bcb1ba75947258147e8f1cef993b1",
            "2fae0250006d4a798d89e458d4c869bb",
            "5e34c0f158e34ee8b425de8308d3d6a4",
            "6dc876487c1540e484eb690c6a918b01",
            "f672648f8715428cba6931af13228ad5",
            "e2d3e742d9b34193952609eeca4cee57",
            "f8fbb7f5646645d891721aa7059df1ec",
            "326bedd98018497db3c99eba746851e5",
            "0bd0b7d210e045e28f05bab0c3cde219",
            "663c75f620044ef6ad2d8659a52912d1",
            "562092ceaeb140a1a12c71ae3a4e228a",
            "38ac91bb7c2a486a906ed25517086bae",
            "7356842f1ad44017944991bb333445b1",
            "45252643030c4029b93529af61ea0669",
            "93a2f05e00bb44a7a8a22463ed160d12",
            "2933d39ca3584fcab2926b5f9f041704",
            "6eb0c05291f04d8b830c8eebb5b40001",
            "4b807ddb7973499da7c3abd87c90a97f",
            "897e58609bf74fd4a1ea449e313271a9",
            "3424bd0c6e4042268aa8c8217f8c5b04",
            "b77e5566c744478295b2885223d6e707",
            "4f494e88bc4249e684bb2c6f2cd8f5a4",
            "65e196273b3f4348940e18aa57ab0cb0",
            "f4a398179434468cae0fddfea772d553",
            "2b58f201cd8345cb814c085ed474cd45",
            "5aa80766e99c4f8e9e61c1ef31e5287d",
            "dae3229625a440f499152f176b6d743c",
            "a46ce0f7cfea4b2a889118af2a77cac7",
            "30abd34595ff43f19d14ad7e4b340c75",
            "d7c30bde12ca46a58be512a79f16d022",
            "216efc214a974ce993598382fdb53079",
            "de48d7e9044a4800afc1dc53a6c5d92c",
            "595d7b5940974a1baff4f21c287aa4e4",
            "a180ddd88ae249a7ab656a47099870c1",
            "1586f4d427a7404a9f47f7eaca969e4e",
            "30d00c8e3fda4b67ad425b2d8bcc976e",
            "7fdc468a4635436fbf6db6b290440fc2",
            "eb718f8063af420599ad6990a6df0c91",
            "b5b2309c0c2e441ba2425b98fd231c1e",
            "bc236d9cb63748549c161fc3b13fc95d",
            "f067ee4f4dbc4130a705eb70ae7fe99f",
            "c84501eec43f4938af8e0a8b1880b18e"
          ]
        },
        "id": "8iZUMm_rU1nY",
        "outputId": "a2387e76-349a-4d3f-d740-80a3e2dc10d0"
      },
      "execution_count": 5,
      "outputs": [
        {
          "output_type": "display_data",
          "data": {
            "text/plain": [
              "tokenizer_config.json:   0%|          | 0.00/26.0 [00:00<?, ?B/s]"
            ],
            "application/vnd.jupyter.widget-view+json": {
              "version_major": 2,
              "version_minor": 0,
              "model_id": "aaacdfe546d0442384459a67966f0676"
            }
          },
          "metadata": {}
        },
        {
          "output_type": "display_data",
          "data": {
            "text/plain": [
              "vocab.json:   0%|          | 0.00/1.04M [00:00<?, ?B/s]"
            ],
            "application/vnd.jupyter.widget-view+json": {
              "version_major": 2,
              "version_minor": 0,
              "model_id": "25760bdf50d3422ca9a1e75da337ef42"
            }
          },
          "metadata": {}
        },
        {
          "output_type": "display_data",
          "data": {
            "text/plain": [
              "merges.txt:   0%|          | 0.00/456k [00:00<?, ?B/s]"
            ],
            "application/vnd.jupyter.widget-view+json": {
              "version_major": 2,
              "version_minor": 0,
              "model_id": "f495801783614304a7436a4880bffc3c"
            }
          },
          "metadata": {}
        },
        {
          "output_type": "display_data",
          "data": {
            "text/plain": [
              "tokenizer.json:   0%|          | 0.00/1.36M [00:00<?, ?B/s]"
            ],
            "application/vnd.jupyter.widget-view+json": {
              "version_major": 2,
              "version_minor": 0,
              "model_id": "f18fc5e09b914d718eb7d44a2fc29c18"
            }
          },
          "metadata": {}
        },
        {
          "output_type": "display_data",
          "data": {
            "text/plain": [
              "config.json:   0%|          | 0.00/665 [00:00<?, ?B/s]"
            ],
            "application/vnd.jupyter.widget-view+json": {
              "version_major": 2,
              "version_minor": 0,
              "model_id": "663c75f620044ef6ad2d8659a52912d1"
            }
          },
          "metadata": {}
        },
        {
          "output_type": "display_data",
          "data": {
            "text/plain": [
              "model.safetensors:   0%|          | 0.00/548M [00:00<?, ?B/s]"
            ],
            "application/vnd.jupyter.widget-view+json": {
              "version_major": 2,
              "version_minor": 0,
              "model_id": "b77e5566c744478295b2885223d6e707"
            }
          },
          "metadata": {}
        },
        {
          "output_type": "display_data",
          "data": {
            "text/plain": [
              "generation_config.json:   0%|          | 0.00/124 [00:00<?, ?B/s]"
            ],
            "application/vnd.jupyter.widget-view+json": {
              "version_major": 2,
              "version_minor": 0,
              "model_id": "de48d7e9044a4800afc1dc53a6c5d92c"
            }
          },
          "metadata": {}
        }
      ]
    },
    {
      "cell_type": "code",
      "source": [
        "#3.Tokenization for the prompt(Encoding)\n",
        "#this converts texts to numerical format called tensors\n",
        "\n",
        "tokens= tokenizer.encode(prompt,return_tensors=\"pt\")\n",
        "tokens"
      ],
      "metadata": {
        "colab": {
          "base_uri": "https://localhost:8080/"
        },
        "id": "sj_edjHbXeLg",
        "outputId": "bb9c30ed-61cc-4675-b835-a33cef973832"
      },
      "execution_count": 7,
      "outputs": [
        {
          "output_type": "execute_result",
          "data": {
            "text/plain": [
              "tensor([[2061,  389,  347, 2943, 1446, 4105,   30]])"
            ]
          },
          "metadata": {},
          "execution_count": 7
        }
      ]
    },
    {
      "cell_type": "code",
      "source": [
        "#4. Text generation from the tensors* read to the machine\n",
        "\n",
        "output= model.generate(tokens, max_length=100,num_beams=5,no_repeat_ngram_size=2,early_stopping=True)"
      ],
      "metadata": {
        "colab": {
          "base_uri": "https://localhost:8080/"
        },
        "id": "XmNHIC5_ZDR1",
        "outputId": "66817795-6e96-4d03-b688-6f1e3207869f"
      },
      "execution_count": 10,
      "outputs": [
        {
          "output_type": "stream",
          "name": "stderr",
          "text": [
            "The attention mask and the pad token id were not set. As a consequence, you may observe unexpected behavior. Please pass your input's `attention_mask` to obtain reliable results.\n",
            "Setting `pad_token_id` to `eos_token_id`:None for open-end generation.\n",
            "The attention mask is not set and cannot be inferred from input because pad token is same as eos token. As a consequence, you may observe unexpected behavior. Please pass your input's `attention_mask` to obtain reliable results.\n"
          ]
        }
      ]
    },
    {
      "cell_type": "code",
      "source": [
        "#Decoding\n",
        "#Deals with converting the tensors into textual format.\n",
        "\n",
        "text= tokenizer.decode(output[0], skip_special_tokens= True)\n",
        "text"
      ],
      "metadata": {
        "colab": {
          "base_uri": "https://localhost:8080/",
          "height": 70
        },
        "id": "SRLPIf5OnAwX",
        "outputId": "fff867e1-16a8-486d-b24a-b49d2d9c0db0"
      },
      "execution_count": 12,
      "outputs": [
        {
          "output_type": "execute_result",
          "data": {
            "text/plain": [
              "'What are BEC Scams?\\n\\nBEC scams are scams that are designed to fool you into thinking that you are a scammer. They are not scams at all, they are just a way to get you to believe that your business is scamming you. The purpose of these scams is to trick people into believing that they have a legitimate business, and to convince them that the scam is legitimate. BECAUSE THEY ARE A SCAM, YOU ARE NOT A CUSTOMER.'"
            ],
            "application/vnd.google.colaboratory.intrinsic+json": {
              "type": "string"
            }
          },
          "metadata": {},
          "execution_count": 12
        }
      ]
    },
    {
      "cell_type": "markdown",
      "source": [
        "# #EXAMPLE OF USE OF AN LLM MODEL"
      ],
      "metadata": {
        "id": "NS-KDAvDoQiB"
      }
    },
    {
      "cell_type": "code",
      "source": [
        "!pip install transformers\n",
        "!pip install tokenizers\n",
        "!pip install torch torchvison torchaudio\n"
      ],
      "metadata": {
        "colab": {
          "base_uri": "https://localhost:8080/"
        },
        "id": "JptVVmbxoYWM",
        "outputId": "f81028ad-7e5e-4a46-e589-0468a7d87c4f"
      },
      "execution_count": 16,
      "outputs": [
        {
          "output_type": "stream",
          "name": "stdout",
          "text": [
            "Requirement already satisfied: transformers in /usr/local/lib/python3.10/dist-packages (4.46.2)\n",
            "Requirement already satisfied: filelock in /usr/local/lib/python3.10/dist-packages (from transformers) (3.16.1)\n",
            "Requirement already satisfied: huggingface-hub<1.0,>=0.23.2 in /usr/local/lib/python3.10/dist-packages (from transformers) (0.26.2)\n",
            "Requirement already satisfied: numpy>=1.17 in /usr/local/lib/python3.10/dist-packages (from transformers) (1.26.4)\n",
            "Requirement already satisfied: packaging>=20.0 in /usr/local/lib/python3.10/dist-packages (from transformers) (24.2)\n",
            "Requirement already satisfied: pyyaml>=5.1 in /usr/local/lib/python3.10/dist-packages (from transformers) (6.0.2)\n",
            "Requirement already satisfied: regex!=2019.12.17 in /usr/local/lib/python3.10/dist-packages (from transformers) (2024.9.11)\n",
            "Requirement already satisfied: requests in /usr/local/lib/python3.10/dist-packages (from transformers) (2.32.3)\n",
            "Requirement already satisfied: safetensors>=0.4.1 in /usr/local/lib/python3.10/dist-packages (from transformers) (0.4.5)\n",
            "Requirement already satisfied: tokenizers<0.21,>=0.20 in /usr/local/lib/python3.10/dist-packages (from transformers) (0.20.3)\n",
            "Requirement already satisfied: tqdm>=4.27 in /usr/local/lib/python3.10/dist-packages (from transformers) (4.66.6)\n",
            "Requirement already satisfied: fsspec>=2023.5.0 in /usr/local/lib/python3.10/dist-packages (from huggingface-hub<1.0,>=0.23.2->transformers) (2024.10.0)\n",
            "Requirement already satisfied: typing-extensions>=3.7.4.3 in /usr/local/lib/python3.10/dist-packages (from huggingface-hub<1.0,>=0.23.2->transformers) (4.12.2)\n",
            "Requirement already satisfied: charset-normalizer<4,>=2 in /usr/local/lib/python3.10/dist-packages (from requests->transformers) (3.4.0)\n",
            "Requirement already satisfied: idna<4,>=2.5 in /usr/local/lib/python3.10/dist-packages (from requests->transformers) (3.10)\n",
            "Requirement already satisfied: urllib3<3,>=1.21.1 in /usr/local/lib/python3.10/dist-packages (from requests->transformers) (2.2.3)\n",
            "Requirement already satisfied: certifi>=2017.4.17 in /usr/local/lib/python3.10/dist-packages (from requests->transformers) (2024.8.30)\n",
            "Requirement already satisfied: tokenizers in /usr/local/lib/python3.10/dist-packages (0.20.3)\n",
            "Requirement already satisfied: huggingface-hub<1.0,>=0.16.4 in /usr/local/lib/python3.10/dist-packages (from tokenizers) (0.26.2)\n",
            "Requirement already satisfied: filelock in /usr/local/lib/python3.10/dist-packages (from huggingface-hub<1.0,>=0.16.4->tokenizers) (3.16.1)\n",
            "Requirement already satisfied: fsspec>=2023.5.0 in /usr/local/lib/python3.10/dist-packages (from huggingface-hub<1.0,>=0.16.4->tokenizers) (2024.10.0)\n",
            "Requirement already satisfied: packaging>=20.9 in /usr/local/lib/python3.10/dist-packages (from huggingface-hub<1.0,>=0.16.4->tokenizers) (24.2)\n",
            "Requirement already satisfied: pyyaml>=5.1 in /usr/local/lib/python3.10/dist-packages (from huggingface-hub<1.0,>=0.16.4->tokenizers) (6.0.2)\n",
            "Requirement already satisfied: requests in /usr/local/lib/python3.10/dist-packages (from huggingface-hub<1.0,>=0.16.4->tokenizers) (2.32.3)\n",
            "Requirement already satisfied: tqdm>=4.42.1 in /usr/local/lib/python3.10/dist-packages (from huggingface-hub<1.0,>=0.16.4->tokenizers) (4.66.6)\n",
            "Requirement already satisfied: typing-extensions>=3.7.4.3 in /usr/local/lib/python3.10/dist-packages (from huggingface-hub<1.0,>=0.16.4->tokenizers) (4.12.2)\n",
            "Requirement already satisfied: charset-normalizer<4,>=2 in /usr/local/lib/python3.10/dist-packages (from requests->huggingface-hub<1.0,>=0.16.4->tokenizers) (3.4.0)\n",
            "Requirement already satisfied: idna<4,>=2.5 in /usr/local/lib/python3.10/dist-packages (from requests->huggingface-hub<1.0,>=0.16.4->tokenizers) (3.10)\n",
            "Requirement already satisfied: urllib3<3,>=1.21.1 in /usr/local/lib/python3.10/dist-packages (from requests->huggingface-hub<1.0,>=0.16.4->tokenizers) (2.2.3)\n",
            "Requirement already satisfied: certifi>=2017.4.17 in /usr/local/lib/python3.10/dist-packages (from requests->huggingface-hub<1.0,>=0.16.4->tokenizers) (2024.8.30)\n",
            "Requirement already satisfied: torch in /usr/local/lib/python3.10/dist-packages (2.5.1+cu121)\n",
            "\u001b[31mERROR: Could not find a version that satisfies the requirement torchvison (from versions: none)\u001b[0m\u001b[31m\n",
            "\u001b[0m\u001b[31mERROR: No matching distribution found for torchvison\u001b[0m\u001b[31m\n",
            "\u001b[0m"
          ]
        }
      ]
    },
    {
      "cell_type": "code",
      "source": [
        "#EXAMPLE OF USE OF AN LLM MODEL\n",
        "prompt=str(input(\"Ask Me Anything\"))"
      ],
      "metadata": {
        "colab": {
          "base_uri": "https://localhost:8080/"
        },
        "id": "2ppzCy8pnu23",
        "outputId": "479dbf4e-1cbf-40cb-83d5-66af6fba4af5"
      },
      "execution_count": 15,
      "outputs": [
        {
          "name": "stdout",
          "output_type": "stream",
          "text": [
            "Ask Me AnythingWhat are Ponzi Schemes?\n"
          ]
        }
      ]
    },
    {
      "cell_type": "code",
      "source": [
        "from transformers import GPT2Tokenizer,GPT2LMHeadModel\n",
        "from warnings import filterwarnings\n",
        "filterwarnings('ignore')\n",
        "\n",
        "tokenizer = GPT2Tokenizer.from_pretrained('gpt2')\n",
        "model = GPT2LMHeadModel.from_pretrained('gpt2')"
      ],
      "metadata": {
        "id": "noP4r__koTQp"
      },
      "execution_count": 24,
      "outputs": []
    },
    {
      "cell_type": "code",
      "source": [
        "tokens=tokenizer.encode(prompt,return_tensors='pt')\n",
        "tokens"
      ],
      "metadata": {
        "colab": {
          "base_uri": "https://localhost:8080/"
        },
        "id": "On5ZWRfZqTtg",
        "outputId": "954cbdac-40e7-47a4-d67b-64a9cfcf6e3a"
      },
      "execution_count": 25,
      "outputs": [
        {
          "output_type": "execute_result",
          "data": {
            "text/plain": [
              "tensor([[ 2061,   389,   350, 13569,    72,  1446,  4411,   274,    30]])"
            ]
          },
          "metadata": {},
          "execution_count": 25
        }
      ]
    },
    {
      "cell_type": "markdown",
      "source": [
        "**generate** whtt you want in the text\n",
        "\n",
        "> Add blockquote\n",
        "\n",
        "> *Add blockquote*\n",
        "\n",
        "\n",
        "\n"
      ],
      "metadata": {
        "id": "q55H5XnjufM9"
      }
    },
    {
      "cell_type": "code",
      "source": [
        "output = model.generate(tokens,max_length=100,num_beams=5,no_repeat_ngram_size=2,early_stopping=True)"
      ],
      "metadata": {
        "colab": {
          "base_uri": "https://localhost:8080/",
          "height": 179
        },
        "collapsed": true,
        "id": "sEd2Um97uW2V",
        "outputId": "c65a3584-3ae2-4f1b-a741-86a3ceda6b2e"
      },
      "execution_count": 4,
      "outputs": [
        {
          "output_type": "error",
          "ename": "NameError",
          "evalue": "name 'model' is not defined",
          "traceback": [
            "\u001b[0;31m---------------------------------------------------------------------------\u001b[0m",
            "\u001b[0;31mNameError\u001b[0m                                 Traceback (most recent call last)",
            "\u001b[0;32m<ipython-input-4-0f28920256f4>\u001b[0m in \u001b[0;36m<cell line: 1>\u001b[0;34m()\u001b[0m\n\u001b[0;32m----> 1\u001b[0;31m \u001b[0moutput\u001b[0m \u001b[0;34m=\u001b[0m \u001b[0mmodel\u001b[0m\u001b[0;34m.\u001b[0m\u001b[0mgenerate\u001b[0m\u001b[0;34m(\u001b[0m\u001b[0mtokens\u001b[0m\u001b[0;34m,\u001b[0m\u001b[0mmax_length\u001b[0m\u001b[0;34m=\u001b[0m\u001b[0;36m100\u001b[0m\u001b[0;34m,\u001b[0m\u001b[0mnum_beams\u001b[0m\u001b[0;34m=\u001b[0m\u001b[0;36m5\u001b[0m\u001b[0;34m,\u001b[0m\u001b[0mno_repeat_ngram_size\u001b[0m\u001b[0;34m=\u001b[0m\u001b[0;36m2\u001b[0m\u001b[0;34m,\u001b[0m\u001b[0mearly_stopping\u001b[0m\u001b[0;34m=\u001b[0m\u001b[0;32mTrue\u001b[0m\u001b[0;34m)\u001b[0m\u001b[0;34m\u001b[0m\u001b[0;34m\u001b[0m\u001b[0m\n\u001b[0m",
            "\u001b[0;31mNameError\u001b[0m: name 'model' is not defined"
          ]
        }
      ]
    },
    {
      "cell_type": "code",
      "source": [
        "text=tokenizer.decode(output[0],skip_special_tokens=True)\n",
        "text"
      ],
      "metadata": {
        "colab": {
          "base_uri": "https://localhost:8080/",
          "height": 70
        },
        "id": "oEex_siSqkZa",
        "outputId": "3c4826d7-ca3d-49f3-9c4d-c28b2e4d5d4c"
      },
      "execution_count": 27,
      "outputs": [
        {
          "output_type": "execute_result",
          "data": {
            "text/plain": [
              "'What are BEC Scams?\\n\\nBEC scams are scams that are designed to fool you into thinking that you are a scammer. They are not scams at all, they are just a way to get you to believe that your business is scamming you. The purpose of these scams is to trick people into believing that they have a legitimate business, and to convince them that the scam is legitimate. BECAUSE THEY ARE A SCAM, YOU ARE NOT A CUSTOMER.'"
            ],
            "application/vnd.google.colaboratory.intrinsic+json": {
              "type": "string"
            }
          },
          "metadata": {},
          "execution_count": 27
        }
      ]
    },
    {
      "cell_type": "markdown",
      "source": [
        "#DATASCIENCE"
      ],
      "metadata": {
        "id": "H_KloS0Y1it_"
      }
    },
    {
      "cell_type": "markdown",
      "source": [
        "**IMPORTING DATA SETS AND CREATING A DATAFRAME OUT OF THEM**"
      ],
      "metadata": {
        "id": "uaa2JGssGBre"
      }
    },
    {
      "cell_type": "code",
      "source": [
        "import pandas as pd\n",
        "file_path=\"/content/sample_data/gym_members_exercise_tracking.csv\"\n",
        "data=pd.read_csv(file_path)\n",
        "data"
      ],
      "metadata": {
        "colab": {
          "base_uri": "https://localhost:8080/",
          "height": 461
        },
        "id": "AL7uyy5lC2WY",
        "outputId": "602ac7e9-88be-4a35-e2aa-4177647ad3d5"
      },
      "execution_count": null,
      "outputs": [
        {
          "output_type": "execute_result",
          "data": {
            "text/plain": [
              "     Age  Gender  Weight (kg)  Height (m)  Max_BPM  Avg_BPM  Resting_BPM  \\\n",
              "0     56    Male         88.3        1.71      180      157           60   \n",
              "1     46  Female         74.9        1.53      179      151           66   \n",
              "2     32  Female         68.1        1.66      167      122           54   \n",
              "3     25    Male         53.2        1.70      190      164           56   \n",
              "4     38    Male         46.1        1.79      188      158           68   \n",
              "..   ...     ...          ...         ...      ...      ...          ...   \n",
              "968   24    Male         87.1        1.74      187      158           67   \n",
              "969   25    Male         66.6        1.61      184      166           56   \n",
              "970   59  Female         60.4        1.76      194      120           53   \n",
              "971   32    Male        126.4        1.83      198      146           62   \n",
              "972   46    Male         88.7        1.63      166      146           66   \n",
              "\n",
              "     Session_Duration (hours)  Calories_Burned Workout_Type  Fat_Percentage  \\\n",
              "0                        1.69           1313.0         Yoga            12.6   \n",
              "1                        1.30            883.0         HIIT            33.9   \n",
              "2                        1.11            677.0       Cardio            33.4   \n",
              "3                        0.59            532.0     Strength            28.8   \n",
              "4                        0.64            556.0     Strength            29.2   \n",
              "..                        ...              ...          ...             ...   \n",
              "968                      1.57           1364.0     Strength            10.0   \n",
              "969                      1.38           1260.0     Strength            25.0   \n",
              "970                      1.72            929.0       Cardio            18.8   \n",
              "971                      1.10            883.0         HIIT            28.2   \n",
              "972                      0.75            542.0     Strength            28.8   \n",
              "\n",
              "     Water_Intake (liters)  Workout_Frequency (days/week)  Experience_Level  \\\n",
              "0                      3.5                              4                 3   \n",
              "1                      2.1                              4                 2   \n",
              "2                      2.3                              4                 2   \n",
              "3                      2.1                              3                 1   \n",
              "4                      2.8                              3                 1   \n",
              "..                     ...                            ...               ...   \n",
              "968                    3.5                              4                 3   \n",
              "969                    3.0                              2                 1   \n",
              "970                    2.7                              5                 3   \n",
              "971                    2.1                              3                 2   \n",
              "972                    3.5                              2                 1   \n",
              "\n",
              "       BMI  \n",
              "0    30.20  \n",
              "1    32.00  \n",
              "2    24.71  \n",
              "3    18.41  \n",
              "4    14.39  \n",
              "..     ...  \n",
              "968  28.77  \n",
              "969  25.69  \n",
              "970  19.50  \n",
              "971  37.74  \n",
              "972  33.38  \n",
              "\n",
              "[973 rows x 15 columns]"
            ],
            "text/html": [
              "\n",
              "  <div id=\"df-1ffad604-9a53-4e26-9fe5-97ecdd03d801\" class=\"colab-df-container\">\n",
              "    <div>\n",
              "<style scoped>\n",
              "    .dataframe tbody tr th:only-of-type {\n",
              "        vertical-align: middle;\n",
              "    }\n",
              "\n",
              "    .dataframe tbody tr th {\n",
              "        vertical-align: top;\n",
              "    }\n",
              "\n",
              "    .dataframe thead th {\n",
              "        text-align: right;\n",
              "    }\n",
              "</style>\n",
              "<table border=\"1\" class=\"dataframe\">\n",
              "  <thead>\n",
              "    <tr style=\"text-align: right;\">\n",
              "      <th></th>\n",
              "      <th>Age</th>\n",
              "      <th>Gender</th>\n",
              "      <th>Weight (kg)</th>\n",
              "      <th>Height (m)</th>\n",
              "      <th>Max_BPM</th>\n",
              "      <th>Avg_BPM</th>\n",
              "      <th>Resting_BPM</th>\n",
              "      <th>Session_Duration (hours)</th>\n",
              "      <th>Calories_Burned</th>\n",
              "      <th>Workout_Type</th>\n",
              "      <th>Fat_Percentage</th>\n",
              "      <th>Water_Intake (liters)</th>\n",
              "      <th>Workout_Frequency (days/week)</th>\n",
              "      <th>Experience_Level</th>\n",
              "      <th>BMI</th>\n",
              "    </tr>\n",
              "  </thead>\n",
              "  <tbody>\n",
              "    <tr>\n",
              "      <th>0</th>\n",
              "      <td>56</td>\n",
              "      <td>Male</td>\n",
              "      <td>88.3</td>\n",
              "      <td>1.71</td>\n",
              "      <td>180</td>\n",
              "      <td>157</td>\n",
              "      <td>60</td>\n",
              "      <td>1.69</td>\n",
              "      <td>1313.0</td>\n",
              "      <td>Yoga</td>\n",
              "      <td>12.6</td>\n",
              "      <td>3.5</td>\n",
              "      <td>4</td>\n",
              "      <td>3</td>\n",
              "      <td>30.20</td>\n",
              "    </tr>\n",
              "    <tr>\n",
              "      <th>1</th>\n",
              "      <td>46</td>\n",
              "      <td>Female</td>\n",
              "      <td>74.9</td>\n",
              "      <td>1.53</td>\n",
              "      <td>179</td>\n",
              "      <td>151</td>\n",
              "      <td>66</td>\n",
              "      <td>1.30</td>\n",
              "      <td>883.0</td>\n",
              "      <td>HIIT</td>\n",
              "      <td>33.9</td>\n",
              "      <td>2.1</td>\n",
              "      <td>4</td>\n",
              "      <td>2</td>\n",
              "      <td>32.00</td>\n",
              "    </tr>\n",
              "    <tr>\n",
              "      <th>2</th>\n",
              "      <td>32</td>\n",
              "      <td>Female</td>\n",
              "      <td>68.1</td>\n",
              "      <td>1.66</td>\n",
              "      <td>167</td>\n",
              "      <td>122</td>\n",
              "      <td>54</td>\n",
              "      <td>1.11</td>\n",
              "      <td>677.0</td>\n",
              "      <td>Cardio</td>\n",
              "      <td>33.4</td>\n",
              "      <td>2.3</td>\n",
              "      <td>4</td>\n",
              "      <td>2</td>\n",
              "      <td>24.71</td>\n",
              "    </tr>\n",
              "    <tr>\n",
              "      <th>3</th>\n",
              "      <td>25</td>\n",
              "      <td>Male</td>\n",
              "      <td>53.2</td>\n",
              "      <td>1.70</td>\n",
              "      <td>190</td>\n",
              "      <td>164</td>\n",
              "      <td>56</td>\n",
              "      <td>0.59</td>\n",
              "      <td>532.0</td>\n",
              "      <td>Strength</td>\n",
              "      <td>28.8</td>\n",
              "      <td>2.1</td>\n",
              "      <td>3</td>\n",
              "      <td>1</td>\n",
              "      <td>18.41</td>\n",
              "    </tr>\n",
              "    <tr>\n",
              "      <th>4</th>\n",
              "      <td>38</td>\n",
              "      <td>Male</td>\n",
              "      <td>46.1</td>\n",
              "      <td>1.79</td>\n",
              "      <td>188</td>\n",
              "      <td>158</td>\n",
              "      <td>68</td>\n",
              "      <td>0.64</td>\n",
              "      <td>556.0</td>\n",
              "      <td>Strength</td>\n",
              "      <td>29.2</td>\n",
              "      <td>2.8</td>\n",
              "      <td>3</td>\n",
              "      <td>1</td>\n",
              "      <td>14.39</td>\n",
              "    </tr>\n",
              "    <tr>\n",
              "      <th>...</th>\n",
              "      <td>...</td>\n",
              "      <td>...</td>\n",
              "      <td>...</td>\n",
              "      <td>...</td>\n",
              "      <td>...</td>\n",
              "      <td>...</td>\n",
              "      <td>...</td>\n",
              "      <td>...</td>\n",
              "      <td>...</td>\n",
              "      <td>...</td>\n",
              "      <td>...</td>\n",
              "      <td>...</td>\n",
              "      <td>...</td>\n",
              "      <td>...</td>\n",
              "      <td>...</td>\n",
              "    </tr>\n",
              "    <tr>\n",
              "      <th>968</th>\n",
              "      <td>24</td>\n",
              "      <td>Male</td>\n",
              "      <td>87.1</td>\n",
              "      <td>1.74</td>\n",
              "      <td>187</td>\n",
              "      <td>158</td>\n",
              "      <td>67</td>\n",
              "      <td>1.57</td>\n",
              "      <td>1364.0</td>\n",
              "      <td>Strength</td>\n",
              "      <td>10.0</td>\n",
              "      <td>3.5</td>\n",
              "      <td>4</td>\n",
              "      <td>3</td>\n",
              "      <td>28.77</td>\n",
              "    </tr>\n",
              "    <tr>\n",
              "      <th>969</th>\n",
              "      <td>25</td>\n",
              "      <td>Male</td>\n",
              "      <td>66.6</td>\n",
              "      <td>1.61</td>\n",
              "      <td>184</td>\n",
              "      <td>166</td>\n",
              "      <td>56</td>\n",
              "      <td>1.38</td>\n",
              "      <td>1260.0</td>\n",
              "      <td>Strength</td>\n",
              "      <td>25.0</td>\n",
              "      <td>3.0</td>\n",
              "      <td>2</td>\n",
              "      <td>1</td>\n",
              "      <td>25.69</td>\n",
              "    </tr>\n",
              "    <tr>\n",
              "      <th>970</th>\n",
              "      <td>59</td>\n",
              "      <td>Female</td>\n",
              "      <td>60.4</td>\n",
              "      <td>1.76</td>\n",
              "      <td>194</td>\n",
              "      <td>120</td>\n",
              "      <td>53</td>\n",
              "      <td>1.72</td>\n",
              "      <td>929.0</td>\n",
              "      <td>Cardio</td>\n",
              "      <td>18.8</td>\n",
              "      <td>2.7</td>\n",
              "      <td>5</td>\n",
              "      <td>3</td>\n",
              "      <td>19.50</td>\n",
              "    </tr>\n",
              "    <tr>\n",
              "      <th>971</th>\n",
              "      <td>32</td>\n",
              "      <td>Male</td>\n",
              "      <td>126.4</td>\n",
              "      <td>1.83</td>\n",
              "      <td>198</td>\n",
              "      <td>146</td>\n",
              "      <td>62</td>\n",
              "      <td>1.10</td>\n",
              "      <td>883.0</td>\n",
              "      <td>HIIT</td>\n",
              "      <td>28.2</td>\n",
              "      <td>2.1</td>\n",
              "      <td>3</td>\n",
              "      <td>2</td>\n",
              "      <td>37.74</td>\n",
              "    </tr>\n",
              "    <tr>\n",
              "      <th>972</th>\n",
              "      <td>46</td>\n",
              "      <td>Male</td>\n",
              "      <td>88.7</td>\n",
              "      <td>1.63</td>\n",
              "      <td>166</td>\n",
              "      <td>146</td>\n",
              "      <td>66</td>\n",
              "      <td>0.75</td>\n",
              "      <td>542.0</td>\n",
              "      <td>Strength</td>\n",
              "      <td>28.8</td>\n",
              "      <td>3.5</td>\n",
              "      <td>2</td>\n",
              "      <td>1</td>\n",
              "      <td>33.38</td>\n",
              "    </tr>\n",
              "  </tbody>\n",
              "</table>\n",
              "<p>973 rows × 15 columns</p>\n",
              "</div>\n",
              "    <div class=\"colab-df-buttons\">\n",
              "\n",
              "  <div class=\"colab-df-container\">\n",
              "    <button class=\"colab-df-convert\" onclick=\"convertToInteractive('df-1ffad604-9a53-4e26-9fe5-97ecdd03d801')\"\n",
              "            title=\"Convert this dataframe to an interactive table.\"\n",
              "            style=\"display:none;\">\n",
              "\n",
              "  <svg xmlns=\"http://www.w3.org/2000/svg\" height=\"24px\" viewBox=\"0 -960 960 960\">\n",
              "    <path d=\"M120-120v-720h720v720H120Zm60-500h600v-160H180v160Zm220 220h160v-160H400v160Zm0 220h160v-160H400v160ZM180-400h160v-160H180v160Zm440 0h160v-160H620v160ZM180-180h160v-160H180v160Zm440 0h160v-160H620v160Z\"/>\n",
              "  </svg>\n",
              "    </button>\n",
              "\n",
              "  <style>\n",
              "    .colab-df-container {\n",
              "      display:flex;\n",
              "      gap: 12px;\n",
              "    }\n",
              "\n",
              "    .colab-df-convert {\n",
              "      background-color: #E8F0FE;\n",
              "      border: none;\n",
              "      border-radius: 50%;\n",
              "      cursor: pointer;\n",
              "      display: none;\n",
              "      fill: #1967D2;\n",
              "      height: 32px;\n",
              "      padding: 0 0 0 0;\n",
              "      width: 32px;\n",
              "    }\n",
              "\n",
              "    .colab-df-convert:hover {\n",
              "      background-color: #E2EBFA;\n",
              "      box-shadow: 0px 1px 2px rgba(60, 64, 67, 0.3), 0px 1px 3px 1px rgba(60, 64, 67, 0.15);\n",
              "      fill: #174EA6;\n",
              "    }\n",
              "\n",
              "    .colab-df-buttons div {\n",
              "      margin-bottom: 4px;\n",
              "    }\n",
              "\n",
              "    [theme=dark] .colab-df-convert {\n",
              "      background-color: #3B4455;\n",
              "      fill: #D2E3FC;\n",
              "    }\n",
              "\n",
              "    [theme=dark] .colab-df-convert:hover {\n",
              "      background-color: #434B5C;\n",
              "      box-shadow: 0px 1px 3px 1px rgba(0, 0, 0, 0.15);\n",
              "      filter: drop-shadow(0px 1px 2px rgba(0, 0, 0, 0.3));\n",
              "      fill: #FFFFFF;\n",
              "    }\n",
              "  </style>\n",
              "\n",
              "    <script>\n",
              "      const buttonEl =\n",
              "        document.querySelector('#df-1ffad604-9a53-4e26-9fe5-97ecdd03d801 button.colab-df-convert');\n",
              "      buttonEl.style.display =\n",
              "        google.colab.kernel.accessAllowed ? 'block' : 'none';\n",
              "\n",
              "      async function convertToInteractive(key) {\n",
              "        const element = document.querySelector('#df-1ffad604-9a53-4e26-9fe5-97ecdd03d801');\n",
              "        const dataTable =\n",
              "          await google.colab.kernel.invokeFunction('convertToInteractive',\n",
              "                                                    [key], {});\n",
              "        if (!dataTable) return;\n",
              "\n",
              "        const docLinkHtml = 'Like what you see? Visit the ' +\n",
              "          '<a target=\"_blank\" href=https://colab.research.google.com/notebooks/data_table.ipynb>data table notebook</a>'\n",
              "          + ' to learn more about interactive tables.';\n",
              "        element.innerHTML = '';\n",
              "        dataTable['output_type'] = 'display_data';\n",
              "        await google.colab.output.renderOutput(dataTable, element);\n",
              "        const docLink = document.createElement('div');\n",
              "        docLink.innerHTML = docLinkHtml;\n",
              "        element.appendChild(docLink);\n",
              "      }\n",
              "    </script>\n",
              "  </div>\n",
              "\n",
              "\n",
              "<div id=\"df-957e2823-9228-4b26-8ba9-8968edb1ac33\">\n",
              "  <button class=\"colab-df-quickchart\" onclick=\"quickchart('df-957e2823-9228-4b26-8ba9-8968edb1ac33')\"\n",
              "            title=\"Suggest charts\"\n",
              "            style=\"display:none;\">\n",
              "\n",
              "<svg xmlns=\"http://www.w3.org/2000/svg\" height=\"24px\"viewBox=\"0 0 24 24\"\n",
              "     width=\"24px\">\n",
              "    <g>\n",
              "        <path d=\"M19 3H5c-1.1 0-2 .9-2 2v14c0 1.1.9 2 2 2h14c1.1 0 2-.9 2-2V5c0-1.1-.9-2-2-2zM9 17H7v-7h2v7zm4 0h-2V7h2v10zm4 0h-2v-4h2v4z\"/>\n",
              "    </g>\n",
              "</svg>\n",
              "  </button>\n",
              "\n",
              "<style>\n",
              "  .colab-df-quickchart {\n",
              "      --bg-color: #E8F0FE;\n",
              "      --fill-color: #1967D2;\n",
              "      --hover-bg-color: #E2EBFA;\n",
              "      --hover-fill-color: #174EA6;\n",
              "      --disabled-fill-color: #AAA;\n",
              "      --disabled-bg-color: #DDD;\n",
              "  }\n",
              "\n",
              "  [theme=dark] .colab-df-quickchart {\n",
              "      --bg-color: #3B4455;\n",
              "      --fill-color: #D2E3FC;\n",
              "      --hover-bg-color: #434B5C;\n",
              "      --hover-fill-color: #FFFFFF;\n",
              "      --disabled-bg-color: #3B4455;\n",
              "      --disabled-fill-color: #666;\n",
              "  }\n",
              "\n",
              "  .colab-df-quickchart {\n",
              "    background-color: var(--bg-color);\n",
              "    border: none;\n",
              "    border-radius: 50%;\n",
              "    cursor: pointer;\n",
              "    display: none;\n",
              "    fill: var(--fill-color);\n",
              "    height: 32px;\n",
              "    padding: 0;\n",
              "    width: 32px;\n",
              "  }\n",
              "\n",
              "  .colab-df-quickchart:hover {\n",
              "    background-color: var(--hover-bg-color);\n",
              "    box-shadow: 0 1px 2px rgba(60, 64, 67, 0.3), 0 1px 3px 1px rgba(60, 64, 67, 0.15);\n",
              "    fill: var(--button-hover-fill-color);\n",
              "  }\n",
              "\n",
              "  .colab-df-quickchart-complete:disabled,\n",
              "  .colab-df-quickchart-complete:disabled:hover {\n",
              "    background-color: var(--disabled-bg-color);\n",
              "    fill: var(--disabled-fill-color);\n",
              "    box-shadow: none;\n",
              "  }\n",
              "\n",
              "  .colab-df-spinner {\n",
              "    border: 2px solid var(--fill-color);\n",
              "    border-color: transparent;\n",
              "    border-bottom-color: var(--fill-color);\n",
              "    animation:\n",
              "      spin 1s steps(1) infinite;\n",
              "  }\n",
              "\n",
              "  @keyframes spin {\n",
              "    0% {\n",
              "      border-color: transparent;\n",
              "      border-bottom-color: var(--fill-color);\n",
              "      border-left-color: var(--fill-color);\n",
              "    }\n",
              "    20% {\n",
              "      border-color: transparent;\n",
              "      border-left-color: var(--fill-color);\n",
              "      border-top-color: var(--fill-color);\n",
              "    }\n",
              "    30% {\n",
              "      border-color: transparent;\n",
              "      border-left-color: var(--fill-color);\n",
              "      border-top-color: var(--fill-color);\n",
              "      border-right-color: var(--fill-color);\n",
              "    }\n",
              "    40% {\n",
              "      border-color: transparent;\n",
              "      border-right-color: var(--fill-color);\n",
              "      border-top-color: var(--fill-color);\n",
              "    }\n",
              "    60% {\n",
              "      border-color: transparent;\n",
              "      border-right-color: var(--fill-color);\n",
              "    }\n",
              "    80% {\n",
              "      border-color: transparent;\n",
              "      border-right-color: var(--fill-color);\n",
              "      border-bottom-color: var(--fill-color);\n",
              "    }\n",
              "    90% {\n",
              "      border-color: transparent;\n",
              "      border-bottom-color: var(--fill-color);\n",
              "    }\n",
              "  }\n",
              "</style>\n",
              "\n",
              "  <script>\n",
              "    async function quickchart(key) {\n",
              "      const quickchartButtonEl =\n",
              "        document.querySelector('#' + key + ' button');\n",
              "      quickchartButtonEl.disabled = true;  // To prevent multiple clicks.\n",
              "      quickchartButtonEl.classList.add('colab-df-spinner');\n",
              "      try {\n",
              "        const charts = await google.colab.kernel.invokeFunction(\n",
              "            'suggestCharts', [key], {});\n",
              "      } catch (error) {\n",
              "        console.error('Error during call to suggestCharts:', error);\n",
              "      }\n",
              "      quickchartButtonEl.classList.remove('colab-df-spinner');\n",
              "      quickchartButtonEl.classList.add('colab-df-quickchart-complete');\n",
              "    }\n",
              "    (() => {\n",
              "      let quickchartButtonEl =\n",
              "        document.querySelector('#df-957e2823-9228-4b26-8ba9-8968edb1ac33 button');\n",
              "      quickchartButtonEl.style.display =\n",
              "        google.colab.kernel.accessAllowed ? 'block' : 'none';\n",
              "    })();\n",
              "  </script>\n",
              "</div>\n",
              "\n",
              "  <div id=\"id_2ee4252f-f902-408d-9c0d-8e93bbc54465\">\n",
              "    <style>\n",
              "      .colab-df-generate {\n",
              "        background-color: #E8F0FE;\n",
              "        border: none;\n",
              "        border-radius: 50%;\n",
              "        cursor: pointer;\n",
              "        display: none;\n",
              "        fill: #1967D2;\n",
              "        height: 32px;\n",
              "        padding: 0 0 0 0;\n",
              "        width: 32px;\n",
              "      }\n",
              "\n",
              "      .colab-df-generate:hover {\n",
              "        background-color: #E2EBFA;\n",
              "        box-shadow: 0px 1px 2px rgba(60, 64, 67, 0.3), 0px 1px 3px 1px rgba(60, 64, 67, 0.15);\n",
              "        fill: #174EA6;\n",
              "      }\n",
              "\n",
              "      [theme=dark] .colab-df-generate {\n",
              "        background-color: #3B4455;\n",
              "        fill: #D2E3FC;\n",
              "      }\n",
              "\n",
              "      [theme=dark] .colab-df-generate:hover {\n",
              "        background-color: #434B5C;\n",
              "        box-shadow: 0px 1px 3px 1px rgba(0, 0, 0, 0.15);\n",
              "        filter: drop-shadow(0px 1px 2px rgba(0, 0, 0, 0.3));\n",
              "        fill: #FFFFFF;\n",
              "      }\n",
              "    </style>\n",
              "    <button class=\"colab-df-generate\" onclick=\"generateWithVariable('data')\"\n",
              "            title=\"Generate code using this dataframe.\"\n",
              "            style=\"display:none;\">\n",
              "\n",
              "  <svg xmlns=\"http://www.w3.org/2000/svg\" height=\"24px\"viewBox=\"0 0 24 24\"\n",
              "       width=\"24px\">\n",
              "    <path d=\"M7,19H8.4L18.45,9,17,7.55,7,17.6ZM5,21V16.75L18.45,3.32a2,2,0,0,1,2.83,0l1.4,1.43a1.91,1.91,0,0,1,.58,1.4,1.91,1.91,0,0,1-.58,1.4L9.25,21ZM18.45,9,17,7.55Zm-12,3A5.31,5.31,0,0,0,4.9,8.1,5.31,5.31,0,0,0,1,6.5,5.31,5.31,0,0,0,4.9,4.9,5.31,5.31,0,0,0,6.5,1,5.31,5.31,0,0,0,8.1,4.9,5.31,5.31,0,0,0,12,6.5,5.46,5.46,0,0,0,6.5,12Z\"/>\n",
              "  </svg>\n",
              "    </button>\n",
              "    <script>\n",
              "      (() => {\n",
              "      const buttonEl =\n",
              "        document.querySelector('#id_2ee4252f-f902-408d-9c0d-8e93bbc54465 button.colab-df-generate');\n",
              "      buttonEl.style.display =\n",
              "        google.colab.kernel.accessAllowed ? 'block' : 'none';\n",
              "\n",
              "      buttonEl.onclick = () => {\n",
              "        google.colab.notebook.generateWithVariable('data');\n",
              "      }\n",
              "      })();\n",
              "    </script>\n",
              "  </div>\n",
              "\n",
              "    </div>\n",
              "  </div>\n"
            ],
            "application/vnd.google.colaboratory.intrinsic+json": {
              "type": "dataframe",
              "variable_name": "data",
              "summary": "{\n  \"name\": \"data\",\n  \"rows\": 973,\n  \"fields\": [\n    {\n      \"column\": \"Age\",\n      \"properties\": {\n        \"dtype\": \"number\",\n        \"std\": 12,\n        \"min\": 18,\n        \"max\": 59,\n        \"num_unique_values\": 42,\n        \"samples\": [\n          26,\n          19,\n          41\n        ],\n        \"semantic_type\": \"\",\n        \"description\": \"\"\n      }\n    },\n    {\n      \"column\": \"Gender\",\n      \"properties\": {\n        \"dtype\": \"category\",\n        \"num_unique_values\": 2,\n        \"samples\": [\n          \"Female\",\n          \"Male\"\n        ],\n        \"semantic_type\": \"\",\n        \"description\": \"\"\n      }\n    },\n    {\n      \"column\": \"Weight (kg)\",\n      \"properties\": {\n        \"dtype\": \"number\",\n        \"std\": 21.20750049840718,\n        \"min\": 40.0,\n        \"max\": 129.9,\n        \"num_unique_values\": 532,\n        \"samples\": [\n          70.3,\n          127.1\n        ],\n        \"semantic_type\": \"\",\n        \"description\": \"\"\n      }\n    },\n    {\n      \"column\": \"Height (m)\",\n      \"properties\": {\n        \"dtype\": \"number\",\n        \"std\": 0.12771989460721703,\n        \"min\": 1.5,\n        \"max\": 2.0,\n        \"num_unique_values\": 51,\n        \"samples\": [\n          1.92,\n          1.96\n        ],\n        \"semantic_type\": \"\",\n        \"description\": \"\"\n      }\n    },\n    {\n      \"column\": \"Max_BPM\",\n      \"properties\": {\n        \"dtype\": \"number\",\n        \"std\": 11,\n        \"min\": 160,\n        \"max\": 199,\n        \"num_unique_values\": 40,\n        \"samples\": [\n          173,\n          199\n        ],\n        \"semantic_type\": \"\",\n        \"description\": \"\"\n      }\n    },\n    {\n      \"column\": \"Avg_BPM\",\n      \"properties\": {\n        \"dtype\": \"number\",\n        \"std\": 14,\n        \"min\": 120,\n        \"max\": 169,\n        \"num_unique_values\": 50,\n        \"samples\": [\n          161,\n          130\n        ],\n        \"semantic_type\": \"\",\n        \"description\": \"\"\n      }\n    },\n    {\n      \"column\": \"Resting_BPM\",\n      \"properties\": {\n        \"dtype\": \"number\",\n        \"std\": 7,\n        \"min\": 50,\n        \"max\": 74,\n        \"num_unique_values\": 25,\n        \"samples\": [\n          52,\n          62\n        ],\n        \"semantic_type\": \"\",\n        \"description\": \"\"\n      }\n    },\n    {\n      \"column\": \"Session_Duration (hours)\",\n      \"properties\": {\n        \"dtype\": \"number\",\n        \"std\": 0.3430334803899634,\n        \"min\": 0.5,\n        \"max\": 2.0,\n        \"num_unique_values\": 147,\n        \"samples\": [\n          1.9,\n          1.81\n        ],\n        \"semantic_type\": \"\",\n        \"description\": \"\"\n      }\n    },\n    {\n      \"column\": \"Calories_Burned\",\n      \"properties\": {\n        \"dtype\": \"number\",\n        \"std\": 272.64151645225877,\n        \"min\": 303.0,\n        \"max\": 1783.0,\n        \"num_unique_values\": 621,\n        \"samples\": [\n          1122.0,\n          494.0\n        ],\n        \"semantic_type\": \"\",\n        \"description\": \"\"\n      }\n    },\n    {\n      \"column\": \"Workout_Type\",\n      \"properties\": {\n        \"dtype\": \"category\",\n        \"num_unique_values\": 4,\n        \"samples\": [\n          \"HIIT\",\n          \"Strength\"\n        ],\n        \"semantic_type\": \"\",\n        \"description\": \"\"\n      }\n    },\n    {\n      \"column\": \"Fat_Percentage\",\n      \"properties\": {\n        \"dtype\": \"number\",\n        \"std\": 6.259418834269056,\n        \"min\": 10.0,\n        \"max\": 35.0,\n        \"num_unique_values\": 239,\n        \"samples\": [\n          26.1,\n          21.3\n        ],\n        \"semantic_type\": \"\",\n        \"description\": \"\"\n      }\n    },\n    {\n      \"column\": \"Water_Intake (liters)\",\n      \"properties\": {\n        \"dtype\": \"number\",\n        \"std\": 0.6001719365613234,\n        \"min\": 1.5,\n        \"max\": 3.7,\n        \"num_unique_values\": 23,\n        \"samples\": [\n          1.8,\n          3.3\n        ],\n        \"semantic_type\": \"\",\n        \"description\": \"\"\n      }\n    },\n    {\n      \"column\": \"Workout_Frequency (days/week)\",\n      \"properties\": {\n        \"dtype\": \"number\",\n        \"std\": 0,\n        \"min\": 2,\n        \"max\": 5,\n        \"num_unique_values\": 4,\n        \"samples\": [\n          3,\n          2\n        ],\n        \"semantic_type\": \"\",\n        \"description\": \"\"\n      }\n    },\n    {\n      \"column\": \"Experience_Level\",\n      \"properties\": {\n        \"dtype\": \"number\",\n        \"std\": 0,\n        \"min\": 1,\n        \"max\": 3,\n        \"num_unique_values\": 3,\n        \"samples\": [\n          3,\n          2\n        ],\n        \"semantic_type\": \"\",\n        \"description\": \"\"\n      }\n    },\n    {\n      \"column\": \"BMI\",\n      \"properties\": {\n        \"dtype\": \"number\",\n        \"std\": 6.660879393631086,\n        \"min\": 12.32,\n        \"max\": 49.84,\n        \"num_unique_values\": 771,\n        \"samples\": [\n          22.67,\n          23.94\n        ],\n        \"semantic_type\": \"\",\n        \"description\": \"\"\n      }\n    }\n  ]\n}"
            }
          },
          "metadata": {},
          "execution_count": 9
        }
      ]
    },
    {
      "cell_type": "code",
      "source": [
        "data[\"Age\"].head(10)"
      ],
      "metadata": {
        "colab": {
          "base_uri": "https://localhost:8080/",
          "height": 398
        },
        "collapsed": true,
        "id": "qnrXme6hDtL7",
        "outputId": "7844c55f-c9f3-4813-a0ed-fc7ef04ffa79"
      },
      "execution_count": null,
      "outputs": [
        {
          "output_type": "execute_result",
          "data": {
            "text/plain": [
              "0    56\n",
              "1    46\n",
              "2    32\n",
              "3    25\n",
              "4    38\n",
              "5    56\n",
              "6    36\n",
              "7    40\n",
              "8    28\n",
              "9    28\n",
              "Name: Age, dtype: int64"
            ],
            "text/html": [
              "<div>\n",
              "<style scoped>\n",
              "    .dataframe tbody tr th:only-of-type {\n",
              "        vertical-align: middle;\n",
              "    }\n",
              "\n",
              "    .dataframe tbody tr th {\n",
              "        vertical-align: top;\n",
              "    }\n",
              "\n",
              "    .dataframe thead th {\n",
              "        text-align: right;\n",
              "    }\n",
              "</style>\n",
              "<table border=\"1\" class=\"dataframe\">\n",
              "  <thead>\n",
              "    <tr style=\"text-align: right;\">\n",
              "      <th></th>\n",
              "      <th>Age</th>\n",
              "    </tr>\n",
              "  </thead>\n",
              "  <tbody>\n",
              "    <tr>\n",
              "      <th>0</th>\n",
              "      <td>56</td>\n",
              "    </tr>\n",
              "    <tr>\n",
              "      <th>1</th>\n",
              "      <td>46</td>\n",
              "    </tr>\n",
              "    <tr>\n",
              "      <th>2</th>\n",
              "      <td>32</td>\n",
              "    </tr>\n",
              "    <tr>\n",
              "      <th>3</th>\n",
              "      <td>25</td>\n",
              "    </tr>\n",
              "    <tr>\n",
              "      <th>4</th>\n",
              "      <td>38</td>\n",
              "    </tr>\n",
              "    <tr>\n",
              "      <th>5</th>\n",
              "      <td>56</td>\n",
              "    </tr>\n",
              "    <tr>\n",
              "      <th>6</th>\n",
              "      <td>36</td>\n",
              "    </tr>\n",
              "    <tr>\n",
              "      <th>7</th>\n",
              "      <td>40</td>\n",
              "    </tr>\n",
              "    <tr>\n",
              "      <th>8</th>\n",
              "      <td>28</td>\n",
              "    </tr>\n",
              "    <tr>\n",
              "      <th>9</th>\n",
              "      <td>28</td>\n",
              "    </tr>\n",
              "  </tbody>\n",
              "</table>\n",
              "</div><br><label><b>dtype:</b> int64</label>"
            ]
          },
          "metadata": {},
          "execution_count": 5
        }
      ]
    },
    {
      "cell_type": "code",
      "source": [
        "data[\"Calories_Burned\"].mean()"
      ],
      "metadata": {
        "colab": {
          "base_uri": "https://localhost:8080/"
        },
        "id": "ZQqg2uicTOzE",
        "outputId": "4be05bec-6f6a-4fa0-98bb-c588bedb323e"
      },
      "execution_count": null,
      "outputs": [
        {
          "output_type": "execute_result",
          "data": {
            "text/plain": [
              "905.4224049331963"
            ]
          },
          "metadata": {},
          "execution_count": 6
        }
      ]
    },
    {
      "cell_type": "code",
      "source": [
        "data[\"Fat_Percentage\"].std()"
      ],
      "metadata": {
        "colab": {
          "base_uri": "https://localhost:8080/"
        },
        "id": "v8El1FYaThYt",
        "outputId": "f7d295b9-415c-4468-8fdd-f84bdf954696"
      },
      "execution_count": null,
      "outputs": [
        {
          "output_type": "execute_result",
          "data": {
            "text/plain": [
              "6.259418834269056"
            ]
          },
          "metadata": {},
          "execution_count": 7
        }
      ]
    },
    {
      "cell_type": "code",
      "source": [
        "data.count()"
      ],
      "metadata": {
        "colab": {
          "base_uri": "https://localhost:8080/",
          "height": 554
        },
        "id": "5iQMpmTVZ6Nw",
        "outputId": "15e0ee1f-1ffa-4bfb-914a-1e57dc7c1426"
      },
      "execution_count": null,
      "outputs": [
        {
          "output_type": "execute_result",
          "data": {
            "text/plain": [
              "Age                              973\n",
              "Gender                           973\n",
              "Weight (kg)                      973\n",
              "Height (m)                       973\n",
              "Max_BPM                          973\n",
              "Avg_BPM                          973\n",
              "Resting_BPM                      973\n",
              "Session_Duration (hours)         973\n",
              "Calories_Burned                  973\n",
              "Workout_Type                     973\n",
              "Fat_Percentage                   973\n",
              "Water_Intake (liters)            973\n",
              "Workout_Frequency (days/week)    973\n",
              "Experience_Level                 973\n",
              "BMI                              973\n",
              "dtype: int64"
            ],
            "text/html": [
              "<div>\n",
              "<style scoped>\n",
              "    .dataframe tbody tr th:only-of-type {\n",
              "        vertical-align: middle;\n",
              "    }\n",
              "\n",
              "    .dataframe tbody tr th {\n",
              "        vertical-align: top;\n",
              "    }\n",
              "\n",
              "    .dataframe thead th {\n",
              "        text-align: right;\n",
              "    }\n",
              "</style>\n",
              "<table border=\"1\" class=\"dataframe\">\n",
              "  <thead>\n",
              "    <tr style=\"text-align: right;\">\n",
              "      <th></th>\n",
              "      <th>0</th>\n",
              "    </tr>\n",
              "  </thead>\n",
              "  <tbody>\n",
              "    <tr>\n",
              "      <th>Age</th>\n",
              "      <td>973</td>\n",
              "    </tr>\n",
              "    <tr>\n",
              "      <th>Gender</th>\n",
              "      <td>973</td>\n",
              "    </tr>\n",
              "    <tr>\n",
              "      <th>Weight (kg)</th>\n",
              "      <td>973</td>\n",
              "    </tr>\n",
              "    <tr>\n",
              "      <th>Height (m)</th>\n",
              "      <td>973</td>\n",
              "    </tr>\n",
              "    <tr>\n",
              "      <th>Max_BPM</th>\n",
              "      <td>973</td>\n",
              "    </tr>\n",
              "    <tr>\n",
              "      <th>Avg_BPM</th>\n",
              "      <td>973</td>\n",
              "    </tr>\n",
              "    <tr>\n",
              "      <th>Resting_BPM</th>\n",
              "      <td>973</td>\n",
              "    </tr>\n",
              "    <tr>\n",
              "      <th>Session_Duration (hours)</th>\n",
              "      <td>973</td>\n",
              "    </tr>\n",
              "    <tr>\n",
              "      <th>Calories_Burned</th>\n",
              "      <td>973</td>\n",
              "    </tr>\n",
              "    <tr>\n",
              "      <th>Workout_Type</th>\n",
              "      <td>973</td>\n",
              "    </tr>\n",
              "    <tr>\n",
              "      <th>Fat_Percentage</th>\n",
              "      <td>973</td>\n",
              "    </tr>\n",
              "    <tr>\n",
              "      <th>Water_Intake (liters)</th>\n",
              "      <td>973</td>\n",
              "    </tr>\n",
              "    <tr>\n",
              "      <th>Workout_Frequency (days/week)</th>\n",
              "      <td>973</td>\n",
              "    </tr>\n",
              "    <tr>\n",
              "      <th>Experience_Level</th>\n",
              "      <td>973</td>\n",
              "    </tr>\n",
              "    <tr>\n",
              "      <th>BMI</th>\n",
              "      <td>973</td>\n",
              "    </tr>\n",
              "  </tbody>\n",
              "</table>\n",
              "</div><br><label><b>dtype:</b> int64</label>"
            ]
          },
          "metadata": {},
          "execution_count": 17
        }
      ]
    },
    {
      "cell_type": "code",
      "source": [
        "#Proportion - We use groupby() function then apply the size()\n",
        "# Plot on a pie or bar charts - comparison\n",
        "\n",
        "data.groupby(\"Gender\").size().plot(kind=\"pie\", autopct= '%1.2f%%')"
      ],
      "metadata": {
        "colab": {
          "base_uri": "https://localhost:8080/",
          "height": 423
        },
        "id": "ld92t-oDT-1U",
        "outputId": "69582282-cf73-4feb-dc25-f14020578c6f"
      },
      "execution_count": null,
      "outputs": [
        {
          "output_type": "execute_result",
          "data": {
            "text/plain": [
              "<Axes: >"
            ]
          },
          "metadata": {},
          "execution_count": 12
        },
        {
          "output_type": "display_data",
          "data": {
            "text/plain": [
              "<Figure size 640x480 with 1 Axes>"
            ],
            "image/png": "[encoded data removed]"
          },
          "metadata": {}
        }
      ]
    },
    {
      "cell_type": "code",
      "source": [
        "data.isnull().sum()\n",
        "data.fillna(0)\n",
        "data.dropna()"
      ],
      "metadata": {
        "colab": {
          "base_uri": "https://localhost:8080/",
          "height": 554
        },
        "id": "2GN6AwOEWZMa",
        "outputId": "a74b8af4-a594-4ef1-efdf-a3caf5e3f910"
      },
      "execution_count": null,
      "outputs": [
        {
          "output_type": "execute_result",
          "data": {
            "text/plain": [
              "Age                              0\n",
              "Gender                           0\n",
              "Weight (kg)                      0\n",
              "Height (m)                       0\n",
              "Max_BPM                          0\n",
              "Avg_BPM                          0\n",
              "Resting_BPM                      0\n",
              "Session_Duration (hours)         0\n",
              "Calories_Burned                  0\n",
              "Workout_Type                     0\n",
              "Fat_Percentage                   0\n",
              "Water_Intake (liters)            0\n",
              "Workout_Frequency (days/week)    0\n",
              "Experience_Level                 0\n",
              "BMI                              0\n",
              "dtype: int64"
            ],
            "text/html": [
              "<div>\n",
              "<style scoped>\n",
              "    .dataframe tbody tr th:only-of-type {\n",
              "        vertical-align: middle;\n",
              "    }\n",
              "\n",
              "    .dataframe tbody tr th {\n",
              "        vertical-align: top;\n",
              "    }\n",
              "\n",
              "    .dataframe thead th {\n",
              "        text-align: right;\n",
              "    }\n",
              "</style>\n",
              "<table border=\"1\" class=\"dataframe\">\n",
              "  <thead>\n",
              "    <tr style=\"text-align: right;\">\n",
              "      <th></th>\n",
              "      <th>0</th>\n",
              "    </tr>\n",
              "  </thead>\n",
              "  <tbody>\n",
              "    <tr>\n",
              "      <th>Age</th>\n",
              "      <td>0</td>\n",
              "    </tr>\n",
              "    <tr>\n",
              "      <th>Gender</th>\n",
              "      <td>0</td>\n",
              "    </tr>\n",
              "    <tr>\n",
              "      <th>Weight (kg)</th>\n",
              "      <td>0</td>\n",
              "    </tr>\n",
              "    <tr>\n",
              "      <th>Height (m)</th>\n",
              "      <td>0</td>\n",
              "    </tr>\n",
              "    <tr>\n",
              "      <th>Max_BPM</th>\n",
              "      <td>0</td>\n",
              "    </tr>\n",
              "    <tr>\n",
              "      <th>Avg_BPM</th>\n",
              "      <td>0</td>\n",
              "    </tr>\n",
              "    <tr>\n",
              "      <th>Resting_BPM</th>\n",
              "      <td>0</td>\n",
              "    </tr>\n",
              "    <tr>\n",
              "      <th>Session_Duration (hours)</th>\n",
              "      <td>0</td>\n",
              "    </tr>\n",
              "    <tr>\n",
              "      <th>Calories_Burned</th>\n",
              "      <td>0</td>\n",
              "    </tr>\n",
              "    <tr>\n",
              "      <th>Workout_Type</th>\n",
              "      <td>0</td>\n",
              "    </tr>\n",
              "    <tr>\n",
              "      <th>Fat_Percentage</th>\n",
              "      <td>0</td>\n",
              "    </tr>\n",
              "    <tr>\n",
              "      <th>Water_Intake (liters)</th>\n",
              "      <td>0</td>\n",
              "    </tr>\n",
              "    <tr>\n",
              "      <th>Workout_Frequency (days/week)</th>\n",
              "      <td>0</td>\n",
              "    </tr>\n",
              "    <tr>\n",
              "      <th>Experience_Level</th>\n",
              "      <td>0</td>\n",
              "    </tr>\n",
              "    <tr>\n",
              "      <th>BMI</th>\n",
              "      <td>0</td>\n",
              "    </tr>\n",
              "  </tbody>\n",
              "</table>\n",
              "</div><br><label><b>dtype:</b> int64</label>"
            ]
          },
          "metadata": {},
          "execution_count": 13
        }
      ]
    },
    {
      "cell_type": "code",
      "source": [
        "\n",
        "data.isnull().sum()\n",
        "\n",
        "data.groupby(\"Gender\").size().plot(kind=\"bar\")"
      ],
      "metadata": {
        "colab": {
          "base_uri": "https://localhost:8080/",
          "height": 503
        },
        "id": "XK8x9v_ZWfu1",
        "outputId": "179370d7-7ce8-4a54-9732-0a34ca26d45b"
      },
      "execution_count": null,
      "outputs": [
        {
          "output_type": "execute_result",
          "data": {
            "text/plain": [
              "<Axes: xlabel='Gender'>"
            ]
          },
          "metadata": {},
          "execution_count": 13
        },
        {
          "output_type": "display_data",
          "data": {
            "text/plain": [
              "<Figure size 640x480 with 1 Axes>"
            ],
            "image/png": "[encoded data removed]"
          },
          "metadata": {}
        }
      ]
    },
    {
      "cell_type": "code",
      "source": [
        "data.describe()"
      ],
      "metadata": {
        "colab": {
          "base_uri": "https://localhost:8080/",
          "height": 338
        },
        "id": "LNzEzTnGZxY9",
        "outputId": "6f3dee37-3fca-48f8-c8a0-704adb050574"
      },
      "execution_count": null,
      "outputs": [
        {
          "output_type": "execute_result",
          "data": {
            "text/plain": [
              "              Age  Weight (kg)  Height (m)     Max_BPM     Avg_BPM  \\\n",
              "count  973.000000   973.000000   973.00000  973.000000  973.000000   \n",
              "mean    38.683453    73.854676     1.72258  179.883864  143.766701   \n",
              "std     12.180928    21.207500     0.12772   11.525686   14.345101   \n",
              "min     18.000000    40.000000     1.50000  160.000000  120.000000   \n",
              "25%     28.000000    58.100000     1.62000  170.000000  131.000000   \n",
              "50%     40.000000    70.000000     1.71000  180.000000  143.000000   \n",
              "75%     49.000000    86.000000     1.80000  190.000000  156.000000   \n",
              "max     59.000000   129.900000     2.00000  199.000000  169.000000   \n",
              "\n",
              "       Resting_BPM  Session_Duration (hours)  Calories_Burned  Fat_Percentage  \\\n",
              "count   973.000000                973.000000       973.000000      973.000000   \n",
              "mean     62.223022                  1.256423       905.422405       24.976773   \n",
              "std       7.327060                  0.343033       272.641516        6.259419   \n",
              "min      50.000000                  0.500000       303.000000       10.000000   \n",
              "25%      56.000000                  1.040000       720.000000       21.300000   \n",
              "50%      62.000000                  1.260000       893.000000       26.200000   \n",
              "75%      68.000000                  1.460000      1076.000000       29.300000   \n",
              "max      74.000000                  2.000000      1783.000000       35.000000   \n",
              "\n",
              "       Water_Intake (liters)  Workout_Frequency (days/week)  Experience_Level  \\\n",
              "count             973.000000                     973.000000        973.000000   \n",
              "mean                2.626619                       3.321686          1.809866   \n",
              "std                 0.600172                       0.913047          0.739693   \n",
              "min                 1.500000                       2.000000          1.000000   \n",
              "25%                 2.200000                       3.000000          1.000000   \n",
              "50%                 2.600000                       3.000000          2.000000   \n",
              "75%                 3.100000                       4.000000          2.000000   \n",
              "max                 3.700000                       5.000000          3.000000   \n",
              "\n",
              "              BMI  \n",
              "count  973.000000  \n",
              "mean    24.912127  \n",
              "std      6.660879  \n",
              "min     12.320000  \n",
              "25%     20.110000  \n",
              "50%     24.160000  \n",
              "75%     28.560000  \n",
              "max     49.840000  "
            ],
            "text/html": [
              "\n",
              "  <div id=\"df-010555fc-117e-405c-ac79-2f64bc8727ce\" class=\"colab-df-container\">\n",
              "    <div>\n",
              "<style scoped>\n",
              "    .dataframe tbody tr th:only-of-type {\n",
              "        vertical-align: middle;\n",
              "    }\n",
              "\n",
              "    .dataframe tbody tr th {\n",
              "        vertical-align: top;\n",
              "    }\n",
              "\n",
              "    .dataframe thead th {\n",
              "        text-align: right;\n",
              "    }\n",
              "</style>\n",
              "<table border=\"1\" class=\"dataframe\">\n",
              "  <thead>\n",
              "    <tr style=\"text-align: right;\">\n",
              "      <th></th>\n",
              "      <th>Age</th>\n",
              "      <th>Weight (kg)</th>\n",
              "      <th>Height (m)</th>\n",
              "      <th>Max_BPM</th>\n",
              "      <th>Avg_BPM</th>\n",
              "      <th>Resting_BPM</th>\n",
              "      <th>Session_Duration (hours)</th>\n",
              "      <th>Calories_Burned</th>\n",
              "      <th>Fat_Percentage</th>\n",
              "      <th>Water_Intake (liters)</th>\n",
              "      <th>Workout_Frequency (days/week)</th>\n",
              "      <th>Experience_Level</th>\n",
              "      <th>BMI</th>\n",
              "    </tr>\n",
              "  </thead>\n",
              "  <tbody>\n",
              "    <tr>\n",
              "      <th>count</th>\n",
              "      <td>973.000000</td>\n",
              "      <td>973.000000</td>\n",
              "      <td>973.00000</td>\n",
              "      <td>973.000000</td>\n",
              "      <td>973.000000</td>\n",
              "      <td>973.000000</td>\n",
              "      <td>973.000000</td>\n",
              "      <td>973.000000</td>\n",
              "      <td>973.000000</td>\n",
              "      <td>973.000000</td>\n",
              "      <td>973.000000</td>\n",
              "      <td>973.000000</td>\n",
              "      <td>973.000000</td>\n",
              "    </tr>\n",
              "    <tr>\n",
              "      <th>mean</th>\n",
              "      <td>38.683453</td>\n",
              "      <td>73.854676</td>\n",
              "      <td>1.72258</td>\n",
              "      <td>179.883864</td>\n",
              "      <td>143.766701</td>\n",
              "      <td>62.223022</td>\n",
              "      <td>1.256423</td>\n",
              "      <td>905.422405</td>\n",
              "      <td>24.976773</td>\n",
              "      <td>2.626619</td>\n",
              "      <td>3.321686</td>\n",
              "      <td>1.809866</td>\n",
              "      <td>24.912127</td>\n",
              "    </tr>\n",
              "    <tr>\n",
              "      <th>std</th>\n",
              "      <td>12.180928</td>\n",
              "      <td>21.207500</td>\n",
              "      <td>0.12772</td>\n",
              "      <td>11.525686</td>\n",
              "      <td>14.345101</td>\n",
              "      <td>7.327060</td>\n",
              "      <td>0.343033</td>\n",
              "      <td>272.641516</td>\n",
              "      <td>6.259419</td>\n",
              "      <td>0.600172</td>\n",
              "      <td>0.913047</td>\n",
              "      <td>0.739693</td>\n",
              "      <td>6.660879</td>\n",
              "    </tr>\n",
              "    <tr>\n",
              "      <th>min</th>\n",
              "      <td>18.000000</td>\n",
              "      <td>40.000000</td>\n",
              "      <td>1.50000</td>\n",
              "      <td>160.000000</td>\n",
              "      <td>120.000000</td>\n",
              "      <td>50.000000</td>\n",
              "      <td>0.500000</td>\n",
              "      <td>303.000000</td>\n",
              "      <td>10.000000</td>\n",
              "      <td>1.500000</td>\n",
              "      <td>2.000000</td>\n",
              "      <td>1.000000</td>\n",
              "      <td>12.320000</td>\n",
              "    </tr>\n",
              "    <tr>\n",
              "      <th>25%</th>\n",
              "      <td>28.000000</td>\n",
              "      <td>58.100000</td>\n",
              "      <td>1.62000</td>\n",
              "      <td>170.000000</td>\n",
              "      <td>131.000000</td>\n",
              "      <td>56.000000</td>\n",
              "      <td>1.040000</td>\n",
              "      <td>720.000000</td>\n",
              "      <td>21.300000</td>\n",
              "      <td>2.200000</td>\n",
              "      <td>3.000000</td>\n",
              "      <td>1.000000</td>\n",
              "      <td>20.110000</td>\n",
              "    </tr>\n",
              "    <tr>\n",
              "      <th>50%</th>\n",
              "      <td>40.000000</td>\n",
              "      <td>70.000000</td>\n",
              "      <td>1.71000</td>\n",
              "      <td>180.000000</td>\n",
              "      <td>143.000000</td>\n",
              "      <td>62.000000</td>\n",
              "      <td>1.260000</td>\n",
              "      <td>893.000000</td>\n",
              "      <td>26.200000</td>\n",
              "      <td>2.600000</td>\n",
              "      <td>3.000000</td>\n",
              "      <td>2.000000</td>\n",
              "      <td>24.160000</td>\n",
              "    </tr>\n",
              "    <tr>\n",
              "      <th>75%</th>\n",
              "      <td>49.000000</td>\n",
              "      <td>86.000000</td>\n",
              "      <td>1.80000</td>\n",
              "      <td>190.000000</td>\n",
              "      <td>156.000000</td>\n",
              "      <td>68.000000</td>\n",
              "      <td>1.460000</td>\n",
              "      <td>1076.000000</td>\n",
              "      <td>29.300000</td>\n",
              "      <td>3.100000</td>\n",
              "      <td>4.000000</td>\n",
              "      <td>2.000000</td>\n",
              "      <td>28.560000</td>\n",
              "    </tr>\n",
              "    <tr>\n",
              "      <th>max</th>\n",
              "      <td>59.000000</td>\n",
              "      <td>129.900000</td>\n",
              "      <td>2.00000</td>\n",
              "      <td>199.000000</td>\n",
              "      <td>169.000000</td>\n",
              "      <td>74.000000</td>\n",
              "      <td>2.000000</td>\n",
              "      <td>1783.000000</td>\n",
              "      <td>35.000000</td>\n",
              "      <td>3.700000</td>\n",
              "      <td>5.000000</td>\n",
              "      <td>3.000000</td>\n",
              "      <td>49.840000</td>\n",
              "    </tr>\n",
              "  </tbody>\n",
              "</table>\n",
              "</div>\n",
              "    <div class=\"colab-df-buttons\">\n",
              "\n",
              "  <div class=\"colab-df-container\">\n",
              "    <button class=\"colab-df-convert\" onclick=\"convertToInteractive('df-010555fc-117e-405c-ac79-2f64bc8727ce')\"\n",
              "            title=\"Convert this dataframe to an interactive table.\"\n",
              "            style=\"display:none;\">\n",
              "\n",
              "  <svg xmlns=\"http://www.w3.org/2000/svg\" height=\"24px\" viewBox=\"0 -960 960 960\">\n",
              "    <path d=\"M120-120v-720h720v720H120Zm60-500h600v-160H180v160Zm220 220h160v-160H400v160Zm0 220h160v-160H400v160ZM180-400h160v-160H180v160Zm440 0h160v-160H620v160ZM180-180h160v-160H180v160Zm440 0h160v-160H620v160Z\"/>\n",
              "  </svg>\n",
              "    </button>\n",
              "\n",
              "  <style>\n",
              "    .colab-df-container {\n",
              "      display:flex;\n",
              "      gap: 12px;\n",
              "    }\n",
              "\n",
              "    .colab-df-convert {\n",
              "      background-color: #E8F0FE;\n",
              "      border: none;\n",
              "      border-radius: 50%;\n",
              "      cursor: pointer;\n",
              "      display: none;\n",
              "      fill: #1967D2;\n",
              "      height: 32px;\n",
              "      padding: 0 0 0 0;\n",
              "      width: 32px;\n",
              "    }\n",
              "\n",
              "    .colab-df-convert:hover {\n",
              "      background-color: #E2EBFA;\n",
              "      box-shadow: 0px 1px 2px rgba(60, 64, 67, 0.3), 0px 1px 3px 1px rgba(60, 64, 67, 0.15);\n",
              "      fill: #174EA6;\n",
              "    }\n",
              "\n",
              "    .colab-df-buttons div {\n",
              "      margin-bottom: 4px;\n",
              "    }\n",
              "\n",
              "    [theme=dark] .colab-df-convert {\n",
              "      background-color: #3B4455;\n",
              "      fill: #D2E3FC;\n",
              "    }\n",
              "\n",
              "    [theme=dark] .colab-df-convert:hover {\n",
              "      background-color: #434B5C;\n",
              "      box-shadow: 0px 1px 3px 1px rgba(0, 0, 0, 0.15);\n",
              "      filter: drop-shadow(0px 1px 2px rgba(0, 0, 0, 0.3));\n",
              "      fill: #FFFFFF;\n",
              "    }\n",
              "  </style>\n",
              "\n",
              "    <script>\n",
              "      const buttonEl =\n",
              "        document.querySelector('#df-010555fc-117e-405c-ac79-2f64bc8727ce button.colab-df-convert');\n",
              "      buttonEl.style.display =\n",
              "        google.colab.kernel.accessAllowed ? 'block' : 'none';\n",
              "\n",
              "      async function convertToInteractive(key) {\n",
              "        const element = document.querySelector('#df-010555fc-117e-405c-ac79-2f64bc8727ce');\n",
              "        const dataTable =\n",
              "          await google.colab.kernel.invokeFunction('convertToInteractive',\n",
              "                                                    [key], {});\n",
              "        if (!dataTable) return;\n",
              "\n",
              "        const docLinkHtml = 'Like what you see? Visit the ' +\n",
              "          '<a target=\"_blank\" href=https://colab.research.google.com/notebooks/data_table.ipynb>data table notebook</a>'\n",
              "          + ' to learn more about interactive tables.';\n",
              "        element.innerHTML = '';\n",
              "        dataTable['output_type'] = 'display_data';\n",
              "        await google.colab.output.renderOutput(dataTable, element);\n",
              "        const docLink = document.createElement('div');\n",
              "        docLink.innerHTML = docLinkHtml;\n",
              "        element.appendChild(docLink);\n",
              "      }\n",
              "    </script>\n",
              "  </div>\n",
              "\n",
              "\n",
              "<div id=\"df-682c64b0-88c3-4108-9461-823947c4b8a9\">\n",
              "  <button class=\"colab-df-quickchart\" onclick=\"quickchart('df-682c64b0-88c3-4108-9461-823947c4b8a9')\"\n",
              "            title=\"Suggest charts\"\n",
              "            style=\"display:none;\">\n",
              "\n",
              "<svg xmlns=\"http://www.w3.org/2000/svg\" height=\"24px\"viewBox=\"0 0 24 24\"\n",
              "     width=\"24px\">\n",
              "    <g>\n",
              "        <path d=\"M19 3H5c-1.1 0-2 .9-2 2v14c0 1.1.9 2 2 2h14c1.1 0 2-.9 2-2V5c0-1.1-.9-2-2-2zM9 17H7v-7h2v7zm4 0h-2V7h2v10zm4 0h-2v-4h2v4z\"/>\n",
              "    </g>\n",
              "</svg>\n",
              "  </button>\n",
              "\n",
              "<style>\n",
              "  .colab-df-quickchart {\n",
              "      --bg-color: #E8F0FE;\n",
              "      --fill-color: #1967D2;\n",
              "      --hover-bg-color: #E2EBFA;\n",
              "      --hover-fill-color: #174EA6;\n",
              "      --disabled-fill-color: #AAA;\n",
              "      --disabled-bg-color: #DDD;\n",
              "  }\n",
              "\n",
              "  [theme=dark] .colab-df-quickchart {\n",
              "      --bg-color: #3B4455;\n",
              "      --fill-color: #D2E3FC;\n",
              "      --hover-bg-color: #434B5C;\n",
              "      --hover-fill-color: #FFFFFF;\n",
              "      --disabled-bg-color: #3B4455;\n",
              "      --disabled-fill-color: #666;\n",
              "  }\n",
              "\n",
              "  .colab-df-quickchart {\n",
              "    background-color: var(--bg-color);\n",
              "    border: none;\n",
              "    border-radius: 50%;\n",
              "    cursor: pointer;\n",
              "    display: none;\n",
              "    fill: var(--fill-color);\n",
              "    height: 32px;\n",
              "    padding: 0;\n",
              "    width: 32px;\n",
              "  }\n",
              "\n",
              "  .colab-df-quickchart:hover {\n",
              "    background-color: var(--hover-bg-color);\n",
              "    box-shadow: 0 1px 2px rgba(60, 64, 67, 0.3), 0 1px 3px 1px rgba(60, 64, 67, 0.15);\n",
              "    fill: var(--button-hover-fill-color);\n",
              "  }\n",
              "\n",
              "  .colab-df-quickchart-complete:disabled,\n",
              "  .colab-df-quickchart-complete:disabled:hover {\n",
              "    background-color: var(--disabled-bg-color);\n",
              "    fill: var(--disabled-fill-color);\n",
              "    box-shadow: none;\n",
              "  }\n",
              "\n",
              "  .colab-df-spinner {\n",
              "    border: 2px solid var(--fill-color);\n",
              "    border-color: transparent;\n",
              "    border-bottom-color: var(--fill-color);\n",
              "    animation:\n",
              "      spin 1s steps(1) infinite;\n",
              "  }\n",
              "\n",
              "  @keyframes spin {\n",
              "    0% {\n",
              "      border-color: transparent;\n",
              "      border-bottom-color: var(--fill-color);\n",
              "      border-left-color: var(--fill-color);\n",
              "    }\n",
              "    20% {\n",
              "      border-color: transparent;\n",
              "      border-left-color: var(--fill-color);\n",
              "      border-top-color: var(--fill-color);\n",
              "    }\n",
              "    30% {\n",
              "      border-color: transparent;\n",
              "      border-left-color: var(--fill-color);\n",
              "      border-top-color: var(--fill-color);\n",
              "      border-right-color: var(--fill-color);\n",
              "    }\n",
              "    40% {\n",
              "      border-color: transparent;\n",
              "      border-right-color: var(--fill-color);\n",
              "      border-top-color: var(--fill-color);\n",
              "    }\n",
              "    60% {\n",
              "      border-color: transparent;\n",
              "      border-right-color: var(--fill-color);\n",
              "    }\n",
              "    80% {\n",
              "      border-color: transparent;\n",
              "      border-right-color: var(--fill-color);\n",
              "      border-bottom-color: var(--fill-color);\n",
              "    }\n",
              "    90% {\n",
              "      border-color: transparent;\n",
              "      border-bottom-color: var(--fill-color);\n",
              "    }\n",
              "  }\n",
              "</style>\n",
              "\n",
              "  <script>\n",
              "    async function quickchart(key) {\n",
              "      const quickchartButtonEl =\n",
              "        document.querySelector('#' + key + ' button');\n",
              "      quickchartButtonEl.disabled = true;  // To prevent multiple clicks.\n",
              "      quickchartButtonEl.classList.add('colab-df-spinner');\n",
              "      try {\n",
              "        const charts = await google.colab.kernel.invokeFunction(\n",
              "            'suggestCharts', [key], {});\n",
              "      } catch (error) {\n",
              "        console.error('Error during call to suggestCharts:', error);\n",
              "      }\n",
              "      quickchartButtonEl.classList.remove('colab-df-spinner');\n",
              "      quickchartButtonEl.classList.add('colab-df-quickchart-complete');\n",
              "    }\n",
              "    (() => {\n",
              "      let quickchartButtonEl =\n",
              "        document.querySelector('#df-682c64b0-88c3-4108-9461-823947c4b8a9 button');\n",
              "      quickchartButtonEl.style.display =\n",
              "        google.colab.kernel.accessAllowed ? 'block' : 'none';\n",
              "    })();\n",
              "  </script>\n",
              "</div>\n",
              "\n",
              "    </div>\n",
              "  </div>\n"
            ],
            "application/vnd.google.colaboratory.intrinsic+json": {
              "type": "dataframe",
              "summary": "{\n  \"name\": \"data\",\n  \"rows\": 8,\n  \"fields\": [\n    {\n      \"column\": \"Age\",\n      \"properties\": {\n        \"dtype\": \"number\",\n        \"std\": 331.9992638143134,\n        \"min\": 12.180927866987108,\n        \"max\": 973.0,\n        \"num_unique_values\": 8,\n        \"samples\": [\n          38.68345323741007,\n          40.0,\n          973.0\n        ],\n        \"semantic_type\": \"\",\n        \"description\": \"\"\n      }\n    },\n    {\n      \"column\": \"Weight (kg)\",\n      \"properties\": {\n        \"dtype\": \"number\",\n        \"std\": 321.4294680767086,\n        \"min\": 21.20750049840718,\n        \"max\": 973.0,\n        \"num_unique_values\": 8,\n        \"samples\": [\n          73.85467625899281,\n          70.0,\n          973.0\n        ],\n        \"semantic_type\": \"\",\n        \"description\": \"\"\n      }\n    },\n    {\n      \"column\": \"Height (m)\",\n      \"properties\": {\n        \"dtype\": \"number\",\n        \"std\": 343.47859876018913,\n        \"min\": 0.12771989460721703,\n        \"max\": 973.0,\n        \"num_unique_values\": 8,\n        \"samples\": [\n          1.7225796505652622,\n          1.71,\n          973.0\n        ],\n        \"semantic_type\": \"\",\n        \"description\": \"\"\n      }\n    },\n    {\n      \"column\": \"Max_BPM\",\n      \"properties\": {\n        \"dtype\": \"number\",\n        \"std\": 295.1061974835412,\n        \"min\": 11.525685962379304,\n        \"max\": 973.0,\n        \"num_unique_values\": 8,\n        \"samples\": [\n          179.88386433710176,\n          180.0,\n          973.0\n        ],\n        \"semantic_type\": \"\",\n        \"description\": \"\"\n      }\n    },\n    {\n      \"column\": \"Avg_BPM\",\n      \"properties\": {\n        \"dtype\": \"number\",\n        \"std\": 303.46721076685174,\n        \"min\": 14.345101439108843,\n        \"max\": 973.0,\n        \"num_unique_values\": 8,\n        \"samples\": [\n          143.76670092497432,\n          143.0,\n          973.0\n        ],\n        \"semantic_type\": \"\",\n        \"description\": \"\"\n      }\n    },\n    {\n      \"column\": \"Resting_BPM\",\n      \"properties\": {\n        \"dtype\": \"number\",\n        \"std\": 325.4799587540758,\n        \"min\": 7.327059908996752,\n        \"max\": 973.0,\n        \"num_unique_values\": 8,\n        \"samples\": [\n          62.223021582733814,\n          62.0,\n          973.0\n        ],\n        \"semantic_type\": \"\",\n        \"description\": \"\"\n      }\n    },\n    {\n      \"column\": \"Session_Duration (hours)\",\n      \"properties\": {\n        \"dtype\": \"number\",\n        \"std\": 343.6108861976696,\n        \"min\": 0.3430334803899634,\n        \"max\": 973.0,\n        \"num_unique_values\": 8,\n        \"samples\": [\n          1.2564234326824255,\n          1.26,\n          973.0\n        ],\n        \"semantic_type\": \"\",\n        \"description\": \"\"\n      }\n    },\n    {\n      \"column\": \"Calories_Burned\",\n      \"properties\": {\n        \"dtype\": \"number\",\n        \"std\": 476.4571555402799,\n        \"min\": 272.64151645225877,\n        \"max\": 1783.0,\n        \"num_unique_values\": 8,\n        \"samples\": [\n          905.4224049331963,\n          893.0,\n          973.0\n        ],\n        \"semantic_type\": \"\",\n        \"description\": \"\"\n      }\n    },\n    {\n      \"column\": \"Fat_Percentage\",\n      \"properties\": {\n        \"dtype\": \"number\",\n        \"std\": 336.41406276433855,\n        \"min\": 6.259418834269056,\n        \"max\": 973.0,\n        \"num_unique_values\": 8,\n        \"samples\": [\n          24.97677286742035,\n          26.2,\n          973.0\n        ],\n        \"semantic_type\": \"\",\n        \"description\": \"\"\n      }\n    },\n    {\n      \"column\": \"Water_Intake (liters)\",\n      \"properties\": {\n        \"dtype\": \"number\",\n        \"std\": 343.1841388270036,\n        \"min\": 0.6001719365613234,\n        \"max\": 973.0,\n        \"num_unique_values\": 8,\n        \"samples\": [\n          2.626618705035971,\n          2.6,\n          973.0\n        ],\n        \"semantic_type\": \"\",\n        \"description\": \"\"\n      }\n    },\n    {\n      \"column\": \"Workout_Frequency (days/week)\",\n      \"properties\": {\n        \"dtype\": \"number\",\n        \"std\": 342.93710988231015,\n        \"min\": 0.9130469699343143,\n        \"max\": 973.0,\n        \"num_unique_values\": 7,\n        \"samples\": [\n          973.0,\n          3.3216855087358685,\n          4.0\n        ],\n        \"semantic_type\": \"\",\n        \"description\": \"\"\n      }\n    },\n    {\n      \"column\": \"Experience_Level\",\n      \"properties\": {\n        \"dtype\": \"number\",\n        \"std\": 343.42489165603297,\n        \"min\": 0.7396927419551071,\n        \"max\": 973.0,\n        \"num_unique_values\": 6,\n        \"samples\": [\n          973.0,\n          1.8098663926002057,\n          3.0\n        ],\n        \"semantic_type\": \"\",\n        \"description\": \"\"\n      }\n    },\n    {\n      \"column\": \"BMI\",\n      \"properties\": {\n        \"dtype\": \"number\",\n        \"std\": 335.8375670064553,\n        \"min\": 6.660879393631086,\n        \"max\": 973.0,\n        \"num_unique_values\": 8,\n        \"samples\": [\n          24.91212744090442,\n          24.16,\n          973.0\n        ],\n        \"semantic_type\": \"\",\n        \"description\": \"\"\n      }\n    }\n  ]\n}"
            }
          },
          "metadata": {},
          "execution_count": 14
        }
      ]
    },
    {
      "cell_type": "code",
      "source": [
        "data[[\"Workout_Frequency (days/week)\" , \"Calories_Burned\", \"Weight (kg)\"]]. corr()"
      ],
      "metadata": {
        "colab": {
          "base_uri": "https://localhost:8080/",
          "height": 143
        },
        "id": "-JwfROm4aRtw",
        "outputId": "bbd398f0-56d5-467b-95ee-8a09bc18cdb3"
      },
      "execution_count": null,
      "outputs": [
        {
          "output_type": "execute_result",
          "data": {
            "text/plain": [
              "                               Workout_Frequency (days/week)  Calories_Burned  \\\n",
              "Workout_Frequency (days/week)                       1.000000         0.576150   \n",
              "Calories_Burned                                     0.576150         1.000000   \n",
              "Weight (kg)                                        -0.011769         0.095443   \n",
              "\n",
              "                               Weight (kg)  \n",
              "Workout_Frequency (days/week)    -0.011769  \n",
              "Calories_Burned                   0.095443  \n",
              "Weight (kg)                       1.000000  "
            ],
            "text/html": [
              "\n",
              "  <div id=\"df-bc4528f8-d2cd-49a4-b4f5-ef6705cbb546\" class=\"colab-df-container\">\n",
              "    <div>\n",
              "<style scoped>\n",
              "    .dataframe tbody tr th:only-of-type {\n",
              "        vertical-align: middle;\n",
              "    }\n",
              "\n",
              "    .dataframe tbody tr th {\n",
              "        vertical-align: top;\n",
              "    }\n",
              "\n",
              "    .dataframe thead th {\n",
              "        text-align: right;\n",
              "    }\n",
              "</style>\n",
              "<table border=\"1\" class=\"dataframe\">\n",
              "  <thead>\n",
              "    <tr style=\"text-align: right;\">\n",
              "      <th></th>\n",
              "      <th>Workout_Frequency (days/week)</th>\n",
              "      <th>Calories_Burned</th>\n",
              "      <th>Weight (kg)</th>\n",
              "    </tr>\n",
              "  </thead>\n",
              "  <tbody>\n",
              "    <tr>\n",
              "      <th>Workout_Frequency (days/week)</th>\n",
              "      <td>1.000000</td>\n",
              "      <td>0.576150</td>\n",
              "      <td>-0.011769</td>\n",
              "    </tr>\n",
              "    <tr>\n",
              "      <th>Calories_Burned</th>\n",
              "      <td>0.576150</td>\n",
              "      <td>1.000000</td>\n",
              "      <td>0.095443</td>\n",
              "    </tr>\n",
              "    <tr>\n",
              "      <th>Weight (kg)</th>\n",
              "      <td>-0.011769</td>\n",
              "      <td>0.095443</td>\n",
              "      <td>1.000000</td>\n",
              "    </tr>\n",
              "  </tbody>\n",
              "</table>\n",
              "</div>\n",
              "    <div class=\"colab-df-buttons\">\n",
              "\n",
              "  <div class=\"colab-df-container\">\n",
              "    <button class=\"colab-df-convert\" onclick=\"convertToInteractive('df-bc4528f8-d2cd-49a4-b4f5-ef6705cbb546')\"\n",
              "            title=\"Convert this dataframe to an interactive table.\"\n",
              "            style=\"display:none;\">\n",
              "\n",
              "  <svg xmlns=\"http://www.w3.org/2000/svg\" height=\"24px\" viewBox=\"0 -960 960 960\">\n",
              "    <path d=\"M120-120v-720h720v720H120Zm60-500h600v-160H180v160Zm220 220h160v-160H400v160Zm0 220h160v-160H400v160ZM180-400h160v-160H180v160Zm440 0h160v-160H620v160ZM180-180h160v-160H180v160Zm440 0h160v-160H620v160Z\"/>\n",
              "  </svg>\n",
              "    </button>\n",
              "\n",
              "  <style>\n",
              "    .colab-df-container {\n",
              "      display:flex;\n",
              "      gap: 12px;\n",
              "    }\n",
              "\n",
              "    .colab-df-convert {\n",
              "      background-color: #E8F0FE;\n",
              "      border: none;\n",
              "      border-radius: 50%;\n",
              "      cursor: pointer;\n",
              "      display: none;\n",
              "      fill: #1967D2;\n",
              "      height: 32px;\n",
              "      padding: 0 0 0 0;\n",
              "      width: 32px;\n",
              "    }\n",
              "\n",
              "    .colab-df-convert:hover {\n",
              "      background-color: #E2EBFA;\n",
              "      box-shadow: 0px 1px 2px rgba(60, 64, 67, 0.3), 0px 1px 3px 1px rgba(60, 64, 67, 0.15);\n",
              "      fill: #174EA6;\n",
              "    }\n",
              "\n",
              "    .colab-df-buttons div {\n",
              "      margin-bottom: 4px;\n",
              "    }\n",
              "\n",
              "    [theme=dark] .colab-df-convert {\n",
              "      background-color: #3B4455;\n",
              "      fill: #D2E3FC;\n",
              "    }\n",
              "\n",
              "    [theme=dark] .colab-df-convert:hover {\n",
              "      background-color: #434B5C;\n",
              "      box-shadow: 0px 1px 3px 1px rgba(0, 0, 0, 0.15);\n",
              "      filter: drop-shadow(0px 1px 2px rgba(0, 0, 0, 0.3));\n",
              "      fill: #FFFFFF;\n",
              "    }\n",
              "  </style>\n",
              "\n",
              "    <script>\n",
              "      const buttonEl =\n",
              "        document.querySelector('#df-bc4528f8-d2cd-49a4-b4f5-ef6705cbb546 button.colab-df-convert');\n",
              "      buttonEl.style.display =\n",
              "        google.colab.kernel.accessAllowed ? 'block' : 'none';\n",
              "\n",
              "      async function convertToInteractive(key) {\n",
              "        const element = document.querySelector('#df-bc4528f8-d2cd-49a4-b4f5-ef6705cbb546');\n",
              "        const dataTable =\n",
              "          await google.colab.kernel.invokeFunction('convertToInteractive',\n",
              "                                                    [key], {});\n",
              "        if (!dataTable) return;\n",
              "\n",
              "        const docLinkHtml = 'Like what you see? Visit the ' +\n",
              "          '<a target=\"_blank\" href=https://colab.research.google.com/notebooks/data_table.ipynb>data table notebook</a>'\n",
              "          + ' to learn more about interactive tables.';\n",
              "        element.innerHTML = '';\n",
              "        dataTable['output_type'] = 'display_data';\n",
              "        await google.colab.output.renderOutput(dataTable, element);\n",
              "        const docLink = document.createElement('div');\n",
              "        docLink.innerHTML = docLinkHtml;\n",
              "        element.appendChild(docLink);\n",
              "      }\n",
              "    </script>\n",
              "  </div>\n",
              "\n",
              "\n",
              "<div id=\"df-29949ddf-e5c1-44ae-bc72-6ebf11fbb8bc\">\n",
              "  <button class=\"colab-df-quickchart\" onclick=\"quickchart('df-29949ddf-e5c1-44ae-bc72-6ebf11fbb8bc')\"\n",
              "            title=\"Suggest charts\"\n",
              "            style=\"display:none;\">\n",
              "\n",
              "<svg xmlns=\"http://www.w3.org/2000/svg\" height=\"24px\"viewBox=\"0 0 24 24\"\n",
              "     width=\"24px\">\n",
              "    <g>\n",
              "        <path d=\"M19 3H5c-1.1 0-2 .9-2 2v14c0 1.1.9 2 2 2h14c1.1 0 2-.9 2-2V5c0-1.1-.9-2-2-2zM9 17H7v-7h2v7zm4 0h-2V7h2v10zm4 0h-2v-4h2v4z\"/>\n",
              "    </g>\n",
              "</svg>\n",
              "  </button>\n",
              "\n",
              "<style>\n",
              "  .colab-df-quickchart {\n",
              "      --bg-color: #E8F0FE;\n",
              "      --fill-color: #1967D2;\n",
              "      --hover-bg-color: #E2EBFA;\n",
              "      --hover-fill-color: #174EA6;\n",
              "      --disabled-fill-color: #AAA;\n",
              "      --disabled-bg-color: #DDD;\n",
              "  }\n",
              "\n",
              "  [theme=dark] .colab-df-quickchart {\n",
              "      --bg-color: #3B4455;\n",
              "      --fill-color: #D2E3FC;\n",
              "      --hover-bg-color: #434B5C;\n",
              "      --hover-fill-color: #FFFFFF;\n",
              "      --disabled-bg-color: #3B4455;\n",
              "      --disabled-fill-color: #666;\n",
              "  }\n",
              "\n",
              "  .colab-df-quickchart {\n",
              "    background-color: var(--bg-color);\n",
              "    border: none;\n",
              "    border-radius: 50%;\n",
              "    cursor: pointer;\n",
              "    display: none;\n",
              "    fill: var(--fill-color);\n",
              "    height: 32px;\n",
              "    padding: 0;\n",
              "    width: 32px;\n",
              "  }\n",
              "\n",
              "  .colab-df-quickchart:hover {\n",
              "    background-color: var(--hover-bg-color);\n",
              "    box-shadow: 0 1px 2px rgba(60, 64, 67, 0.3), 0 1px 3px 1px rgba(60, 64, 67, 0.15);\n",
              "    fill: var(--button-hover-fill-color);\n",
              "  }\n",
              "\n",
              "  .colab-df-quickchart-complete:disabled,\n",
              "  .colab-df-quickchart-complete:disabled:hover {\n",
              "    background-color: var(--disabled-bg-color);\n",
              "    fill: var(--disabled-fill-color);\n",
              "    box-shadow: none;\n",
              "  }\n",
              "\n",
              "  .colab-df-spinner {\n",
              "    border: 2px solid var(--fill-color);\n",
              "    border-color: transparent;\n",
              "    border-bottom-color: var(--fill-color);\n",
              "    animation:\n",
              "      spin 1s steps(1) infinite;\n",
              "  }\n",
              "\n",
              "  @keyframes spin {\n",
              "    0% {\n",
              "      border-color: transparent;\n",
              "      border-bottom-color: var(--fill-color);\n",
              "      border-left-color: var(--fill-color);\n",
              "    }\n",
              "    20% {\n",
              "      border-color: transparent;\n",
              "      border-left-color: var(--fill-color);\n",
              "      border-top-color: var(--fill-color);\n",
              "    }\n",
              "    30% {\n",
              "      border-color: transparent;\n",
              "      border-left-color: var(--fill-color);\n",
              "      border-top-color: var(--fill-color);\n",
              "      border-right-color: var(--fill-color);\n",
              "    }\n",
              "    40% {\n",
              "      border-color: transparent;\n",
              "      border-right-color: var(--fill-color);\n",
              "      border-top-color: var(--fill-color);\n",
              "    }\n",
              "    60% {\n",
              "      border-color: transparent;\n",
              "      border-right-color: var(--fill-color);\n",
              "    }\n",
              "    80% {\n",
              "      border-color: transparent;\n",
              "      border-right-color: var(--fill-color);\n",
              "      border-bottom-color: var(--fill-color);\n",
              "    }\n",
              "    90% {\n",
              "      border-color: transparent;\n",
              "      border-bottom-color: var(--fill-color);\n",
              "    }\n",
              "  }\n",
              "</style>\n",
              "\n",
              "  <script>\n",
              "    async function quickchart(key) {\n",
              "      const quickchartButtonEl =\n",
              "        document.querySelector('#' + key + ' button');\n",
              "      quickchartButtonEl.disabled = true;  // To prevent multiple clicks.\n",
              "      quickchartButtonEl.classList.add('colab-df-spinner');\n",
              "      try {\n",
              "        const charts = await google.colab.kernel.invokeFunction(\n",
              "            'suggestCharts', [key], {});\n",
              "      } catch (error) {\n",
              "        console.error('Error during call to suggestCharts:', error);\n",
              "      }\n",
              "      quickchartButtonEl.classList.remove('colab-df-spinner');\n",
              "      quickchartButtonEl.classList.add('colab-df-quickchart-complete');\n",
              "    }\n",
              "    (() => {\n",
              "      let quickchartButtonEl =\n",
              "        document.querySelector('#df-29949ddf-e5c1-44ae-bc72-6ebf11fbb8bc button');\n",
              "      quickchartButtonEl.style.display =\n",
              "        google.colab.kernel.accessAllowed ? 'block' : 'none';\n",
              "    })();\n",
              "  </script>\n",
              "</div>\n",
              "\n",
              "    </div>\n",
              "  </div>\n"
            ],
            "application/vnd.google.colaboratory.intrinsic+json": {
              "type": "dataframe",
              "summary": "{\n  \"name\": \"data[[\\\"Workout_Frequency (days/week)\\\" , \\\"Calories_Burned\\\", \\\"Weight (kg)\\\"]]\",\n  \"rows\": 3,\n  \"fields\": [\n    {\n      \"column\": \"Workout_Frequency (days/week)\",\n      \"properties\": {\n        \"dtype\": \"number\",\n        \"std\": 0.5080969678539011,\n        \"min\": -0.011769327834281394,\n        \"max\": 1.0,\n        \"num_unique_values\": 3,\n        \"samples\": [\n          1.0,\n          0.5761501254548659,\n          -0.011769327834281394\n        ],\n        \"semantic_type\": \"\",\n        \"description\": \"\"\n      }\n    },\n    {\n      \"column\": \"Calories_Burned\",\n      \"properties\": {\n        \"dtype\": \"number\",\n        \"std\": 0.45257598116612263,\n        \"min\": 0.09544347301217072,\n        \"max\": 1.0,\n        \"num_unique_values\": 3,\n        \"samples\": [\n          0.5761501254548659,\n          1.0,\n          0.09544347301217072\n        ],\n        \"semantic_type\": \"\",\n        \"description\": \"\"\n      }\n    },\n    {\n      \"column\": \"Weight (kg)\",\n      \"properties\": {\n        \"dtype\": \"number\",\n        \"std\": 0.5557868698113001,\n        \"min\": -0.011769327834281394,\n        \"max\": 1.0,\n        \"num_unique_values\": 3,\n        \"samples\": [\n          -0.011769327834281394,\n          0.09544347301217072,\n          1.0\n        ],\n        \"semantic_type\": \"\",\n        \"description\": \"\"\n      }\n    }\n  ]\n}"
            }
          },
          "metadata": {},
          "execution_count": 16
        }
      ]
    }
  ],
  "metadata": {
    "colab": {
      "provenance": [],
      "authorship_tag": "ABX9TyO8reh6LOFdP3K+manOzUSY",
      "include_colab_link": true
    },
    "kernelspec": {
      "display_name": "Python 3",
      "name": "python3"
    },
    "language_info": {
      "name": "python"
    },
    "widgets": {
      "application/vnd.jupyter.widget-state+json": {
        "aaacdfe546d0442384459a67966f0676": {
          "model_module": "@jupyter-widgets/controls",
          "model_name": "HBoxModel",
          "model_module_version": "1.5.0",
          "state": {
            "_dom_classes": [],
            "_model_module": "@jupyter-widgets/controls",
            "_model_module_version": "1.5.0",
            "_model_name": "HBoxModel",
            "_view_count": null,
            "_view_module": "@jupyter-widgets/controls",
            "_view_module_version": "1.5.0",
            "_view_name": "HBoxView",
            "box_style": "",
            "children": [
              "IPY_MODEL_543f50921e874f348b08e03b411cae42",
              "IPY_MODEL_44d7ad81678b43bfae31a48b119557f4",
              "IPY_MODEL_6ab3dfc76c604da8805e74f9a1dc33ed"
            ],
            "layout": "IPY_MODEL_61200d59e0ae4718a17ebdf7361ad4ea"
          }
        },
        "543f50921e874f348b08e03b411cae42": {
          "model_module": "@jupyter-widgets/controls",
          "model_name": "HTMLModel",
          "model_module_version": "1.5.0",
          "state": {
            "_dom_classes": [],
            "_model_module": "@jupyter-widgets/controls",
            "_model_module_version": "1.5.0",
            "_model_name": "HTMLModel",
            "_view_count": null,
            "_view_module": "@jupyter-widgets/controls",
            "_view_module_version": "1.5.0",
            "_view_name": "HTMLView",
            "description": "",
            "description_tooltip": null,
            "layout": "IPY_MODEL_afdf8080b5a741259f05f41911b02b1f",
            "placeholder": "​",
            "style": "IPY_MODEL_9c0cf47deff245508931c3b9ff526a8f",
            "value": "tokenizer_config.json: 100%"
          }
        },
        "44d7ad81678b43bfae31a48b119557f4": {
          "model_module": "@jupyter-widgets/controls",
          "model_name": "FloatProgressModel",
          "model_module_version": "1.5.0",
          "state": {
            "_dom_classes": [],
            "_model_module": "@jupyter-widgets/controls",
            "_model_module_version": "1.5.0",
            "_model_name": "FloatProgressModel",
            "_view_count": null,
            "_view_module": "@jupyter-widgets/controls",
            "_view_module_version": "1.5.0",
            "_view_name": "ProgressView",
            "bar_style": "success",
            "description": "",
            "description_tooltip": null,
            "layout": "IPY_MODEL_d4fcfbfa49974f429dbf82e238c424a1",
            "max": 26,
            "min": 0,
            "orientation": "horizontal",
            "style": "IPY_MODEL_4b53c5696f4d488081cdc24b71fcff7d",
            "value": 26
          }
        },
        "6ab3dfc76c604da8805e74f9a1dc33ed": {
          "model_module": "@jupyter-widgets/controls",
          "model_name": "HTMLModel",
          "model_module_version": "1.5.0",
          "state": {
            "_dom_classes": [],
            "_model_module": "@jupyter-widgets/controls",
            "_model_module_version": "1.5.0",
            "_model_name": "HTMLModel",
            "_view_count": null,
            "_view_module": "@jupyter-widgets/controls",
            "_view_module_version": "1.5.0",
            "_view_name": "HTMLView",
            "description": "",
            "description_tooltip": null,
            "layout": "IPY_MODEL_ceca104fd835403b8f7d75c6de903973",
            "placeholder": "​",
            "style": "IPY_MODEL_854c676705a747a1a4da857454d73cb6",
            "value": " 26.0/26.0 [00:00&lt;00:00, 1.64kB/s]"
          }
        },
        "61200d59e0ae4718a17ebdf7361ad4ea": {
          "model_module": "@jupyter-widgets/base",
          "model_name": "LayoutModel",
          "model_module_version": "1.2.0",
          "state": {
            "_model_module": "@jupyter-widgets/base",
            "_model_module_version": "1.2.0",
            "_model_name": "LayoutModel",
            "_view_count": null,
            "_view_module": "@jupyter-widgets/base",
            "_view_module_version": "1.2.0",
            "_view_name": "LayoutView",
            "align_content": null,
            "align_items": null,
            "align_self": null,
            "border": null,
            "bottom": null,
            "display": null,
            "flex": null,
            "flex_flow": null,
            "grid_area": null,
            "grid_auto_columns": null,
            "grid_auto_flow": null,
            "grid_auto_rows": null,
            "grid_column": null,
            "grid_gap": null,
            "grid_row": null,
            "grid_template_areas": null,
            "grid_template_columns": null,
            "grid_template_rows": null,
            "height": null,
            "justify_content": null,
            "justify_items": null,
            "left": null,
            "margin": null,
            "max_height": null,
            "max_width": null,
            "min_height": null,
            "min_width": null,
            "object_fit": null,
            "object_position": null,
            "order": null,
            "overflow": null,
            "overflow_x": null,
            "overflow_y": null,
            "padding": null,
            "right": null,
            "top": null,
            "visibility": null,
            "width": null
          }
        },
        "afdf8080b5a741259f05f41911b02b1f": {
          "model_module": "@jupyter-widgets/base",
          "model_name": "LayoutModel",
          "model_module_version": "1.2.0",
          "state": {
            "_model_module": "@jupyter-widgets/base",
            "_model_module_version": "1.2.0",
            "_model_name": "LayoutModel",
            "_view_count": null,
            "_view_module": "@jupyter-widgets/base",
            "_view_module_version": "1.2.0",
            "_view_name": "LayoutView",
            "align_content": null,
            "align_items": null,
            "align_self": null,
            "border": null,
            "bottom": null,
            "display": null,
            "flex": null,
            "flex_flow": null,
            "grid_area": null,
            "grid_auto_columns": null,
            "grid_auto_flow": null,
            "grid_auto_rows": null,
            "grid_column": null,
            "grid_gap": null,
            "grid_row": null,
            "grid_template_areas": null,
            "grid_template_columns": null,
            "grid_template_rows": null,
            "height": null,
            "justify_content": null,
            "justify_items": null,
            "left": null,
            "margin": null,
            "max_height": null,
            "max_width": null,
            "min_height": null,
            "min_width": null,
            "object_fit": null,
            "object_position": null,
            "order": null,
            "overflow": null,
            "overflow_x": null,
            "overflow_y": null,
            "padding": null,
            "right": null,
            "top": null,
            "visibility": null,
            "width": null
          }
        },
        "9c0cf47deff245508931c3b9ff526a8f": {
          "model_module": "@jupyter-widgets/controls",
          "model_name": "DescriptionStyleModel",
          "model_module_version": "1.5.0",
          "state": {
            "_model_module": "@jupyter-widgets/controls",
            "_model_module_version": "1.5.0",
            "_model_name": "DescriptionStyleModel",
            "_view_count": null,
            "_view_module": "@jupyter-widgets/base",
            "_view_module_version": "1.2.0",
            "_view_name": "StyleView",
            "description_width": ""
          }
        },
        "d4fcfbfa49974f429dbf82e238c424a1": {
          "model_module": "@jupyter-widgets/base",
          "model_name": "LayoutModel",
          "model_module_version": "1.2.0",
          "state": {
            "_model_module": "@jupyter-widgets/base",
            "_model_module_version": "1.2.0",
            "_model_name": "LayoutModel",
            "_view_count": null,
            "_view_module": "@jupyter-widgets/base",
            "_view_module_version": "1.2.0",
            "_view_name": "LayoutView",
            "align_content": null,
            "align_items": null,
            "align_self": null,
            "border": null,
            "bottom": null,
            "display": null,
            "flex": null,
            "flex_flow": null,
            "grid_area": null,
            "grid_auto_columns": null,
            "grid_auto_flow": null,
            "grid_auto_rows": null,
            "grid_column": null,
            "grid_gap": null,
            "grid_row": null,
            "grid_template_areas": null,
            "grid_template_columns": null,
            "grid_template_rows": null,
            "height": null,
            "justify_content": null,
            "justify_items": null,
            "left": null,
            "margin": null,
            "max_height": null,
            "max_width": null,
            "min_height": null,
            "min_width": null,
            "object_fit": null,
            "object_position": null,
            "order": null,
            "overflow": null,
            "overflow_x": null,
            "overflow_y": null,
            "padding": null,
            "right": null,
            "top": null,
            "visibility": null,
            "width": null
          }
        },
        "4b53c5696f4d488081cdc24b71fcff7d": {
          "model_module": "@jupyter-widgets/controls",
          "model_name": "ProgressStyleModel",
          "model_module_version": "1.5.0",
          "state": {
            "_model_module": "@jupyter-widgets/controls",
            "_model_module_version": "1.5.0",
            "_model_name": "ProgressStyleModel",
            "_view_count": null,
            "_view_module": "@jupyter-widgets/base",
            "_view_module_version": "1.2.0",
            "_view_name": "StyleView",
            "bar_color": null,
            "description_width": ""
          }
        },
        "ceca104fd835403b8f7d75c6de903973": {
          "model_module": "@jupyter-widgets/base",
          "model_name": "LayoutModel",
          "model_module_version": "1.2.0",
          "state": {
            "_model_module": "@jupyter-widgets/base",
            "_model_module_version": "1.2.0",
            "_model_name": "LayoutModel",
            "_view_count": null,
            "_view_module": "@jupyter-widgets/base",
            "_view_module_version": "1.2.0",
            "_view_name": "LayoutView",
            "align_content": null,
            "align_items": null,
            "align_self": null,
            "border": null,
            "bottom": null,
            "display": null,
            "flex": null,
            "flex_flow": null,
            "grid_area": null,
            "grid_auto_columns": null,
            "grid_auto_flow": null,
            "grid_auto_rows": null,
            "grid_column": null,
            "grid_gap": null,
            "grid_row": null,
            "grid_template_areas": null,
            "grid_template_columns": null,
            "grid_template_rows": null,
            "height": null,
            "justify_content": null,
            "justify_items": null,
            "left": null,
            "margin": null,
            "max_height": null,
            "max_width": null,
            "min_height": null,
            "min_width": null,
            "object_fit": null,
            "object_position": null,
            "order": null,
            "overflow": null,
            "overflow_x": null,
            "overflow_y": null,
            "padding": null,
            "right": null,
            "top": null,
            "visibility": null,
            "width": null
          }
        },
        "854c676705a747a1a4da857454d73cb6": {
          "model_module": "@jupyter-widgets/controls",
          "model_name": "DescriptionStyleModel",
          "model_module_version": "1.5.0",
          "state": {
            "_model_module": "@jupyter-widgets/controls",
            "_model_module_version": "1.5.0",
            "_model_name": "DescriptionStyleModel",
            "_view_count": null,
            "_view_module": "@jupyter-widgets/base",
            "_view_module_version": "1.2.0",
            "_view_name": "StyleView",
            "description_width": ""
          }
        },
        "25760bdf50d3422ca9a1e75da337ef42": {
          "model_module": "@jupyter-widgets/controls",
          "model_name": "HBoxModel",
          "model_module_version": "1.5.0",
          "state": {
            "_dom_classes": [],
            "_model_module": "@jupyter-widgets/controls",
            "_model_module_version": "1.5.0",
            "_model_name": "HBoxModel",
            "_view_count": null,
            "_view_module": "@jupyter-widgets/controls",
            "_view_module_version": "1.5.0",
            "_view_name": "HBoxView",
            "box_style": "",
            "children": [
              "IPY_MODEL_c91d7100dd9b4c1397c51618d1bbfce7",
              "IPY_MODEL_7f64991c980f49d3b8a595617781954b",
              "IPY_MODEL_7468fa0edc40460eb682c1e2ce9ed10d"
            ],
            "layout": "IPY_MODEL_c9ff47c24c3046c0825680bf66622ccb"
          }
        },
        "c91d7100dd9b4c1397c51618d1bbfce7": {
          "model_module": "@jupyter-widgets/controls",
          "model_name": "HTMLModel",
          "model_module_version": "1.5.0",
          "state": {
            "_dom_classes": [],
            "_model_module": "@jupyter-widgets/controls",
            "_model_module_version": "1.5.0",
            "_model_name": "HTMLModel",
            "_view_count": null,
            "_view_module": "@jupyter-widgets/controls",
            "_view_module_version": "1.5.0",
            "_view_name": "HTMLView",
            "description": "",
            "description_tooltip": null,
            "layout": "IPY_MODEL_725996aec8e541cdbcb824f1b93fcccf",
            "placeholder": "​",
            "style": "IPY_MODEL_c6751c174389404c9bd791631660a177",
            "value": "vocab.json: 100%"
          }
        },
        "7f64991c980f49d3b8a595617781954b": {
          "model_module": "@jupyter-widgets/controls",
          "model_name": "FloatProgressModel",
          "model_module_version": "1.5.0",
          "state": {
            "_dom_classes": [],
            "_model_module": "@jupyter-widgets/controls",
            "_model_module_version": "1.5.0",
            "_model_name": "FloatProgressModel",
            "_view_count": null,
            "_view_module": "@jupyter-widgets/controls",
            "_view_module_version": "1.5.0",
            "_view_name": "ProgressView",
            "bar_style": "success",
            "description": "",
            "description_tooltip": null,
            "layout": "IPY_MODEL_95aa41ee283d44b3a194b60fddae5045",
            "max": 1042301,
            "min": 0,
            "orientation": "horizontal",
            "style": "IPY_MODEL_bb2588c619974fb09b92051d7bfcac64",
            "value": 1042301
          }
        },
        "7468fa0edc40460eb682c1e2ce9ed10d": {
          "model_module": "@jupyter-widgets/controls",
          "model_name": "HTMLModel",
          "model_module_version": "1.5.0",
          "state": {
            "_dom_classes": [],
            "_model_module": "@jupyter-widgets/controls",
            "_model_module_version": "1.5.0",
            "_model_name": "HTMLModel",
            "_view_count": null,
            "_view_module": "@jupyter-widgets/controls",
            "_view_module_version": "1.5.0",
            "_view_name": "HTMLView",
            "description": "",
            "description_tooltip": null,
            "layout": "IPY_MODEL_779f909004df4bef841bb66da8ab5ce6",
            "placeholder": "​",
            "style": "IPY_MODEL_7c731d7928234dd2b159d601032bf501",
            "value": " 1.04M/1.04M [00:00&lt;00:00, 5.26MB/s]"
          }
        },
        "c9ff47c24c3046c0825680bf66622ccb": {
          "model_module": "@jupyter-widgets/base",
          "model_name": "LayoutModel",
          "model_module_version": "1.2.0",
          "state": {
            "_model_module": "@jupyter-widgets/base",
            "_model_module_version": "1.2.0",
            "_model_name": "LayoutModel",
            "_view_count": null,
            "_view_module": "@jupyter-widgets/base",
            "_view_module_version": "1.2.0",
            "_view_name": "LayoutView",
            "align_content": null,
            "align_items": null,
            "align_self": null,
            "border": null,
            "bottom": null,
            "display": null,
            "flex": null,
            "flex_flow": null,
            "grid_area": null,
            "grid_auto_columns": null,
            "grid_auto_flow": null,
            "grid_auto_rows": null,
            "grid_column": null,
            "grid_gap": null,
            "grid_row": null,
            "grid_template_areas": null,
            "grid_template_columns": null,
            "grid_template_rows": null,
            "height": null,
            "justify_content": null,
            "justify_items": null,
            "left": null,
            "margin": null,
            "max_height": null,
            "max_width": null,
            "min_height": null,
            "min_width": null,
            "object_fit": null,
            "object_position": null,
            "order": null,
            "overflow": null,
            "overflow_x": null,
            "overflow_y": null,
            "padding": null,
            "right": null,
            "top": null,
            "visibility": null,
            "width": null
          }
        },
        "725996aec8e541cdbcb824f1b93fcccf": {
          "model_module": "@jupyter-widgets/base",
          "model_name": "LayoutModel",
          "model_module_version": "1.2.0",
          "state": {
            "_model_module": "@jupyter-widgets/base",
            "_model_module_version": "1.2.0",
            "_model_name": "LayoutModel",
            "_view_count": null,
            "_view_module": "@jupyter-widgets/base",
            "_view_module_version": "1.2.0",
            "_view_name": "LayoutView",
            "align_content": null,
            "align_items": null,
            "align_self": null,
            "border": null,
            "bottom": null,
            "display": null,
            "flex": null,
            "flex_flow": null,
            "grid_area": null,
            "grid_auto_columns": null,
            "grid_auto_flow": null,
            "grid_auto_rows": null,
            "grid_column": null,
            "grid_gap": null,
            "grid_row": null,
            "grid_template_areas": null,
            "grid_template_columns": null,
            "grid_template_rows": null,
            "height": null,
            "justify_content": null,
            "justify_items": null,
            "left": null,
            "margin": null,
            "max_height": null,
            "max_width": null,
            "min_height": null,
            "min_width": null,
            "object_fit": null,
            "object_position": null,
            "order": null,
            "overflow": null,
            "overflow_x": null,
            "overflow_y": null,
            "padding": null,
            "right": null,
            "top": null,
            "visibility": null,
            "width": null
          }
        },
        "c6751c174389404c9bd791631660a177": {
          "model_module": "@jupyter-widgets/controls",
          "model_name": "DescriptionStyleModel",
          "model_module_version": "1.5.0",
          "state": {
            "_model_module": "@jupyter-widgets/controls",
            "_model_module_version": "1.5.0",
            "_model_name": "DescriptionStyleModel",
            "_view_count": null,
            "_view_module": "@jupyter-widgets/base",
            "_view_module_version": "1.2.0",
            "_view_name": "StyleView",
            "description_width": ""
          }
        },
        "95aa41ee283d44b3a194b60fddae5045": {
          "model_module": "@jupyter-widgets/base",
          "model_name": "LayoutModel",
          "model_module_version": "1.2.0",
          "state": {
            "_model_module": "@jupyter-widgets/base",
            "_model_module_version": "1.2.0",
            "_model_name": "LayoutModel",
            "_view_count": null,
            "_view_module": "@jupyter-widgets/base",
            "_view_module_version": "1.2.0",
            "_view_name": "LayoutView",
            "align_content": null,
            "align_items": null,
            "align_self": null,
            "border": null,
            "bottom": null,
            "display": null,
            "flex": null,
            "flex_flow": null,
            "grid_area": null,
            "grid_auto_columns": null,
            "grid_auto_flow": null,
            "grid_auto_rows": null,
            "grid_column": null,
            "grid_gap": null,
            "grid_row": null,
            "grid_template_areas": null,
            "grid_template_columns": null,
            "grid_template_rows": null,
            "height": null,
            "justify_content": null,
            "justify_items": null,
            "left": null,
            "margin": null,
            "max_height": null,
            "max_width": null,
            "min_height": null,
            "min_width": null,
            "object_fit": null,
            "object_position": null,
            "order": null,
            "overflow": null,
            "overflow_x": null,
            "overflow_y": null,
            "padding": null,
            "right": null,
            "top": null,
            "visibility": null,
            "width": null
          }
        },
        "bb2588c619974fb09b92051d7bfcac64": {
          "model_module": "@jupyter-widgets/controls",
          "model_name": "ProgressStyleModel",
          "model_module_version": "1.5.0",
          "state": {
            "_model_module": "@jupyter-widgets/controls",
            "_model_module_version": "1.5.0",
            "_model_name": "ProgressStyleModel",
            "_view_count": null,
            "_view_module": "@jupyter-widgets/base",
            "_view_module_version": "1.2.0",
            "_view_name": "StyleView",
            "bar_color": null,
            "description_width": ""
          }
        },
        "779f909004df4bef841bb66da8ab5ce6": {
          "model_module": "@jupyter-widgets/base",
          "model_name": "LayoutModel",
          "model_module_version": "1.2.0",
          "state": {
            "_model_module": "@jupyter-widgets/base",
            "_model_module_version": "1.2.0",
            "_model_name": "LayoutModel",
            "_view_count": null,
            "_view_module": "@jupyter-widgets/base",
            "_view_module_version": "1.2.0",
            "_view_name": "LayoutView",
            "align_content": null,
            "align_items": null,
            "align_self": null,
            "border": null,
            "bottom": null,
            "display": null,
            "flex": null,
            "flex_flow": null,
            "grid_area": null,
            "grid_auto_columns": null,
            "grid_auto_flow": null,
            "grid_auto_rows": null,
            "grid_column": null,
            "grid_gap": null,
            "grid_row": null,
            "grid_template_areas": null,
            "grid_template_columns": null,
            "grid_template_rows": null,
            "height": null,
            "justify_content": null,
            "justify_items": null,
            "left": null,
            "margin": null,
            "max_height": null,
            "max_width": null,
            "min_height": null,
            "min_width": null,
            "object_fit": null,
            "object_position": null,
            "order": null,
            "overflow": null,
            "overflow_x": null,
            "overflow_y": null,
            "padding": null,
            "right": null,
            "top": null,
            "visibility": null,
            "width": null
          }
        },
        "7c731d7928234dd2b159d601032bf501": {
          "model_module": "@jupyter-widgets/controls",
          "model_name": "DescriptionStyleModel",
          "model_module_version": "1.5.0",
          "state": {
            "_model_module": "@jupyter-widgets/controls",
            "_model_module_version": "1.5.0",
            "_model_name": "DescriptionStyleModel",
            "_view_count": null,
            "_view_module": "@jupyter-widgets/base",
            "_view_module_version": "1.2.0",
            "_view_name": "StyleView",
            "description_width": ""
          }
        },
        "f495801783614304a7436a4880bffc3c": {
          "model_module": "@jupyter-widgets/controls",
          "model_name": "HBoxModel",
          "model_module_version": "1.5.0",
          "state": {
            "_dom_classes": [],
            "_model_module": "@jupyter-widgets/controls",
            "_model_module_version": "1.5.0",
            "_model_name": "HBoxModel",
            "_view_count": null,
            "_view_module": "@jupyter-widgets/controls",
            "_view_module_version": "1.5.0",
            "_view_name": "HBoxView",
            "box_style": "",
            "children": [
              "IPY_MODEL_b1c5d76a69b34c7fb420ecf415aa205b",
              "IPY_MODEL_14e34580b24440dcbd9ca734d52aedf7",
              "IPY_MODEL_f0c7878f23da418da408ec184e781d7b"
            ],
            "layout": "IPY_MODEL_5afc80ab229b45c9bb0ccc58cb32355a"
          }
        },
        "b1c5d76a69b34c7fb420ecf415aa205b": {
          "model_module": "@jupyter-widgets/controls",
          "model_name": "HTMLModel",
          "model_module_version": "1.5.0",
          "state": {
            "_dom_classes": [],
            "_model_module": "@jupyter-widgets/controls",
            "_model_module_version": "1.5.0",
            "_model_name": "HTMLModel",
            "_view_count": null,
            "_view_module": "@jupyter-widgets/controls",
            "_view_module_version": "1.5.0",
            "_view_name": "HTMLView",
            "description": "",
            "description_tooltip": null,
            "layout": "IPY_MODEL_d50602bc5d9d4ddfa813c8957eee64a2",
            "placeholder": "​",
            "style": "IPY_MODEL_6a8ba14cfa6c439388bdac9e9c1c86f2",
            "value": "merges.txt: 100%"
          }
        },
        "14e34580b24440dcbd9ca734d52aedf7": {
          "model_module": "@jupyter-widgets/controls",
          "model_name": "FloatProgressModel",
          "model_module_version": "1.5.0",
          "state": {
            "_dom_classes": [],
            "_model_module": "@jupyter-widgets/controls",
            "_model_module_version": "1.5.0",
            "_model_name": "FloatProgressModel",
            "_view_count": null,
            "_view_module": "@jupyter-widgets/controls",
            "_view_module_version": "1.5.0",
            "_view_name": "ProgressView",
            "bar_style": "success",
            "description": "",
            "description_tooltip": null,
            "layout": "IPY_MODEL_962c6cf6586345f6a2864e587a5e0261",
            "max": 456318,
            "min": 0,
            "orientation": "horizontal",
            "style": "IPY_MODEL_daf7e1277eca44b2b68f19216bf7b2df",
            "value": 456318
          }
        },
        "f0c7878f23da418da408ec184e781d7b": {
          "model_module": "@jupyter-widgets/controls",
          "model_name": "HTMLModel",
          "model_module_version": "1.5.0",
          "state": {
            "_dom_classes": [],
            "_model_module": "@jupyter-widgets/controls",
            "_model_module_version": "1.5.0",
            "_model_name": "HTMLModel",
            "_view_count": null,
            "_view_module": "@jupyter-widgets/controls",
            "_view_module_version": "1.5.0",
            "_view_name": "HTMLView",
            "description": "",
            "description_tooltip": null,
            "layout": "IPY_MODEL_0d8c387dc6984a4f80cb401d177bbb80",
            "placeholder": "​",
            "style": "IPY_MODEL_13ca99f372bd434381b7e4136ec1c78d",
            "value": " 456k/456k [00:00&lt;00:00, 3.50MB/s]"
          }
        },
        "5afc80ab229b45c9bb0ccc58cb32355a": {
          "model_module": "@jupyter-widgets/base",
          "model_name": "LayoutModel",
          "model_module_version": "1.2.0",
          "state": {
            "_model_module": "@jupyter-widgets/base",
            "_model_module_version": "1.2.0",
            "_model_name": "LayoutModel",
            "_view_count": null,
            "_view_module": "@jupyter-widgets/base",
            "_view_module_version": "1.2.0",
            "_view_name": "LayoutView",
            "align_content": null,
            "align_items": null,
            "align_self": null,
            "border": null,
            "bottom": null,
            "display": null,
            "flex": null,
            "flex_flow": null,
            "grid_area": null,
            "grid_auto_columns": null,
            "grid_auto_flow": null,
            "grid_auto_rows": null,
            "grid_column": null,
            "grid_gap": null,
            "grid_row": null,
            "grid_template_areas": null,
            "grid_template_columns": null,
            "grid_template_rows": null,
            "height": null,
            "justify_content": null,
            "justify_items": null,
            "left": null,
            "margin": null,
            "max_height": null,
            "max_width": null,
            "min_height": null,
            "min_width": null,
            "object_fit": null,
            "object_position": null,
            "order": null,
            "overflow": null,
            "overflow_x": null,
            "overflow_y": null,
            "padding": null,
            "right": null,
            "top": null,
            "visibility": null,
            "width": null
          }
        },
        "d50602bc5d9d4ddfa813c8957eee64a2": {
          "model_module": "@jupyter-widgets/base",
          "model_name": "LayoutModel",
          "model_module_version": "1.2.0",
          "state": {
            "_model_module": "@jupyter-widgets/base",
            "_model_module_version": "1.2.0",
            "_model_name": "LayoutModel",
            "_view_count": null,
            "_view_module": "@jupyter-widgets/base",
            "_view_module_version": "1.2.0",
            "_view_name": "LayoutView",
            "align_content": null,
            "align_items": null,
            "align_self": null,
            "border": null,
            "bottom": null,
            "display": null,
            "flex": null,
            "flex_flow": null,
            "grid_area": null,
            "grid_auto_columns": null,
            "grid_auto_flow": null,
            "grid_auto_rows": null,
            "grid_column": null,
            "grid_gap": null,
            "grid_row": null,
            "grid_template_areas": null,
            "grid_template_columns": null,
            "grid_template_rows": null,
            "height": null,
            "justify_content": null,
            "justify_items": null,
            "left": null,
            "margin": null,
            "max_height": null,
            "max_width": null,
            "min_height": null,
            "min_width": null,
            "object_fit": null,
            "object_position": null,
            "order": null,
            "overflow": null,
            "overflow_x": null,
            "overflow_y": null,
            "padding": null,
            "right": null,
            "top": null,
            "visibility": null,
            "width": null
          }
        },
        "6a8ba14cfa6c439388bdac9e9c1c86f2": {
          "model_module": "@jupyter-widgets/controls",
          "model_name": "DescriptionStyleModel",
          "model_module_version": "1.5.0",
          "state": {
            "_model_module": "@jupyter-widgets/controls",
            "_model_module_version": "1.5.0",
            "_model_name": "DescriptionStyleModel",
            "_view_count": null,
            "_view_module": "@jupyter-widgets/base",
            "_view_module_version": "1.2.0",
            "_view_name": "StyleView",
            "description_width": ""
          }
        },
        "962c6cf6586345f6a2864e587a5e0261": {
          "model_module": "@jupyter-widgets/base",
          "model_name": "LayoutModel",
          "model_module_version": "1.2.0",
          "state": {
            "_model_module": "@jupyter-widgets/base",
            "_model_module_version": "1.2.0",
            "_model_name": "LayoutModel",
            "_view_count": null,
            "_view_module": "@jupyter-widgets/base",
            "_view_module_version": "1.2.0",
            "_view_name": "LayoutView",
            "align_content": null,
            "align_items": null,
            "align_self": null,
            "border": null,
            "bottom": null,
            "display": null,
            "flex": null,
            "flex_flow": null,
            "grid_area": null,
            "grid_auto_columns": null,
            "grid_auto_flow": null,
            "grid_auto_rows": null,
            "grid_column": null,
            "grid_gap": null,
            "grid_row": null,
            "grid_template_areas": null,
            "grid_template_columns": null,
            "grid_template_rows": null,
            "height": null,
            "justify_content": null,
            "justify_items": null,
            "left": null,
            "margin": null,
            "max_height": null,
            "max_width": null,
            "min_height": null,
            "min_width": null,
            "object_fit": null,
            "object_position": null,
            "order": null,
            "overflow": null,
            "overflow_x": null,
            "overflow_y": null,
            "padding": null,
            "right": null,
            "top": null,
            "visibility": null,
            "width": null
          }
        },
        "daf7e1277eca44b2b68f19216bf7b2df": {
          "model_module": "@jupyter-widgets/controls",
          "model_name": "ProgressStyleModel",
          "model_module_version": "1.5.0",
          "state": {
            "_model_module": "@jupyter-widgets/controls",
            "_model_module_version": "1.5.0",
            "_model_name": "ProgressStyleModel",
            "_view_count": null,
            "_view_module": "@jupyter-widgets/base",
            "_view_module_version": "1.2.0",
            "_view_name": "StyleView",
            "bar_color": null,
            "description_width": ""
          }
        },
        "0d8c387dc6984a4f80cb401d177bbb80": {
          "model_module": "@jupyter-widgets/base",
          "model_name": "LayoutModel",
          "model_module_version": "1.2.0",
          "state": {
            "_model_module": "@jupyter-widgets/base",
            "_model_module_version": "1.2.0",
            "_model_name": "LayoutModel",
            "_view_count": null,
            "_view_module": "@jupyter-widgets/base",
            "_view_module_version": "1.2.0",
            "_view_name": "LayoutView",
            "align_content": null,
            "align_items": null,
            "align_self": null,
            "border": null,
            "bottom": null,
            "display": null,
            "flex": null,
            "flex_flow": null,
            "grid_area": null,
            "grid_auto_columns": null,
            "grid_auto_flow": null,
            "grid_auto_rows": null,
            "grid_column": null,
            "grid_gap": null,
            "grid_row": null,
            "grid_template_areas": null,
            "grid_template_columns": null,
            "grid_template_rows": null,
            "height": null,
            "justify_content": null,
            "justify_items": null,
            "left": null,
            "margin": null,
            "max_height": null,
            "max_width": null,
            "min_height": null,
            "min_width": null,
            "object_fit": null,
            "object_position": null,
            "order": null,
            "overflow": null,
            "overflow_x": null,
            "overflow_y": null,
            "padding": null,
            "right": null,
            "top": null,
            "visibility": null,
            "width": null
          }
        },
        "13ca99f372bd434381b7e4136ec1c78d": {
          "model_module": "@jupyter-widgets/controls",
          "model_name": "DescriptionStyleModel",
          "model_module_version": "1.5.0",
          "state": {
            "_model_module": "@jupyter-widgets/controls",
            "_model_module_version": "1.5.0",
            "_model_name": "DescriptionStyleModel",
            "_view_count": null,
            "_view_module": "@jupyter-widgets/base",
            "_view_module_version": "1.2.0",
            "_view_name": "StyleView",
            "description_width": ""
          }
        },
        "f18fc5e09b914d718eb7d44a2fc29c18": {
          "model_module": "@jupyter-widgets/controls",
          "model_name": "HBoxModel",
          "model_module_version": "1.5.0",
          "state": {
            "_dom_classes": [],
            "_model_module": "@jupyter-widgets/controls",
            "_model_module_version": "1.5.0",
            "_model_name": "HBoxModel",
            "_view_count": null,
            "_view_module": "@jupyter-widgets/controls",
            "_view_module_version": "1.5.0",
            "_view_name": "HBoxView",
            "box_style": "",
            "children": [
              "IPY_MODEL_57988dc8b32e42c085b5601d6b20e754",
              "IPY_MODEL_4f3bcb1ba75947258147e8f1cef993b1",
              "IPY_MODEL_2fae0250006d4a798d89e458d4c869bb"
            ],
            "layout": "IPY_MODEL_5e34c0f158e34ee8b425de8308d3d6a4"
          }
        },
        "57988dc8b32e42c085b5601d6b20e754": {
          "model_module": "@jupyter-widgets/controls",
          "model_name": "HTMLModel",
          "model_module_version": "1.5.0",
          "state": {
            "_dom_classes": [],
            "_model_module": "@jupyter-widgets/controls",
            "_model_module_version": "1.5.0",
            "_model_name": "HTMLModel",
            "_view_count": null,
            "_view_module": "@jupyter-widgets/controls",
            "_view_module_version": "1.5.0",
            "_view_name": "HTMLView",
            "description": "",
            "description_tooltip": null,
            "layout": "IPY_MODEL_6dc876487c1540e484eb690c6a918b01",
            "placeholder": "​",
            "style": "IPY_MODEL_f672648f8715428cba6931af13228ad5",
            "value": "tokenizer.json: 100%"
          }
        },
        "4f3bcb1ba75947258147e8f1cef993b1": {
          "model_module": "@jupyter-widgets/controls",
          "model_name": "FloatProgressModel",
          "model_module_version": "1.5.0",
          "state": {
            "_dom_classes": [],
            "_model_module": "@jupyter-widgets/controls",
            "_model_module_version": "1.5.0",
            "_model_name": "FloatProgressModel",
            "_view_count": null,
            "_view_module": "@jupyter-widgets/controls",
            "_view_module_version": "1.5.0",
            "_view_name": "ProgressView",
            "bar_style": "success",
            "description": "",
            "description_tooltip": null,
            "layout": "IPY_MODEL_e2d3e742d9b34193952609eeca4cee57",
            "max": 1355256,
            "min": 0,
            "orientation": "horizontal",
            "style": "IPY_MODEL_f8fbb7f5646645d891721aa7059df1ec",
            "value": 1355256
          }
        },
        "2fae0250006d4a798d89e458d4c869bb": {
          "model_module": "@jupyter-widgets/controls",
          "model_name": "HTMLModel",
          "model_module_version": "1.5.0",
          "state": {
            "_dom_classes": [],
            "_model_module": "@jupyter-widgets/controls",
            "_model_module_version": "1.5.0",
            "_model_name": "HTMLModel",
            "_view_count": null,
            "_view_module": "@jupyter-widgets/controls",
            "_view_module_version": "1.5.0",
            "_view_name": "HTMLView",
            "description": "",
            "description_tooltip": null,
            "layout": "IPY_MODEL_326bedd98018497db3c99eba746851e5",
            "placeholder": "​",
            "style": "IPY_MODEL_0bd0b7d210e045e28f05bab0c3cde219",
            "value": " 1.36M/1.36M [00:00&lt;00:00, 6.96MB/s]"
          }
        },
        "5e34c0f158e34ee8b425de8308d3d6a4": {
          "model_module": "@jupyter-widgets/base",
          "model_name": "LayoutModel",
          "model_module_version": "1.2.0",
          "state": {
            "_model_module": "@jupyter-widgets/base",
            "_model_module_version": "1.2.0",
            "_model_name": "LayoutModel",
            "_view_count": null,
            "_view_module": "@jupyter-widgets/base",
            "_view_module_version": "1.2.0",
            "_view_name": "LayoutView",
            "align_content": null,
            "align_items": null,
            "align_self": null,
            "border": null,
            "bottom": null,
            "display": null,
            "flex": null,
            "flex_flow": null,
            "grid_area": null,
            "grid_auto_columns": null,
            "grid_auto_flow": null,
            "grid_auto_rows": null,
            "grid_column": null,
            "grid_gap": null,
            "grid_row": null,
            "grid_template_areas": null,
            "grid_template_columns": null,
            "grid_template_rows": null,
            "height": null,
            "justify_content": null,
            "justify_items": null,
            "left": null,
            "margin": null,
            "max_height": null,
            "max_width": null,
            "min_height": null,
            "min_width": null,
            "object_fit": null,
            "object_position": null,
            "order": null,
            "overflow": null,
            "overflow_x": null,
            "overflow_y": null,
            "padding": null,
            "right": null,
            "top": null,
            "visibility": null,
            "width": null
          }
        },
        "6dc876487c1540e484eb690c6a918b01": {
          "model_module": "@jupyter-widgets/base",
          "model_name": "LayoutModel",
          "model_module_version": "1.2.0",
          "state": {
            "_model_module": "@jupyter-widgets/base",
            "_model_module_version": "1.2.0",
            "_model_name": "LayoutModel",
            "_view_count": null,
            "_view_module": "@jupyter-widgets/base",
            "_view_module_version": "1.2.0",
            "_view_name": "LayoutView",
            "align_content": null,
            "align_items": null,
            "align_self": null,
            "border": null,
            "bottom": null,
            "display": null,
            "flex": null,
            "flex_flow": null,
            "grid_area": null,
            "grid_auto_columns": null,
            "grid_auto_flow": null,
            "grid_auto_rows": null,
            "grid_column": null,
            "grid_gap": null,
            "grid_row": null,
            "grid_template_areas": null,
            "grid_template_columns": null,
            "grid_template_rows": null,
            "height": null,
            "justify_content": null,
            "justify_items": null,
            "left": null,
            "margin": null,
            "max_height": null,
            "max_width": null,
            "min_height": null,
            "min_width": null,
            "object_fit": null,
            "object_position": null,
            "order": null,
            "overflow": null,
            "overflow_x": null,
            "overflow_y": null,
            "padding": null,
            "right": null,
            "top": null,
            "visibility": null,
            "width": null
          }
        },
        "f672648f8715428cba6931af13228ad5": {
          "model_module": "@jupyter-widgets/controls",
          "model_name": "DescriptionStyleModel",
          "model_module_version": "1.5.0",
          "state": {
            "_model_module": "@jupyter-widgets/controls",
            "_model_module_version": "1.5.0",
            "_model_name": "DescriptionStyleModel",
            "_view_count": null,
            "_view_module": "@jupyter-widgets/base",
            "_view_module_version": "1.2.0",
            "_view_name": "StyleView",
            "description_width": ""
          }
        },
        "e2d3e742d9b34193952609eeca4cee57": {
          "model_module": "@jupyter-widgets/base",
          "model_name": "LayoutModel",
          "model_module_version": "1.2.0",
          "state": {
            "_model_module": "@jupyter-widgets/base",
            "_model_module_version": "1.2.0",
            "_model_name": "LayoutModel",
            "_view_count": null,
            "_view_module": "@jupyter-widgets/base",
            "_view_module_version": "1.2.0",
            "_view_name": "LayoutView",
            "align_content": null,
            "align_items": null,
            "align_self": null,
            "border": null,
            "bottom": null,
            "display": null,
            "flex": null,
            "flex_flow": null,
            "grid_area": null,
            "grid_auto_columns": null,
            "grid_auto_flow": null,
            "grid_auto_rows": null,
            "grid_column": null,
            "grid_gap": null,
            "grid_row": null,
            "grid_template_areas": null,
            "grid_template_columns": null,
            "grid_template_rows": null,
            "height": null,
            "justify_content": null,
            "justify_items": null,
            "left": null,
            "margin": null,
            "max_height": null,
            "max_width": null,
            "min_height": null,
            "min_width": null,
            "object_fit": null,
            "object_position": null,
            "order": null,
            "overflow": null,
            "overflow_x": null,
            "overflow_y": null,
            "padding": null,
            "right": null,
            "top": null,
            "visibility": null,
            "width": null
          }
        },
        "f8fbb7f5646645d891721aa7059df1ec": {
          "model_module": "@jupyter-widgets/controls",
          "model_name": "ProgressStyleModel",
          "model_module_version": "1.5.0",
          "state": {
            "_model_module": "@jupyter-widgets/controls",
            "_model_module_version": "1.5.0",
            "_model_name": "ProgressStyleModel",
            "_view_count": null,
            "_view_module": "@jupyter-widgets/base",
            "_view_module_version": "1.2.0",
            "_view_name": "StyleView",
            "bar_color": null,
            "description_width": ""
          }
        },
        "326bedd98018497db3c99eba746851e5": {
          "model_module": "@jupyter-widgets/base",
          "model_name": "LayoutModel",
          "model_module_version": "1.2.0",
          "state": {
            "_model_module": "@jupyter-widgets/base",
            "_model_module_version": "1.2.0",
            "_model_name": "LayoutModel",
            "_view_count": null,
            "_view_module": "@jupyter-widgets/base",
            "_view_module_version": "1.2.0",
            "_view_name": "LayoutView",
            "align_content": null,
            "align_items": null,
            "align_self": null,
            "border": null,
            "bottom": null,
            "display": null,
            "flex": null,
            "flex_flow": null,
            "grid_area": null,
            "grid_auto_columns": null,
            "grid_auto_flow": null,
            "grid_auto_rows": null,
            "grid_column": null,
            "grid_gap": null,
            "grid_row": null,
            "grid_template_areas": null,
            "grid_template_columns": null,
            "grid_template_rows": null,
            "height": null,
            "justify_content": null,
            "justify_items": null,
            "left": null,
            "margin": null,
            "max_height": null,
            "max_width": null,
            "min_height": null,
            "min_width": null,
            "object_fit": null,
            "object_position": null,
            "order": null,
            "overflow": null,
            "overflow_x": null,
            "overflow_y": null,
            "padding": null,
            "right": null,
            "top": null,
            "visibility": null,
            "width": null
          }
        },
        "0bd0b7d210e045e28f05bab0c3cde219": {
          "model_module": "@jupyter-widgets/controls",
          "model_name": "DescriptionStyleModel",
          "model_module_version": "1.5.0",
          "state": {
            "_model_module": "@jupyter-widgets/controls",
            "_model_module_version": "1.5.0",
            "_model_name": "DescriptionStyleModel",
            "_view_count": null,
            "_view_module": "@jupyter-widgets/base",
            "_view_module_version": "1.2.0",
            "_view_name": "StyleView",
            "description_width": ""
          }
        },
        "663c75f620044ef6ad2d8659a52912d1": {
          "model_module": "@jupyter-widgets/controls",
          "model_name": "HBoxModel",
          "model_module_version": "1.5.0",
          "state": {
            "_dom_classes": [],
            "_model_module": "@jupyter-widgets/controls",
            "_model_module_version": "1.5.0",
            "_model_name": "HBoxModel",
            "_view_count": null,
            "_view_module": "@jupyter-widgets/controls",
            "_view_module_version": "1.5.0",
            "_view_name": "HBoxView",
            "box_style": "",
            "children": [
              "IPY_MODEL_562092ceaeb140a1a12c71ae3a4e228a",
              "IPY_MODEL_38ac91bb7c2a486a906ed25517086bae",
              "IPY_MODEL_7356842f1ad44017944991bb333445b1"
            ],
            "layout": "IPY_MODEL_45252643030c4029b93529af61ea0669"
          }
        },
        "562092ceaeb140a1a12c71ae3a4e228a": {
          "model_module": "@jupyter-widgets/controls",
          "model_name": "HTMLModel",
          "model_module_version": "1.5.0",
          "state": {
            "_dom_classes": [],
            "_model_module": "@jupyter-widgets/controls",
            "_model_module_version": "1.5.0",
            "_model_name": "HTMLModel",
            "_view_count": null,
            "_view_module": "@jupyter-widgets/controls",
            "_view_module_version": "1.5.0",
            "_view_name": "HTMLView",
            "description": "",
            "description_tooltip": null,
            "layout": "IPY_MODEL_93a2f05e00bb44a7a8a22463ed160d12",
            "placeholder": "​",
            "style": "IPY_MODEL_2933d39ca3584fcab2926b5f9f041704",
            "value": "config.json: 100%"
          }
        },
        "38ac91bb7c2a486a906ed25517086bae": {
          "model_module": "@jupyter-widgets/controls",
          "model_name": "FloatProgressModel",
          "model_module_version": "1.5.0",
          "state": {
            "_dom_classes": [],
            "_model_module": "@jupyter-widgets/controls",
            "_model_module_version": "1.5.0",
            "_model_name": "FloatProgressModel",
            "_view_count": null,
            "_view_module": "@jupyter-widgets/controls",
            "_view_module_version": "1.5.0",
            "_view_name": "ProgressView",
            "bar_style": "success",
            "description": "",
            "description_tooltip": null,
            "layout": "IPY_MODEL_6eb0c05291f04d8b830c8eebb5b40001",
            "max": 665,
            "min": 0,
            "orientation": "horizontal",
            "style": "IPY_MODEL_4b807ddb7973499da7c3abd87c90a97f",
            "value": 665
          }
        },
        "7356842f1ad44017944991bb333445b1": {
          "model_module": "@jupyter-widgets/controls",
          "model_name": "HTMLModel",
          "model_module_version": "1.5.0",
          "state": {
            "_dom_classes": [],
            "_model_module": "@jupyter-widgets/controls",
            "_model_module_version": "1.5.0",
            "_model_name": "HTMLModel",
            "_view_count": null,
            "_view_module": "@jupyter-widgets/controls",
            "_view_module_version": "1.5.0",
            "_view_name": "HTMLView",
            "description": "",
            "description_tooltip": null,
            "layout": "IPY_MODEL_897e58609bf74fd4a1ea449e313271a9",
            "placeholder": "​",
            "style": "IPY_MODEL_3424bd0c6e4042268aa8c8217f8c5b04",
            "value": " 665/665 [00:00&lt;00:00, 33.2kB/s]"
          }
        },
        "45252643030c4029b93529af61ea0669": {
          "model_module": "@jupyter-widgets/base",
          "model_name": "LayoutModel",
          "model_module_version": "1.2.0",
          "state": {
            "_model_module": "@jupyter-widgets/base",
            "_model_module_version": "1.2.0",
            "_model_name": "LayoutModel",
            "_view_count": null,
            "_view_module": "@jupyter-widgets/base",
            "_view_module_version": "1.2.0",
            "_view_name": "LayoutView",
            "align_content": null,
            "align_items": null,
            "align_self": null,
            "border": null,
            "bottom": null,
            "display": null,
            "flex": null,
            "flex_flow": null,
            "grid_area": null,
            "grid_auto_columns": null,
            "grid_auto_flow": null,
            "grid_auto_rows": null,
            "grid_column": null,
            "grid_gap": null,
            "grid_row": null,
            "grid_template_areas": null,
            "grid_template_columns": null,
            "grid_template_rows": null,
            "height": null,
            "justify_content": null,
            "justify_items": null,
            "left": null,
            "margin": null,
            "max_height": null,
            "max_width": null,
            "min_height": null,
            "min_width": null,
            "object_fit": null,
            "object_position": null,
            "order": null,
            "overflow": null,
            "overflow_x": null,
            "overflow_y": null,
            "padding": null,
            "right": null,
            "top": null,
            "visibility": null,
            "width": null
          }
        },
        "93a2f05e00bb44a7a8a22463ed160d12": {
          "model_module": "@jupyter-widgets/base",
          "model_name": "LayoutModel",
          "model_module_version": "1.2.0",
          "state": {
            "_model_module": "@jupyter-widgets/base",
            "_model_module_version": "1.2.0",
            "_model_name": "LayoutModel",
            "_view_count": null,
            "_view_module": "@jupyter-widgets/base",
            "_view_module_version": "1.2.0",
            "_view_name": "LayoutView",
            "align_content": null,
            "align_items": null,
            "align_self": null,
            "border": null,
            "bottom": null,
            "display": null,
            "flex": null,
            "flex_flow": null,
            "grid_area": null,
            "grid_auto_columns": null,
            "grid_auto_flow": null,
            "grid_auto_rows": null,
            "grid_column": null,
            "grid_gap": null,
            "grid_row": null,
            "grid_template_areas": null,
            "grid_template_columns": null,
            "grid_template_rows": null,
            "height": null,
            "justify_content": null,
            "justify_items": null,
            "left": null,
            "margin": null,
            "max_height": null,
            "max_width": null,
            "min_height": null,
            "min_width": null,
            "object_fit": null,
            "object_position": null,
            "order": null,
            "overflow": null,
            "overflow_x": null,
            "overflow_y": null,
            "padding": null,
            "right": null,
            "top": null,
            "visibility": null,
            "width": null
          }
        },
        "2933d39ca3584fcab2926b5f9f041704": {
          "model_module": "@jupyter-widgets/controls",
          "model_name": "DescriptionStyleModel",
          "model_module_version": "1.5.0",
          "state": {
            "_model_module": "@jupyter-widgets/controls",
            "_model_module_version": "1.5.0",
            "_model_name": "DescriptionStyleModel",
            "_view_count": null,
            "_view_module": "@jupyter-widgets/base",
            "_view_module_version": "1.2.0",
            "_view_name": "StyleView",
            "description_width": ""
          }
        },
        "6eb0c05291f04d8b830c8eebb5b40001": {
          "model_module": "@jupyter-widgets/base",
          "model_name": "LayoutModel",
          "model_module_version": "1.2.0",
          "state": {
            "_model_module": "@jupyter-widgets/base",
            "_model_module_version": "1.2.0",
            "_model_name": "LayoutModel",
            "_view_count": null,
            "_view_module": "@jupyter-widgets/base",
            "_view_module_version": "1.2.0",
            "_view_name": "LayoutView",
            "align_content": null,
            "align_items": null,
            "align_self": null,
            "border": null,
            "bottom": null,
            "display": null,
            "flex": null,
            "flex_flow": null,
            "grid_area": null,
            "grid_auto_columns": null,
            "grid_auto_flow": null,
            "grid_auto_rows": null,
            "grid_column": null,
            "grid_gap": null,
            "grid_row": null,
            "grid_template_areas": null,
            "grid_template_columns": null,
            "grid_template_rows": null,
            "height": null,
            "justify_content": null,
            "justify_items": null,
            "left": null,
            "margin": null,
            "max_height": null,
            "max_width": null,
            "min_height": null,
            "min_width": null,
            "object_fit": null,
            "object_position": null,
            "order": null,
            "overflow": null,
            "overflow_x": null,
            "overflow_y": null,
            "padding": null,
            "right": null,
            "top": null,
            "visibility": null,
            "width": null
          }
        },
        "4b807ddb7973499da7c3abd87c90a97f": {
          "model_module": "@jupyter-widgets/controls",
          "model_name": "ProgressStyleModel",
          "model_module_version": "1.5.0",
          "state": {
            "_model_module": "@jupyter-widgets/controls",
            "_model_module_version": "1.5.0",
            "_model_name": "ProgressStyleModel",
            "_view_count": null,
            "_view_module": "@jupyter-widgets/base",
            "_view_module_version": "1.2.0",
            "_view_name": "StyleView",
            "bar_color": null,
            "description_width": ""
          }
        },
        "897e58609bf74fd4a1ea449e313271a9": {
          "model_module": "@jupyter-widgets/base",
          "model_name": "LayoutModel",
          "model_module_version": "1.2.0",
          "state": {
            "_model_module": "@jupyter-widgets/base",
            "_model_module_version": "1.2.0",
            "_model_name": "LayoutModel",
            "_view_count": null,
            "_view_module": "@jupyter-widgets/base",
            "_view_module_version": "1.2.0",
            "_view_name": "LayoutView",
            "align_content": null,
            "align_items": null,
            "align_self": null,
            "border": null,
            "bottom": null,
            "display": null,
            "flex": null,
            "flex_flow": null,
            "grid_area": null,
            "grid_auto_columns": null,
            "grid_auto_flow": null,
            "grid_auto_rows": null,
            "grid_column": null,
            "grid_gap": null,
            "grid_row": null,
            "grid_template_areas": null,
            "grid_template_columns": null,
            "grid_template_rows": null,
            "height": null,
            "justify_content": null,
            "justify_items": null,
            "left": null,
            "margin": null,
            "max_height": null,
            "max_width": null,
            "min_height": null,
            "min_width": null,
            "object_fit": null,
            "object_position": null,
            "order": null,
            "overflow": null,
            "overflow_x": null,
            "overflow_y": null,
            "padding": null,
            "right": null,
            "top": null,
            "visibility": null,
            "width": null
          }
        },
        "3424bd0c6e4042268aa8c8217f8c5b04": {
          "model_module": "@jupyter-widgets/controls",
          "model_name": "DescriptionStyleModel",
          "model_module_version": "1.5.0",
          "state": {
            "_model_module": "@jupyter-widgets/controls",
            "_model_module_version": "1.5.0",
            "_model_name": "DescriptionStyleModel",
            "_view_count": null,
            "_view_module": "@jupyter-widgets/base",
            "_view_module_version": "1.2.0",
            "_view_name": "StyleView",
            "description_width": ""
          }
        },
        "b77e5566c744478295b2885223d6e707": {
          "model_module": "@jupyter-widgets/controls",
          "model_name": "HBoxModel",
          "model_module_version": "1.5.0",
          "state": {
            "_dom_classes": [],
            "_model_module": "@jupyter-widgets/controls",
            "_model_module_version": "1.5.0",
            "_model_name": "HBoxModel",
            "_view_count": null,
            "_view_module": "@jupyter-widgets/controls",
            "_view_module_version": "1.5.0",
            "_view_name": "HBoxView",
            "box_style": "",
            "children": [
              "IPY_MODEL_4f494e88bc4249e684bb2c6f2cd8f5a4",
              "IPY_MODEL_65e196273b3f4348940e18aa57ab0cb0",
              "IPY_MODEL_f4a398179434468cae0fddfea772d553"
            ],
            "layout": "IPY_MODEL_2b58f201cd8345cb814c085ed474cd45"
          }
        },
        "4f494e88bc4249e684bb2c6f2cd8f5a4": {
          "model_module": "@jupyter-widgets/controls",
          "model_name": "HTMLModel",
          "model_module_version": "1.5.0",
          "state": {
            "_dom_classes": [],
            "_model_module": "@jupyter-widgets/controls",
            "_model_module_version": "1.5.0",
            "_model_name": "HTMLModel",
            "_view_count": null,
            "_view_module": "@jupyter-widgets/controls",
            "_view_module_version": "1.5.0",
            "_view_name": "HTMLView",
            "description": "",
            "description_tooltip": null,
            "layout": "IPY_MODEL_5aa80766e99c4f8e9e61c1ef31e5287d",
            "placeholder": "​",
            "style": "IPY_MODEL_dae3229625a440f499152f176b6d743c",
            "value": "model.safetensors: 100%"
          }
        },
        "65e196273b3f4348940e18aa57ab0cb0": {
          "model_module": "@jupyter-widgets/controls",
          "model_name": "FloatProgressModel",
          "model_module_version": "1.5.0",
          "state": {
            "_dom_classes": [],
            "_model_module": "@jupyter-widgets/controls",
            "_model_module_version": "1.5.0",
            "_model_name": "FloatProgressModel",
            "_view_count": null,
            "_view_module": "@jupyter-widgets/controls",
            "_view_module_version": "1.5.0",
            "_view_name": "ProgressView",
            "bar_style": "success",
            "description": "",
            "description_tooltip": null,
            "layout": "IPY_MODEL_a46ce0f7cfea4b2a889118af2a77cac7",
            "max": 548105171,
            "min": 0,
            "orientation": "horizontal",
            "style": "IPY_MODEL_30abd34595ff43f19d14ad7e4b340c75",
            "value": 548105171
          }
        },
        "f4a398179434468cae0fddfea772d553": {
          "model_module": "@jupyter-widgets/controls",
          "model_name": "HTMLModel",
          "model_module_version": "1.5.0",
          "state": {
            "_dom_classes": [],
            "_model_module": "@jupyter-widgets/controls",
            "_model_module_version": "1.5.0",
            "_model_name": "HTMLModel",
            "_view_count": null,
            "_view_module": "@jupyter-widgets/controls",
            "_view_module_version": "1.5.0",
            "_view_name": "HTMLView",
            "description": "",
            "description_tooltip": null,
            "layout": "IPY_MODEL_d7c30bde12ca46a58be512a79f16d022",
            "placeholder": "​",
            "style": "IPY_MODEL_216efc214a974ce993598382fdb53079",
            "value": " 548M/548M [00:08&lt;00:00, 61.2MB/s]"
          }
        },
        "2b58f201cd8345cb814c085ed474cd45": {
          "model_module": "@jupyter-widgets/base",
          "model_name": "LayoutModel",
          "model_module_version": "1.2.0",
          "state": {
            "_model_module": "@jupyter-widgets/base",
            "_model_module_version": "1.2.0",
            "_model_name": "LayoutModel",
            "_view_count": null,
            "_view_module": "@jupyter-widgets/base",
            "_view_module_version": "1.2.0",
            "_view_name": "LayoutView",
            "align_content": null,
            "align_items": null,
            "align_self": null,
            "border": null,
            "bottom": null,
            "display": null,
            "flex": null,
            "flex_flow": null,
            "grid_area": null,
            "grid_auto_columns": null,
            "grid_auto_flow": null,
            "grid_auto_rows": null,
            "grid_column": null,
            "grid_gap": null,
            "grid_row": null,
            "grid_template_areas": null,
            "grid_template_columns": null,
            "grid_template_rows": null,
            "height": null,
            "justify_content": null,
            "justify_items": null,
            "left": null,
            "margin": null,
            "max_height": null,
            "max_width": null,
            "min_height": null,
            "min_width": null,
            "object_fit": null,
            "object_position": null,
            "order": null,
            "overflow": null,
            "overflow_x": null,
            "overflow_y": null,
            "padding": null,
            "right": null,
            "top": null,
            "visibility": null,
            "width": null
          }
        },
        "5aa80766e99c4f8e9e61c1ef31e5287d": {
          "model_module": "@jupyter-widgets/base",
          "model_name": "LayoutModel",
          "model_module_version": "1.2.0",
          "state": {
            "_model_module": "@jupyter-widgets/base",
            "_model_module_version": "1.2.0",
            "_model_name": "LayoutModel",
            "_view_count": null,
            "_view_module": "@jupyter-widgets/base",
            "_view_module_version": "1.2.0",
            "_view_name": "LayoutView",
            "align_content": null,
            "align_items": null,
            "align_self": null,
            "border": null,
            "bottom": null,
            "display": null,
            "flex": null,
            "flex_flow": null,
            "grid_area": null,
            "grid_auto_columns": null,
            "grid_auto_flow": null,
            "grid_auto_rows": null,
            "grid_column": null,
            "grid_gap": null,
            "grid_row": null,
            "grid_template_areas": null,
            "grid_template_columns": null,
            "grid_template_rows": null,
            "height": null,
            "justify_content": null,
            "justify_items": null,
            "left": null,
            "margin": null,
            "max_height": null,
            "max_width": null,
            "min_height": null,
            "min_width": null,
            "object_fit": null,
            "object_position": null,
            "order": null,
            "overflow": null,
            "overflow_x": null,
            "overflow_y": null,
            "padding": null,
            "right": null,
            "top": null,
            "visibility": null,
            "width": null
          }
        },
        "dae3229625a440f499152f176b6d743c": {
          "model_module": "@jupyter-widgets/controls",
          "model_name": "DescriptionStyleModel",
          "model_module_version": "1.5.0",
          "state": {
            "_model_module": "@jupyter-widgets/controls",
            "_model_module_version": "1.5.0",
            "_model_name": "DescriptionStyleModel",
            "_view_count": null,
            "_view_module": "@jupyter-widgets/base",
            "_view_module_version": "1.2.0",
            "_view_name": "StyleView",
            "description_width": ""
          }
        },
        "a46ce0f7cfea4b2a889118af2a77cac7": {
          "model_module": "@jupyter-widgets/base",
          "model_name": "LayoutModel",
          "model_module_version": "1.2.0",
          "state": {
            "_model_module": "@jupyter-widgets/base",
            "_model_module_version": "1.2.0",
            "_model_name": "LayoutModel",
            "_view_count": null,
            "_view_module": "@jupyter-widgets/base",
            "_view_module_version": "1.2.0",
            "_view_name": "LayoutView",
            "align_content": null,
            "align_items": null,
            "align_self": null,
            "border": null,
            "bottom": null,
            "display": null,
            "flex": null,
            "flex_flow": null,
            "grid_area": null,
            "grid_auto_columns": null,
            "grid_auto_flow": null,
            "grid_auto_rows": null,
            "grid_column": null,
            "grid_gap": null,
            "grid_row": null,
            "grid_template_areas": null,
            "grid_template_columns": null,
            "grid_template_rows": null,
            "height": null,
            "justify_content": null,
            "justify_items": null,
            "left": null,
            "margin": null,
            "max_height": null,
            "max_width": null,
            "min_height": null,
            "min_width": null,
            "object_fit": null,
            "object_position": null,
            "order": null,
            "overflow": null,
            "overflow_x": null,
            "overflow_y": null,
            "padding": null,
            "right": null,
            "top": null,
            "visibility": null,
            "width": null
          }
        },
        "30abd34595ff43f19d14ad7e4b340c75": {
          "model_module": "@jupyter-widgets/controls",
          "model_name": "ProgressStyleModel",
          "model_module_version": "1.5.0",
          "state": {
            "_model_module": "@jupyter-widgets/controls",
            "_model_module_version": "1.5.0",
            "_model_name": "ProgressStyleModel",
            "_view_count": null,
            "_view_module": "@jupyter-widgets/base",
            "_view_module_version": "1.2.0",
            "_view_name": "StyleView",
            "bar_color": null,
            "description_width": ""
          }
        },
        "d7c30bde12ca46a58be512a79f16d022": {
          "model_module": "@jupyter-widgets/base",
          "model_name": "LayoutModel",
          "model_module_version": "1.2.0",
          "state": {
            "_model_module": "@jupyter-widgets/base",
            "_model_module_version": "1.2.0",
            "_model_name": "LayoutModel",
            "_view_count": null,
            "_view_module": "@jupyter-widgets/base",
            "_view_module_version": "1.2.0",
            "_view_name": "LayoutView",
            "align_content": null,
            "align_items": null,
            "align_self": null,
            "border": null,
            "bottom": null,
            "display": null,
            "flex": null,
            "flex_flow": null,
            "grid_area": null,
            "grid_auto_columns": null,
            "grid_auto_flow": null,
            "grid_auto_rows": null,
            "grid_column": null,
            "grid_gap": null,
            "grid_row": null,
            "grid_template_areas": null,
            "grid_template_columns": null,
            "grid_template_rows": null,
            "height": null,
            "justify_content": null,
            "justify_items": null,
            "left": null,
            "margin": null,
            "max_height": null,
            "max_width": null,
            "min_height": null,
            "min_width": null,
            "object_fit": null,
            "object_position": null,
            "order": null,
            "overflow": null,
            "overflow_x": null,
            "overflow_y": null,
            "padding": null,
            "right": null,
            "top": null,
            "visibility": null,
            "width": null
          }
        },
        "216efc214a974ce993598382fdb53079": {
          "model_module": "@jupyter-widgets/controls",
          "model_name": "DescriptionStyleModel",
          "model_module_version": "1.5.0",
          "state": {
            "_model_module": "@jupyter-widgets/controls",
            "_model_module_version": "1.5.0",
            "_model_name": "DescriptionStyleModel",
            "_view_count": null,
            "_view_module": "@jupyter-widgets/base",
            "_view_module_version": "1.2.0",
            "_view_name": "StyleView",
            "description_width": ""
          }
        },
        "de48d7e9044a4800afc1dc53a6c5d92c": {
          "model_module": "@jupyter-widgets/controls",
          "model_name": "HBoxModel",
          "model_module_version": "1.5.0",
          "state": {
            "_dom_classes": [],
            "_model_module": "@jupyter-widgets/controls",
            "_model_module_version": "1.5.0",
            "_model_name": "HBoxModel",
            "_view_count": null,
            "_view_module": "@jupyter-widgets/controls",
            "_view_module_version": "1.5.0",
            "_view_name": "HBoxView",
            "box_style": "",
            "children": [
              "IPY_MODEL_595d7b5940974a1baff4f21c287aa4e4",
              "IPY_MODEL_a180ddd88ae249a7ab656a47099870c1",
              "IPY_MODEL_1586f4d427a7404a9f47f7eaca969e4e"
            ],
            "layout": "IPY_MODEL_30d00c8e3fda4b67ad425b2d8bcc976e"
          }
        },
        "595d7b5940974a1baff4f21c287aa4e4": {
          "model_module": "@jupyter-widgets/controls",
          "model_name": "HTMLModel",
          "model_module_version": "1.5.0",
          "state": {
            "_dom_classes": [],
            "_model_module": "@jupyter-widgets/controls",
            "_model_module_version": "1.5.0",
            "_model_name": "HTMLModel",
            "_view_count": null,
            "_view_module": "@jupyter-widgets/controls",
            "_view_module_version": "1.5.0",
            "_view_name": "HTMLView",
            "description": "",
            "description_tooltip": null,
            "layout": "IPY_MODEL_7fdc468a4635436fbf6db6b290440fc2",
            "placeholder": "​",
            "style": "IPY_MODEL_eb718f8063af420599ad6990a6df0c91",
            "value": "generation_config.json: 100%"
          }
        },
        "a180ddd88ae249a7ab656a47099870c1": {
          "model_module": "@jupyter-widgets/controls",
          "model_name": "FloatProgressModel",
          "model_module_version": "1.5.0",
          "state": {
            "_dom_classes": [],
            "_model_module": "@jupyter-widgets/controls",
            "_model_module_version": "1.5.0",
            "_model_name": "FloatProgressModel",
            "_view_count": null,
            "_view_module": "@jupyter-widgets/controls",
            "_view_module_version": "1.5.0",
            "_view_name": "ProgressView",
            "bar_style": "success",
            "description": "",
            "description_tooltip": null,
            "layout": "IPY_MODEL_b5b2309c0c2e441ba2425b98fd231c1e",
            "max": 124,
            "min": 0,
            "orientation": "horizontal",
            "style": "IPY_MODEL_bc236d9cb63748549c161fc3b13fc95d",
            "value": 124
          }
        },
        "1586f4d427a7404a9f47f7eaca969e4e": {
          "model_module": "@jupyter-widgets/controls",
          "model_name": "HTMLModel",
          "model_module_version": "1.5.0",
          "state": {
            "_dom_classes": [],
            "_model_module": "@jupyter-widgets/controls",
            "_model_module_version": "1.5.0",
            "_model_name": "HTMLModel",
            "_view_count": null,
            "_view_module": "@jupyter-widgets/controls",
            "_view_module_version": "1.5.0",
            "_view_name": "HTMLView",
            "description": "",
            "description_tooltip": null,
            "layout": "IPY_MODEL_f067ee4f4dbc4130a705eb70ae7fe99f",
            "placeholder": "​",
            "style": "IPY_MODEL_c84501eec43f4938af8e0a8b1880b18e",
            "value": " 124/124 [00:00&lt;00:00, 2.59kB/s]"
          }
        },
        "30d00c8e3fda4b67ad425b2d8bcc976e": {
          "model_module": "@jupyter-widgets/base",
          "model_name": "LayoutModel",
          "model_module_version": "1.2.0",
          "state": {
            "_model_module": "@jupyter-widgets/base",
            "_model_module_version": "1.2.0",
            "_model_name": "LayoutModel",
            "_view_count": null,
            "_view_module": "@jupyter-widgets/base",
            "_view_module_version": "1.2.0",
            "_view_name": "LayoutView",
            "align_content": null,
            "align_items": null,
            "align_self": null,
            "border": null,
            "bottom": null,
            "display": null,
            "flex": null,
            "flex_flow": null,
            "grid_area": null,
            "grid_auto_columns": null,
            "grid_auto_flow": null,
            "grid_auto_rows": null,
            "grid_column": null,
            "grid_gap": null,
            "grid_row": null,
            "grid_template_areas": null,
            "grid_template_columns": null,
            "grid_template_rows": null,
            "height": null,
            "justify_content": null,
            "justify_items": null,
            "left": null,
            "margin": null,
            "max_height": null,
            "max_width": null,
            "min_height": null,
            "min_width": null,
            "object_fit": null,
            "object_position": null,
            "order": null,
            "overflow": null,
            "overflow_x": null,
            "overflow_y": null,
            "padding": null,
            "right": null,
            "top": null,
            "visibility": null,
            "width": null
          }
        },
        "7fdc468a4635436fbf6db6b290440fc2": {
          "model_module": "@jupyter-widgets/base",
          "model_name": "LayoutModel",
          "model_module_version": "1.2.0",
          "state": {
            "_model_module": "@jupyter-widgets/base",
            "_model_module_version": "1.2.0",
            "_model_name": "LayoutModel",
            "_view_count": null,
            "_view_module": "@jupyter-widgets/base",
            "_view_module_version": "1.2.0",
            "_view_name": "LayoutView",
            "align_content": null,
            "align_items": null,
            "align_self": null,
            "border": null,
            "bottom": null,
            "display": null,
            "flex": null,
            "flex_flow": null,
            "grid_area": null,
            "grid_auto_columns": null,
            "grid_auto_flow": null,
            "grid_auto_rows": null,
            "grid_column": null,
            "grid_gap": null,
            "grid_row": null,
            "grid_template_areas": null,
            "grid_template_columns": null,
            "grid_template_rows": null,
            "height": null,
            "justify_content": null,
            "justify_items": null,
            "left": null,
            "margin": null,
            "max_height": null,
            "max_width": null,
            "min_height": null,
            "min_width": null,
            "object_fit": null,
            "object_position": null,
            "order": null,
            "overflow": null,
            "overflow_x": null,
            "overflow_y": null,
            "padding": null,
            "right": null,
            "top": null,
            "visibility": null,
            "width": null
          }
        },
        "eb718f8063af420599ad6990a6df0c91": {
          "model_module": "@jupyter-widgets/controls",
          "model_name": "DescriptionStyleModel",
          "model_module_version": "1.5.0",
          "state": {
            "_model_module": "@jupyter-widgets/controls",
            "_model_module_version": "1.5.0",
            "_model_name": "DescriptionStyleModel",
            "_view_count": null,
            "_view_module": "@jupyter-widgets/base",
            "_view_module_version": "1.2.0",
            "_view_name": "StyleView",
            "description_width": ""
          }
        },
        "b5b2309c0c2e441ba2425b98fd231c1e": {
          "model_module": "@jupyter-widgets/base",
          "model_name": "LayoutModel",
          "model_module_version": "1.2.0",
          "state": {
            "_model_module": "@jupyter-widgets/base",
            "_model_module_version": "1.2.0",
            "_model_name": "LayoutModel",
            "_view_count": null,
            "_view_module": "@jupyter-widgets/base",
            "_view_module_version": "1.2.0",
            "_view_name": "LayoutView",
            "align_content": null,
            "align_items": null,
            "align_self": null,
            "border": null,
            "bottom": null,
            "display": null,
            "flex": null,
            "flex_flow": null,
            "grid_area": null,
            "grid_auto_columns": null,
            "grid_auto_flow": null,
            "grid_auto_rows": null,
            "grid_column": null,
            "grid_gap": null,
            "grid_row": null,
            "grid_template_areas": null,
            "grid_template_columns": null,
            "grid_template_rows": null,
            "height": null,
            "justify_content": null,
            "justify_items": null,
            "left": null,
            "margin": null,
            "max_height": null,
            "max_width": null,
            "min_height": null,
            "min_width": null,
            "object_fit": null,
            "object_position": null,
            "order": null,
            "overflow": null,
            "overflow_x": null,
            "overflow_y": null,
            "padding": null,
            "right": null,
            "top": null,
            "visibility": null,
            "width": null
          }
        },
        "bc236d9cb63748549c161fc3b13fc95d": {
          "model_module": "@jupyter-widgets/controls",
          "model_name": "ProgressStyleModel",
          "model_module_version": "1.5.0",
          "state": {
            "_model_module": "@jupyter-widgets/controls",
            "_model_module_version": "1.5.0",
            "_model_name": "ProgressStyleModel",
            "_view_count": null,
            "_view_module": "@jupyter-widgets/base",
            "_view_module_version": "1.2.0",
            "_view_name": "StyleView",
            "bar_color": null,
            "description_width": ""
          }
        },
        "f067ee4f4dbc4130a705eb70ae7fe99f": {
          "model_module": "@jupyter-widgets/base",
          "model_name": "LayoutModel",
          "model_module_version": "1.2.0",
          "state": {
            "_model_module": "@jupyter-widgets/base",
            "_model_module_version": "1.2.0",
            "_model_name": "LayoutModel",
            "_view_count": null,
            "_view_module": "@jupyter-widgets/base",
            "_view_module_version": "1.2.0",
            "_view_name": "LayoutView",
            "align_content": null,
            "align_items": null,
            "align_self": null,
            "border": null,
            "bottom": null,
            "display": null,
            "flex": null,
            "flex_flow": null,
            "grid_area": null,
            "grid_auto_columns": null,
            "grid_auto_flow": null,
            "grid_auto_rows": null,
            "grid_column": null,
            "grid_gap": null,
            "grid_row": null,
            "grid_template_areas": null,
            "grid_template_columns": null,
            "grid_template_rows": null,
            "height": null,
            "justify_content": null,
            "justify_items": null,
            "left": null,
            "margin": null,
            "max_height": null,
            "max_width": null,
            "min_height": null,
            "min_width": null,
            "object_fit": null,
            "object_position": null,
            "order": null,
            "overflow": null,
            "overflow_x": null,
            "overflow_y": null,
            "padding": null,
            "right": null,
            "top": null,
            "visibility": null,
            "width": null
          }
        },
        "c84501eec43f4938af8e0a8b1880b18e": {
          "model_module": "@jupyter-widgets/controls",
          "model_name": "DescriptionStyleModel",
          "model_module_version": "1.5.0",
          "state": {
            "_model_module": "@jupyter-widgets/controls",
            "_model_module_version": "1.5.0",
            "_model_name": "DescriptionStyleModel",
            "_view_count": null,
            "_view_module": "@jupyter-widgets/base",
            "_view_module_version": "1.2.0",
            "_view_name": "StyleView",
            "description_width": ""
          }
        }
      }
    }
  },
  "nbformat": 4,
  "nbformat_minor": 0
}